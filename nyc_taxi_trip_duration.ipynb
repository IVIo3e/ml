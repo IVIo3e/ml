{
  "nbformat": 4,
  "nbformat_minor": 0,
  "metadata": {
    "colab": {
      "name": "nyc-taxi-trip-duration.ipynb",
      "provenance": [],
      "collapsed_sections": [],
      "authorship_tag": "ABX9TyNbeNTVJkTtmZhFENNseN5n"
    },
    "kernelspec": {
      "name": "python3",
      "display_name": "Python 3"
    },
    "language_info": {
      "name": "python"
    },
    "accelerator": "GPU",
    "widgets": {
      "application/vnd.jupyter.widget-state+json": {
        "f59e4cb1dbaf463cb7875990801bd954": {
          "model_module": "@jupyter-widgets/controls",
          "model_name": "VBoxModel",
          "model_module_version": "1.5.0",
          "state": {
            "_dom_classes": [],
            "_model_module": "@jupyter-widgets/controls",
            "_model_module_version": "1.5.0",
            "_model_name": "VBoxModel",
            "_view_count": null,
            "_view_module": "@jupyter-widgets/controls",
            "_view_module_version": "1.5.0",
            "_view_name": "VBoxView",
            "box_style": "",
            "children": [
              "IPY_MODEL_8f91dc3735d94630a68e9b54d7e244cc"
            ],
            "layout": "IPY_MODEL_ab56249cb76e435196d8a977a993a875"
          }
        },
        "8f91dc3735d94630a68e9b54d7e244cc": {
          "model_module": "@jupyter-widgets/controls",
          "model_name": "HBoxModel",
          "model_module_version": "1.5.0",
          "state": {
            "_dom_classes": [],
            "_model_module": "@jupyter-widgets/controls",
            "_model_module_version": "1.5.0",
            "_model_name": "HBoxModel",
            "_view_count": null,
            "_view_module": "@jupyter-widgets/controls",
            "_view_module_version": "1.5.0",
            "_view_name": "HBoxView",
            "box_style": "",
            "children": [
              "IPY_MODEL_7def1235c3b645fd8a513ce7e9ecd64d",
              "IPY_MODEL_da1b61cb481942dca00800653ebf888e"
            ],
            "layout": "IPY_MODEL_44f1037b4ce54b5a8e1b77df9a174335"
          }
        },
        "ab56249cb76e435196d8a977a993a875": {
          "model_module": "@jupyter-widgets/base",
          "model_name": "LayoutModel",
          "model_module_version": "1.2.0",
          "state": {
            "_model_module": "@jupyter-widgets/base",
            "_model_module_version": "1.2.0",
            "_model_name": "LayoutModel",
            "_view_count": null,
            "_view_module": "@jupyter-widgets/base",
            "_view_module_version": "1.2.0",
            "_view_name": "LayoutView",
            "align_content": null,
            "align_items": null,
            "align_self": null,
            "border": null,
            "bottom": null,
            "display": null,
            "flex": null,
            "flex_flow": null,
            "grid_area": null,
            "grid_auto_columns": null,
            "grid_auto_flow": null,
            "grid_auto_rows": null,
            "grid_column": null,
            "grid_gap": null,
            "grid_row": null,
            "grid_template_areas": null,
            "grid_template_columns": null,
            "grid_template_rows": null,
            "height": null,
            "justify_content": null,
            "justify_items": null,
            "left": null,
            "margin": null,
            "max_height": null,
            "max_width": null,
            "min_height": null,
            "min_width": null,
            "object_fit": null,
            "object_position": null,
            "order": null,
            "overflow": null,
            "overflow_x": null,
            "overflow_y": null,
            "padding": null,
            "right": null,
            "top": null,
            "visibility": null,
            "width": null
          }
        },
        "7def1235c3b645fd8a513ce7e9ecd64d": {
          "model_module": "@jupyter-widgets/controls",
          "model_name": "IntProgressModel",
          "model_module_version": "1.5.0",
          "state": {
            "_dom_classes": [],
            "_model_module": "@jupyter-widgets/controls",
            "_model_module_version": "1.5.0",
            "_model_name": "IntProgressModel",
            "_view_count": null,
            "_view_module": "@jupyter-widgets/controls",
            "_view_module_version": "1.5.0",
            "_view_name": "ProgressView",
            "bar_style": "success",
            "description": "100.00%",
            "description_tooltip": null,
            "layout": "IPY_MODEL_6d5c0e114dfa4a9fa22585dee4ed6e6e",
            "max": 1458612,
            "min": 0,
            "orientation": "horizontal",
            "style": "IPY_MODEL_37a87b891a8e4e62af1deadcc73a38af",
            "value": 1458612
          }
        },
        "da1b61cb481942dca00800653ebf888e": {
          "model_module": "@jupyter-widgets/controls",
          "model_name": "LabelModel",
          "model_module_version": "1.5.0",
          "state": {
            "_dom_classes": [],
            "_model_module": "@jupyter-widgets/controls",
            "_model_module_version": "1.5.0",
            "_model_name": "LabelModel",
            "_view_count": null,
            "_view_module": "@jupyter-widgets/controls",
            "_view_module_version": "1.5.0",
            "_view_name": "LabelView",
            "description": "",
            "description_tooltip": null,
            "layout": "IPY_MODEL_c1bce2630275484d80845e5298a84a75",
            "placeholder": "​",
            "style": "IPY_MODEL_f6c7a67f6253429ca022a5900dddcd08",
            "value": "1458612 / 1458612"
          }
        },
        "44f1037b4ce54b5a8e1b77df9a174335": {
          "model_module": "@jupyter-widgets/base",
          "model_name": "LayoutModel",
          "model_module_version": "1.2.0",
          "state": {
            "_model_module": "@jupyter-widgets/base",
            "_model_module_version": "1.2.0",
            "_model_name": "LayoutModel",
            "_view_count": null,
            "_view_module": "@jupyter-widgets/base",
            "_view_module_version": "1.2.0",
            "_view_name": "LayoutView",
            "align_content": null,
            "align_items": null,
            "align_self": null,
            "border": null,
            "bottom": null,
            "display": null,
            "flex": null,
            "flex_flow": null,
            "grid_area": null,
            "grid_auto_columns": null,
            "grid_auto_flow": null,
            "grid_auto_rows": null,
            "grid_column": null,
            "grid_gap": null,
            "grid_row": null,
            "grid_template_areas": null,
            "grid_template_columns": null,
            "grid_template_rows": null,
            "height": null,
            "justify_content": null,
            "justify_items": null,
            "left": null,
            "margin": null,
            "max_height": null,
            "max_width": null,
            "min_height": null,
            "min_width": null,
            "object_fit": null,
            "object_position": null,
            "order": null,
            "overflow": null,
            "overflow_x": null,
            "overflow_y": null,
            "padding": null,
            "right": null,
            "top": null,
            "visibility": null,
            "width": null
          }
        },
        "6d5c0e114dfa4a9fa22585dee4ed6e6e": {
          "model_module": "@jupyter-widgets/base",
          "model_name": "LayoutModel",
          "model_module_version": "1.2.0",
          "state": {
            "_model_module": "@jupyter-widgets/base",
            "_model_module_version": "1.2.0",
            "_model_name": "LayoutModel",
            "_view_count": null,
            "_view_module": "@jupyter-widgets/base",
            "_view_module_version": "1.2.0",
            "_view_name": "LayoutView",
            "align_content": null,
            "align_items": null,
            "align_self": null,
            "border": null,
            "bottom": null,
            "display": null,
            "flex": null,
            "flex_flow": null,
            "grid_area": null,
            "grid_auto_columns": null,
            "grid_auto_flow": null,
            "grid_auto_rows": null,
            "grid_column": null,
            "grid_gap": null,
            "grid_row": null,
            "grid_template_areas": null,
            "grid_template_columns": null,
            "grid_template_rows": null,
            "height": null,
            "justify_content": null,
            "justify_items": null,
            "left": null,
            "margin": null,
            "max_height": null,
            "max_width": null,
            "min_height": null,
            "min_width": null,
            "object_fit": null,
            "object_position": null,
            "order": null,
            "overflow": null,
            "overflow_x": null,
            "overflow_y": null,
            "padding": null,
            "right": null,
            "top": null,
            "visibility": null,
            "width": null
          }
        },
        "37a87b891a8e4e62af1deadcc73a38af": {
          "model_module": "@jupyter-widgets/controls",
          "model_name": "ProgressStyleModel",
          "model_module_version": "1.5.0",
          "state": {
            "_model_module": "@jupyter-widgets/controls",
            "_model_module_version": "1.5.0",
            "_model_name": "ProgressStyleModel",
            "_view_count": null,
            "_view_module": "@jupyter-widgets/base",
            "_view_module_version": "1.2.0",
            "_view_name": "StyleView",
            "bar_color": null,
            "description_width": ""
          }
        },
        "c1bce2630275484d80845e5298a84a75": {
          "model_module": "@jupyter-widgets/base",
          "model_name": "LayoutModel",
          "model_module_version": "1.2.0",
          "state": {
            "_model_module": "@jupyter-widgets/base",
            "_model_module_version": "1.2.0",
            "_model_name": "LayoutModel",
            "_view_count": null,
            "_view_module": "@jupyter-widgets/base",
            "_view_module_version": "1.2.0",
            "_view_name": "LayoutView",
            "align_content": null,
            "align_items": null,
            "align_self": null,
            "border": null,
            "bottom": null,
            "display": null,
            "flex": null,
            "flex_flow": null,
            "grid_area": null,
            "grid_auto_columns": null,
            "grid_auto_flow": null,
            "grid_auto_rows": null,
            "grid_column": null,
            "grid_gap": null,
            "grid_row": null,
            "grid_template_areas": null,
            "grid_template_columns": null,
            "grid_template_rows": null,
            "height": null,
            "justify_content": null,
            "justify_items": null,
            "left": null,
            "margin": null,
            "max_height": null,
            "max_width": null,
            "min_height": null,
            "min_width": null,
            "object_fit": null,
            "object_position": null,
            "order": null,
            "overflow": null,
            "overflow_x": null,
            "overflow_y": null,
            "padding": null,
            "right": null,
            "top": null,
            "visibility": null,
            "width": null
          }
        },
        "f6c7a67f6253429ca022a5900dddcd08": {
          "model_module": "@jupyter-widgets/controls",
          "model_name": "DescriptionStyleModel",
          "model_module_version": "1.5.0",
          "state": {
            "_model_module": "@jupyter-widgets/controls",
            "_model_module_version": "1.5.0",
            "_model_name": "DescriptionStyleModel",
            "_view_count": null,
            "_view_module": "@jupyter-widgets/base",
            "_view_module_version": "1.2.0",
            "_view_name": "StyleView",
            "description_width": ""
          }
        },
        "2030459868594cfb86d73c50452f29e0": {
          "model_module": "@jupyter-widgets/controls",
          "model_name": "VBoxModel",
          "model_module_version": "1.5.0",
          "state": {
            "_dom_classes": [],
            "_model_module": "@jupyter-widgets/controls",
            "_model_module_version": "1.5.0",
            "_model_name": "VBoxModel",
            "_view_count": null,
            "_view_module": "@jupyter-widgets/controls",
            "_view_module_version": "1.5.0",
            "_view_name": "VBoxView",
            "box_style": "",
            "children": [
              "IPY_MODEL_a57b4b80d38e439b8664c90dac5f08d3"
            ],
            "layout": "IPY_MODEL_b635c537670f4541bffe5ddd5a4386b7"
          }
        },
        "a57b4b80d38e439b8664c90dac5f08d3": {
          "model_module": "@jupyter-widgets/controls",
          "model_name": "HBoxModel",
          "model_module_version": "1.5.0",
          "state": {
            "_dom_classes": [],
            "_model_module": "@jupyter-widgets/controls",
            "_model_module_version": "1.5.0",
            "_model_name": "HBoxModel",
            "_view_count": null,
            "_view_module": "@jupyter-widgets/controls",
            "_view_module_version": "1.5.0",
            "_view_name": "HBoxView",
            "box_style": "",
            "children": [
              "IPY_MODEL_9862de7fad4d4754aa0eaf06c0fed144",
              "IPY_MODEL_f17f65652712489e835a3170ca0f30c5"
            ],
            "layout": "IPY_MODEL_1279a7075f9c446991a17f997c71eb2b"
          }
        },
        "b635c537670f4541bffe5ddd5a4386b7": {
          "model_module": "@jupyter-widgets/base",
          "model_name": "LayoutModel",
          "model_module_version": "1.2.0",
          "state": {
            "_model_module": "@jupyter-widgets/base",
            "_model_module_version": "1.2.0",
            "_model_name": "LayoutModel",
            "_view_count": null,
            "_view_module": "@jupyter-widgets/base",
            "_view_module_version": "1.2.0",
            "_view_name": "LayoutView",
            "align_content": null,
            "align_items": null,
            "align_self": null,
            "border": null,
            "bottom": null,
            "display": null,
            "flex": null,
            "flex_flow": null,
            "grid_area": null,
            "grid_auto_columns": null,
            "grid_auto_flow": null,
            "grid_auto_rows": null,
            "grid_column": null,
            "grid_gap": null,
            "grid_row": null,
            "grid_template_areas": null,
            "grid_template_columns": null,
            "grid_template_rows": null,
            "height": null,
            "justify_content": null,
            "justify_items": null,
            "left": null,
            "margin": null,
            "max_height": null,
            "max_width": null,
            "min_height": null,
            "min_width": null,
            "object_fit": null,
            "object_position": null,
            "order": null,
            "overflow": null,
            "overflow_x": null,
            "overflow_y": null,
            "padding": null,
            "right": null,
            "top": null,
            "visibility": null,
            "width": null
          }
        },
        "9862de7fad4d4754aa0eaf06c0fed144": {
          "model_module": "@jupyter-widgets/controls",
          "model_name": "IntProgressModel",
          "model_module_version": "1.5.0",
          "state": {
            "_dom_classes": [],
            "_model_module": "@jupyter-widgets/controls",
            "_model_module_version": "1.5.0",
            "_model_name": "IntProgressModel",
            "_view_count": null,
            "_view_module": "@jupyter-widgets/controls",
            "_view_module_version": "1.5.0",
            "_view_name": "ProgressView",
            "bar_style": "success",
            "description": "100.00%",
            "description_tooltip": null,
            "layout": "IPY_MODEL_88e47a6abe6a42c3810007e56f49e5cd",
            "max": 625134,
            "min": 0,
            "orientation": "horizontal",
            "style": "IPY_MODEL_38e39202f95341289df72fbd7d54289a",
            "value": 625134
          }
        },
        "f17f65652712489e835a3170ca0f30c5": {
          "model_module": "@jupyter-widgets/controls",
          "model_name": "LabelModel",
          "model_module_version": "1.5.0",
          "state": {
            "_dom_classes": [],
            "_model_module": "@jupyter-widgets/controls",
            "_model_module_version": "1.5.0",
            "_model_name": "LabelModel",
            "_view_count": null,
            "_view_module": "@jupyter-widgets/controls",
            "_view_module_version": "1.5.0",
            "_view_name": "LabelView",
            "description": "",
            "description_tooltip": null,
            "layout": "IPY_MODEL_6923c8d1181f4c22b67c9b3c34234420",
            "placeholder": "​",
            "style": "IPY_MODEL_f1b78375a5c34c7e95140bbeb5dbde61",
            "value": "625134 / 625134"
          }
        },
        "1279a7075f9c446991a17f997c71eb2b": {
          "model_module": "@jupyter-widgets/base",
          "model_name": "LayoutModel",
          "model_module_version": "1.2.0",
          "state": {
            "_model_module": "@jupyter-widgets/base",
            "_model_module_version": "1.2.0",
            "_model_name": "LayoutModel",
            "_view_count": null,
            "_view_module": "@jupyter-widgets/base",
            "_view_module_version": "1.2.0",
            "_view_name": "LayoutView",
            "align_content": null,
            "align_items": null,
            "align_self": null,
            "border": null,
            "bottom": null,
            "display": null,
            "flex": null,
            "flex_flow": null,
            "grid_area": null,
            "grid_auto_columns": null,
            "grid_auto_flow": null,
            "grid_auto_rows": null,
            "grid_column": null,
            "grid_gap": null,
            "grid_row": null,
            "grid_template_areas": null,
            "grid_template_columns": null,
            "grid_template_rows": null,
            "height": null,
            "justify_content": null,
            "justify_items": null,
            "left": null,
            "margin": null,
            "max_height": null,
            "max_width": null,
            "min_height": null,
            "min_width": null,
            "object_fit": null,
            "object_position": null,
            "order": null,
            "overflow": null,
            "overflow_x": null,
            "overflow_y": null,
            "padding": null,
            "right": null,
            "top": null,
            "visibility": null,
            "width": null
          }
        },
        "88e47a6abe6a42c3810007e56f49e5cd": {
          "model_module": "@jupyter-widgets/base",
          "model_name": "LayoutModel",
          "model_module_version": "1.2.0",
          "state": {
            "_model_module": "@jupyter-widgets/base",
            "_model_module_version": "1.2.0",
            "_model_name": "LayoutModel",
            "_view_count": null,
            "_view_module": "@jupyter-widgets/base",
            "_view_module_version": "1.2.0",
            "_view_name": "LayoutView",
            "align_content": null,
            "align_items": null,
            "align_self": null,
            "border": null,
            "bottom": null,
            "display": null,
            "flex": null,
            "flex_flow": null,
            "grid_area": null,
            "grid_auto_columns": null,
            "grid_auto_flow": null,
            "grid_auto_rows": null,
            "grid_column": null,
            "grid_gap": null,
            "grid_row": null,
            "grid_template_areas": null,
            "grid_template_columns": null,
            "grid_template_rows": null,
            "height": null,
            "justify_content": null,
            "justify_items": null,
            "left": null,
            "margin": null,
            "max_height": null,
            "max_width": null,
            "min_height": null,
            "min_width": null,
            "object_fit": null,
            "object_position": null,
            "order": null,
            "overflow": null,
            "overflow_x": null,
            "overflow_y": null,
            "padding": null,
            "right": null,
            "top": null,
            "visibility": null,
            "width": null
          }
        },
        "38e39202f95341289df72fbd7d54289a": {
          "model_module": "@jupyter-widgets/controls",
          "model_name": "ProgressStyleModel",
          "model_module_version": "1.5.0",
          "state": {
            "_model_module": "@jupyter-widgets/controls",
            "_model_module_version": "1.5.0",
            "_model_name": "ProgressStyleModel",
            "_view_count": null,
            "_view_module": "@jupyter-widgets/base",
            "_view_module_version": "1.2.0",
            "_view_name": "StyleView",
            "bar_color": null,
            "description_width": ""
          }
        },
        "6923c8d1181f4c22b67c9b3c34234420": {
          "model_module": "@jupyter-widgets/base",
          "model_name": "LayoutModel",
          "model_module_version": "1.2.0",
          "state": {
            "_model_module": "@jupyter-widgets/base",
            "_model_module_version": "1.2.0",
            "_model_name": "LayoutModel",
            "_view_count": null,
            "_view_module": "@jupyter-widgets/base",
            "_view_module_version": "1.2.0",
            "_view_name": "LayoutView",
            "align_content": null,
            "align_items": null,
            "align_self": null,
            "border": null,
            "bottom": null,
            "display": null,
            "flex": null,
            "flex_flow": null,
            "grid_area": null,
            "grid_auto_columns": null,
            "grid_auto_flow": null,
            "grid_auto_rows": null,
            "grid_column": null,
            "grid_gap": null,
            "grid_row": null,
            "grid_template_areas": null,
            "grid_template_columns": null,
            "grid_template_rows": null,
            "height": null,
            "justify_content": null,
            "justify_items": null,
            "left": null,
            "margin": null,
            "max_height": null,
            "max_width": null,
            "min_height": null,
            "min_width": null,
            "object_fit": null,
            "object_position": null,
            "order": null,
            "overflow": null,
            "overflow_x": null,
            "overflow_y": null,
            "padding": null,
            "right": null,
            "top": null,
            "visibility": null,
            "width": null
          }
        },
        "f1b78375a5c34c7e95140bbeb5dbde61": {
          "model_module": "@jupyter-widgets/controls",
          "model_name": "DescriptionStyleModel",
          "model_module_version": "1.5.0",
          "state": {
            "_model_module": "@jupyter-widgets/controls",
            "_model_module_version": "1.5.0",
            "_model_name": "DescriptionStyleModel",
            "_view_count": null,
            "_view_module": "@jupyter-widgets/base",
            "_view_module_version": "1.2.0",
            "_view_name": "StyleView",
            "description_width": ""
          }
        }
      }
    }
  },
  "cells": [
    {
      "cell_type": "markdown",
      "source": [
        "#Скачивание данных"
      ],
      "metadata": {
        "id": "y0AEh7fPwWo8"
      }
    },
    {
      "cell_type": "code",
      "execution_count": null,
      "metadata": {
        "colab": {
          "base_uri": "https://localhost:8080/"
        },
        "id": "E9GBRs9TzCzf",
        "outputId": "6e4121da-684a-4602-e048-fd1d1731f31d"
      },
      "outputs": [
        {
          "output_type": "stream",
          "name": "stdout",
          "text": [
            "rm: cannot remove '/root/.kaggle': No such file or directory\n",
            "Downloading nyc-taxi-trip-duration.zip to /content\n",
            " 92% 79.0M/85.8M [00:01<00:00, 58.6MB/s]\n",
            "100% 85.8M/85.8M [00:01<00:00, 51.5MB/s]\n"
          ]
        }
      ],
      "source": [
        "!pip install -q kaggle\n",
        "!rm -r ~/.kaggle\n",
        "!mkdir ~/.kaggle\n",
        "!mv ./kaggle.json ~/.kaggle/\n",
        "!chmod 600 ~/.kaggle/kaggle.json\n",
        "!kaggle competitions download -c nyc-taxi-trip-duration"
      ]
    },
    {
      "cell_type": "code",
      "source": [
        "!unzip nyc-taxi-trip-duration.zip -d nyc-taxi-trip-duration\n",
        "!unzip nyc-taxi-trip-duration/test.zip -d nyc-taxi-trip-duration\n",
        "!unzip nyc-taxi-trip-duration/train.zip -d nyc-taxi-trip-duration\n",
        "\n",
        "!rm nyc-taxi-trip-duration.zip\n",
        "!rm nyc-taxi-trip-duration/train.zip\n",
        "!rm nyc-taxi-trip-duration/test.zip"
      ],
      "metadata": {
        "colab": {
          "base_uri": "https://localhost:8080/"
        },
        "id": "t6Z_h4b01cdI",
        "outputId": "bd09a79f-8d7c-4b6e-a35b-44de524f899e"
      },
      "execution_count": null,
      "outputs": [
        {
          "output_type": "stream",
          "name": "stdout",
          "text": [
            "Archive:  nyc-taxi-trip-duration.zip\n",
            "  inflating: nyc-taxi-trip-duration/sample_submission.zip  \n",
            "  inflating: nyc-taxi-trip-duration/test.zip  \n",
            "  inflating: nyc-taxi-trip-duration/train.zip  \n",
            "Archive:  nyc-taxi-trip-duration/test.zip\n",
            "  inflating: nyc-taxi-trip-duration/test.csv  \n",
            "Archive:  nyc-taxi-trip-duration/train.zip\n",
            "  inflating: nyc-taxi-trip-duration/train.csv  \n"
          ]
        }
      ]
    },
    {
      "cell_type": "code",
      "source": [
        "!pip install pandarallel"
      ],
      "metadata": {
        "id": "HkYB7_ue6VgM"
      },
      "execution_count": null,
      "outputs": []
    },
    {
      "cell_type": "markdown",
      "source": [
        "#Чтение данных"
      ],
      "metadata": {
        "id": "sUA4ijqVwPW5"
      }
    },
    {
      "cell_type": "code",
      "source": [
        "import pandas as pd\n",
        "import numpy as np\n",
        "\n",
        "import matplotlib.pyplot as plt\n",
        "import seaborn as sns\n",
        "\n",
        "from tqdm import tqdm_notebook\n",
        "from datetime import datetime, timedelta\n",
        "\n",
        "import warnings\n",
        "\n",
        "warnings.filterwarnings('ignore')"
      ],
      "metadata": {
        "id": "cQ4L6iW26mr6"
      },
      "execution_count": null,
      "outputs": []
    },
    {
      "cell_type": "code",
      "source": [
        "df = pd.read_csv('nyc-taxi-trip-duration/train.csv')\n",
        "test = pd.read_csv('nyc-taxi-trip-duration/test.csv')"
      ],
      "metadata": {
        "id": "9pZuiMXuwOg-"
      },
      "execution_count": null,
      "outputs": []
    },
    {
      "cell_type": "code",
      "source": [
        "df.head()"
      ],
      "metadata": {
        "colab": {
          "base_uri": "https://localhost:8080/",
          "height": 357
        },
        "id": "YewnhFlhyl_m",
        "outputId": "83b462a3-f3ed-4acf-f79d-688b7e1258b1"
      },
      "execution_count": null,
      "outputs": [
        {
          "output_type": "execute_result",
          "data": {
            "text/plain": [
              "          id  vendor_id      pickup_datetime     dropoff_datetime  \\\n",
              "0  id2875421          2  2016-03-14 17:24:55  2016-03-14 17:32:30   \n",
              "1  id2377394          1  2016-06-12 00:43:35  2016-06-12 00:54:38   \n",
              "2  id3858529          2  2016-01-19 11:35:24  2016-01-19 12:10:48   \n",
              "3  id3504673          2  2016-04-06 19:32:31  2016-04-06 19:39:40   \n",
              "4  id2181028          2  2016-03-26 13:30:55  2016-03-26 13:38:10   \n",
              "\n",
              "   passenger_count  pickup_longitude  pickup_latitude  dropoff_longitude  \\\n",
              "0                1        -73.982155        40.767937         -73.964630   \n",
              "1                1        -73.980415        40.738564         -73.999481   \n",
              "2                1        -73.979027        40.763939         -74.005333   \n",
              "3                1        -74.010040        40.719971         -74.012268   \n",
              "4                1        -73.973053        40.793209         -73.972923   \n",
              "\n",
              "   dropoff_latitude store_and_fwd_flag  trip_duration  \n",
              "0         40.765602                  N            455  \n",
              "1         40.731152                  N            663  \n",
              "2         40.710087                  N           2124  \n",
              "3         40.706718                  N            429  \n",
              "4         40.782520                  N            435  "
            ],
            "text/html": [
              "\n",
              "  <div id=\"df-9333a586-162a-4ce6-a9bb-39d38b9d70c9\">\n",
              "    <div class=\"colab-df-container\">\n",
              "      <div>\n",
              "<style scoped>\n",
              "    .dataframe tbody tr th:only-of-type {\n",
              "        vertical-align: middle;\n",
              "    }\n",
              "\n",
              "    .dataframe tbody tr th {\n",
              "        vertical-align: top;\n",
              "    }\n",
              "\n",
              "    .dataframe thead th {\n",
              "        text-align: right;\n",
              "    }\n",
              "</style>\n",
              "<table border=\"1\" class=\"dataframe\">\n",
              "  <thead>\n",
              "    <tr style=\"text-align: right;\">\n",
              "      <th></th>\n",
              "      <th>id</th>\n",
              "      <th>vendor_id</th>\n",
              "      <th>pickup_datetime</th>\n",
              "      <th>dropoff_datetime</th>\n",
              "      <th>passenger_count</th>\n",
              "      <th>pickup_longitude</th>\n",
              "      <th>pickup_latitude</th>\n",
              "      <th>dropoff_longitude</th>\n",
              "      <th>dropoff_latitude</th>\n",
              "      <th>store_and_fwd_flag</th>\n",
              "      <th>trip_duration</th>\n",
              "    </tr>\n",
              "  </thead>\n",
              "  <tbody>\n",
              "    <tr>\n",
              "      <th>0</th>\n",
              "      <td>id2875421</td>\n",
              "      <td>2</td>\n",
              "      <td>2016-03-14 17:24:55</td>\n",
              "      <td>2016-03-14 17:32:30</td>\n",
              "      <td>1</td>\n",
              "      <td>-73.982155</td>\n",
              "      <td>40.767937</td>\n",
              "      <td>-73.964630</td>\n",
              "      <td>40.765602</td>\n",
              "      <td>N</td>\n",
              "      <td>455</td>\n",
              "    </tr>\n",
              "    <tr>\n",
              "      <th>1</th>\n",
              "      <td>id2377394</td>\n",
              "      <td>1</td>\n",
              "      <td>2016-06-12 00:43:35</td>\n",
              "      <td>2016-06-12 00:54:38</td>\n",
              "      <td>1</td>\n",
              "      <td>-73.980415</td>\n",
              "      <td>40.738564</td>\n",
              "      <td>-73.999481</td>\n",
              "      <td>40.731152</td>\n",
              "      <td>N</td>\n",
              "      <td>663</td>\n",
              "    </tr>\n",
              "    <tr>\n",
              "      <th>2</th>\n",
              "      <td>id3858529</td>\n",
              "      <td>2</td>\n",
              "      <td>2016-01-19 11:35:24</td>\n",
              "      <td>2016-01-19 12:10:48</td>\n",
              "      <td>1</td>\n",
              "      <td>-73.979027</td>\n",
              "      <td>40.763939</td>\n",
              "      <td>-74.005333</td>\n",
              "      <td>40.710087</td>\n",
              "      <td>N</td>\n",
              "      <td>2124</td>\n",
              "    </tr>\n",
              "    <tr>\n",
              "      <th>3</th>\n",
              "      <td>id3504673</td>\n",
              "      <td>2</td>\n",
              "      <td>2016-04-06 19:32:31</td>\n",
              "      <td>2016-04-06 19:39:40</td>\n",
              "      <td>1</td>\n",
              "      <td>-74.010040</td>\n",
              "      <td>40.719971</td>\n",
              "      <td>-74.012268</td>\n",
              "      <td>40.706718</td>\n",
              "      <td>N</td>\n",
              "      <td>429</td>\n",
              "    </tr>\n",
              "    <tr>\n",
              "      <th>4</th>\n",
              "      <td>id2181028</td>\n",
              "      <td>2</td>\n",
              "      <td>2016-03-26 13:30:55</td>\n",
              "      <td>2016-03-26 13:38:10</td>\n",
              "      <td>1</td>\n",
              "      <td>-73.973053</td>\n",
              "      <td>40.793209</td>\n",
              "      <td>-73.972923</td>\n",
              "      <td>40.782520</td>\n",
              "      <td>N</td>\n",
              "      <td>435</td>\n",
              "    </tr>\n",
              "  </tbody>\n",
              "</table>\n",
              "</div>\n",
              "      <button class=\"colab-df-convert\" onclick=\"convertToInteractive('df-9333a586-162a-4ce6-a9bb-39d38b9d70c9')\"\n",
              "              title=\"Convert this dataframe to an interactive table.\"\n",
              "              style=\"display:none;\">\n",
              "        \n",
              "  <svg xmlns=\"http://www.w3.org/2000/svg\" height=\"24px\"viewBox=\"0 0 24 24\"\n",
              "       width=\"24px\">\n",
              "    <path d=\"M0 0h24v24H0V0z\" fill=\"none\"/>\n",
              "    <path d=\"M18.56 5.44l.94 2.06.94-2.06 2.06-.94-2.06-.94-.94-2.06-.94 2.06-2.06.94zm-11 1L8.5 8.5l.94-2.06 2.06-.94-2.06-.94L8.5 2.5l-.94 2.06-2.06.94zm10 10l.94 2.06.94-2.06 2.06-.94-2.06-.94-.94-2.06-.94 2.06-2.06.94z\"/><path d=\"M17.41 7.96l-1.37-1.37c-.4-.4-.92-.59-1.43-.59-.52 0-1.04.2-1.43.59L10.3 9.45l-7.72 7.72c-.78.78-.78 2.05 0 2.83L4 21.41c.39.39.9.59 1.41.59.51 0 1.02-.2 1.41-.59l7.78-7.78 2.81-2.81c.8-.78.8-2.07 0-2.86zM5.41 20L4 18.59l7.72-7.72 1.47 1.35L5.41 20z\"/>\n",
              "  </svg>\n",
              "      </button>\n",
              "      \n",
              "  <style>\n",
              "    .colab-df-container {\n",
              "      display:flex;\n",
              "      flex-wrap:wrap;\n",
              "      gap: 12px;\n",
              "    }\n",
              "\n",
              "    .colab-df-convert {\n",
              "      background-color: #E8F0FE;\n",
              "      border: none;\n",
              "      border-radius: 50%;\n",
              "      cursor: pointer;\n",
              "      display: none;\n",
              "      fill: #1967D2;\n",
              "      height: 32px;\n",
              "      padding: 0 0 0 0;\n",
              "      width: 32px;\n",
              "    }\n",
              "\n",
              "    .colab-df-convert:hover {\n",
              "      background-color: #E2EBFA;\n",
              "      box-shadow: 0px 1px 2px rgba(60, 64, 67, 0.3), 0px 1px 3px 1px rgba(60, 64, 67, 0.15);\n",
              "      fill: #174EA6;\n",
              "    }\n",
              "\n",
              "    [theme=dark] .colab-df-convert {\n",
              "      background-color: #3B4455;\n",
              "      fill: #D2E3FC;\n",
              "    }\n",
              "\n",
              "    [theme=dark] .colab-df-convert:hover {\n",
              "      background-color: #434B5C;\n",
              "      box-shadow: 0px 1px 3px 1px rgba(0, 0, 0, 0.15);\n",
              "      filter: drop-shadow(0px 1px 2px rgba(0, 0, 0, 0.3));\n",
              "      fill: #FFFFFF;\n",
              "    }\n",
              "  </style>\n",
              "\n",
              "      <script>\n",
              "        const buttonEl =\n",
              "          document.querySelector('#df-9333a586-162a-4ce6-a9bb-39d38b9d70c9 button.colab-df-convert');\n",
              "        buttonEl.style.display =\n",
              "          google.colab.kernel.accessAllowed ? 'block' : 'none';\n",
              "\n",
              "        async function convertToInteractive(key) {\n",
              "          const element = document.querySelector('#df-9333a586-162a-4ce6-a9bb-39d38b9d70c9');\n",
              "          const dataTable =\n",
              "            await google.colab.kernel.invokeFunction('convertToInteractive',\n",
              "                                                     [key], {});\n",
              "          if (!dataTable) return;\n",
              "\n",
              "          const docLinkHtml = 'Like what you see? Visit the ' +\n",
              "            '<a target=\"_blank\" href=https://colab.research.google.com/notebooks/data_table.ipynb>data table notebook</a>'\n",
              "            + ' to learn more about interactive tables.';\n",
              "          element.innerHTML = '';\n",
              "          dataTable['output_type'] = 'display_data';\n",
              "          await google.colab.output.renderOutput(dataTable, element);\n",
              "          const docLink = document.createElement('div');\n",
              "          docLink.innerHTML = docLinkHtml;\n",
              "          element.appendChild(docLink);\n",
              "        }\n",
              "      </script>\n",
              "    </div>\n",
              "  </div>\n",
              "  "
            ]
          },
          "metadata": {},
          "execution_count": 5
        }
      ]
    },
    {
      "cell_type": "code",
      "source": [
        "df.shape"
      ],
      "metadata": {
        "colab": {
          "base_uri": "https://localhost:8080/"
        },
        "id": "dmu_iJC801g2",
        "outputId": "ed046157-6472-4f36-afa1-2b5dde9f1468"
      },
      "execution_count": null,
      "outputs": [
        {
          "output_type": "execute_result",
          "data": {
            "text/plain": [
              "(1458644, 11)"
            ]
          },
          "metadata": {},
          "execution_count": 7
        }
      ]
    },
    {
      "cell_type": "code",
      "source": [
        "df.info()"
      ],
      "metadata": {
        "colab": {
          "base_uri": "https://localhost:8080/"
        },
        "id": "kf8W4wdq0u_6",
        "outputId": "1ffd5fba-bb18-479b-8149-73c53aa47f5f"
      },
      "execution_count": null,
      "outputs": [
        {
          "output_type": "stream",
          "name": "stdout",
          "text": [
            "<class 'pandas.core.frame.DataFrame'>\n",
            "RangeIndex: 1458644 entries, 0 to 1458643\n",
            "Data columns (total 11 columns):\n",
            " #   Column              Non-Null Count    Dtype  \n",
            "---  ------              --------------    -----  \n",
            " 0   id                  1458644 non-null  object \n",
            " 1   vendor_id           1458644 non-null  int64  \n",
            " 2   pickup_datetime     1458644 non-null  object \n",
            " 3   dropoff_datetime    1458644 non-null  object \n",
            " 4   passenger_count     1458644 non-null  int64  \n",
            " 5   pickup_longitude    1458644 non-null  float64\n",
            " 6   pickup_latitude     1458644 non-null  float64\n",
            " 7   dropoff_longitude   1458644 non-null  float64\n",
            " 8   dropoff_latitude    1458644 non-null  float64\n",
            " 9   store_and_fwd_flag  1458644 non-null  object \n",
            " 10  trip_duration       1458644 non-null  int64  \n",
            "dtypes: float64(4), int64(3), object(4)\n",
            "memory usage: 122.4+ MB\n"
          ]
        }
      ]
    },
    {
      "cell_type": "markdown",
      "source": [
        "#Анализ данных"
      ],
      "metadata": {
        "id": "g_bIb71l1wH3"
      }
    },
    {
      "cell_type": "code",
      "source": [
        "fig, ax = plt.subplots(nrows=1, ncols=2, figsize=(20, 12))\n",
        "\n",
        "sns.scatterplot(df['pickup_longitude'], df['pickup_latitude'], s=4, ax=ax[0])\n",
        "ax[0].set_xlim([-74.2, -73.5])\n",
        "ax[0].set_ylim([40.5, 41])\n",
        "\n",
        "sns.scatterplot(test['pickup_longitude'], test['pickup_latitude'], s=4, ax=ax[1], color='green')\n",
        "ax[1].set_xlim([-74.2, -73.5])\n",
        "ax[1].set_ylim([40.5, 41])"
      ],
      "metadata": {
        "colab": {
          "base_uri": "https://localhost:8080/",
          "height": 405
        },
        "id": "JJZdzFMX00Id",
        "outputId": "c233ff66-082e-4721-c822-912fed78b49e"
      },
      "execution_count": null,
      "outputs": [
        {
          "output_type": "execute_result",
          "data": {
            "text/plain": [
              "(40.5, 41.0)"
            ]
          },
          "metadata": {},
          "execution_count": 13
        },
        {
          "output_type": "display_data",
          "data": {
            "text/plain": [
              "<Figure size 1440x864 with 2 Axes>"
            ],
            "image/png": "[encoded data removed]"
          },
          "metadata": {
            "needs_background": "light"
          }
        }
      ]
    },
    {
      "cell_type": "code",
      "source": [
        "df.describe()"
      ],
      "metadata": {
        "colab": {
          "base_uri": "https://localhost:8080/",
          "height": 363
        },
        "id": "7qmywnKh2qXF",
        "outputId": "009a59e0-c484-46af-e95a-ebf7abc809b0"
      },
      "execution_count": null,
      "outputs": [
        {
          "output_type": "execute_result",
          "data": {
            "text/plain": [
              "          vendor_id  passenger_count  pickup_longitude  pickup_latitude  \\\n",
              "count  1.458644e+06     1.458644e+06      1.458644e+06     1.458644e+06   \n",
              "mean   1.534950e+00     1.664530e+00     -7.397349e+01     4.075092e+01   \n",
              "std    4.987772e-01     1.314242e+00      7.090186e-02     3.288119e-02   \n",
              "min    1.000000e+00     0.000000e+00     -1.219333e+02     3.435970e+01   \n",
              "25%    1.000000e+00     1.000000e+00     -7.399187e+01     4.073735e+01   \n",
              "50%    2.000000e+00     1.000000e+00     -7.398174e+01     4.075410e+01   \n",
              "75%    2.000000e+00     2.000000e+00     -7.396733e+01     4.076836e+01   \n",
              "max    2.000000e+00     9.000000e+00     -6.133553e+01     5.188108e+01   \n",
              "\n",
              "       dropoff_longitude  dropoff_latitude  trip_duration  \n",
              "count       1.458644e+06      1.458644e+06   1.458644e+06  \n",
              "mean       -7.397342e+01      4.075180e+01   9.594923e+02  \n",
              "std         7.064327e-02      3.589056e-02   5.237432e+03  \n",
              "min        -1.219333e+02      3.218114e+01   1.000000e+00  \n",
              "25%        -7.399133e+01      4.073588e+01   3.970000e+02  \n",
              "50%        -7.397975e+01      4.075452e+01   6.620000e+02  \n",
              "75%        -7.396301e+01      4.076981e+01   1.075000e+03  \n",
              "max        -6.133553e+01      4.392103e+01   3.526282e+06  "
            ],
            "text/html": [
              "\n",
              "  <div id=\"df-3280df72-1542-412e-8ed0-e664b95abbb3\">\n",
              "    <div class=\"colab-df-container\">\n",
              "      <div>\n",
              "<style scoped>\n",
              "    .dataframe tbody tr th:only-of-type {\n",
              "        vertical-align: middle;\n",
              "    }\n",
              "\n",
              "    .dataframe tbody tr th {\n",
              "        vertical-align: top;\n",
              "    }\n",
              "\n",
              "    .dataframe thead th {\n",
              "        text-align: right;\n",
              "    }\n",
              "</style>\n",
              "<table border=\"1\" class=\"dataframe\">\n",
              "  <thead>\n",
              "    <tr style=\"text-align: right;\">\n",
              "      <th></th>\n",
              "      <th>vendor_id</th>\n",
              "      <th>passenger_count</th>\n",
              "      <th>pickup_longitude</th>\n",
              "      <th>pickup_latitude</th>\n",
              "      <th>dropoff_longitude</th>\n",
              "      <th>dropoff_latitude</th>\n",
              "      <th>trip_duration</th>\n",
              "    </tr>\n",
              "  </thead>\n",
              "  <tbody>\n",
              "    <tr>\n",
              "      <th>count</th>\n",
              "      <td>1.458644e+06</td>\n",
              "      <td>1.458644e+06</td>\n",
              "      <td>1.458644e+06</td>\n",
              "      <td>1.458644e+06</td>\n",
              "      <td>1.458644e+06</td>\n",
              "      <td>1.458644e+06</td>\n",
              "      <td>1.458644e+06</td>\n",
              "    </tr>\n",
              "    <tr>\n",
              "      <th>mean</th>\n",
              "      <td>1.534950e+00</td>\n",
              "      <td>1.664530e+00</td>\n",
              "      <td>-7.397349e+01</td>\n",
              "      <td>4.075092e+01</td>\n",
              "      <td>-7.397342e+01</td>\n",
              "      <td>4.075180e+01</td>\n",
              "      <td>9.594923e+02</td>\n",
              "    </tr>\n",
              "    <tr>\n",
              "      <th>std</th>\n",
              "      <td>4.987772e-01</td>\n",
              "      <td>1.314242e+00</td>\n",
              "      <td>7.090186e-02</td>\n",
              "      <td>3.288119e-02</td>\n",
              "      <td>7.064327e-02</td>\n",
              "      <td>3.589056e-02</td>\n",
              "      <td>5.237432e+03</td>\n",
              "    </tr>\n",
              "    <tr>\n",
              "      <th>min</th>\n",
              "      <td>1.000000e+00</td>\n",
              "      <td>0.000000e+00</td>\n",
              "      <td>-1.219333e+02</td>\n",
              "      <td>3.435970e+01</td>\n",
              "      <td>-1.219333e+02</td>\n",
              "      <td>3.218114e+01</td>\n",
              "      <td>1.000000e+00</td>\n",
              "    </tr>\n",
              "    <tr>\n",
              "      <th>25%</th>\n",
              "      <td>1.000000e+00</td>\n",
              "      <td>1.000000e+00</td>\n",
              "      <td>-7.399187e+01</td>\n",
              "      <td>4.073735e+01</td>\n",
              "      <td>-7.399133e+01</td>\n",
              "      <td>4.073588e+01</td>\n",
              "      <td>3.970000e+02</td>\n",
              "    </tr>\n",
              "    <tr>\n",
              "      <th>50%</th>\n",
              "      <td>2.000000e+00</td>\n",
              "      <td>1.000000e+00</td>\n",
              "      <td>-7.398174e+01</td>\n",
              "      <td>4.075410e+01</td>\n",
              "      <td>-7.397975e+01</td>\n",
              "      <td>4.075452e+01</td>\n",
              "      <td>6.620000e+02</td>\n",
              "    </tr>\n",
              "    <tr>\n",
              "      <th>75%</th>\n",
              "      <td>2.000000e+00</td>\n",
              "      <td>2.000000e+00</td>\n",
              "      <td>-7.396733e+01</td>\n",
              "      <td>4.076836e+01</td>\n",
              "      <td>-7.396301e+01</td>\n",
              "      <td>4.076981e+01</td>\n",
              "      <td>1.075000e+03</td>\n",
              "    </tr>\n",
              "    <tr>\n",
              "      <th>max</th>\n",
              "      <td>2.000000e+00</td>\n",
              "      <td>9.000000e+00</td>\n",
              "      <td>-6.133553e+01</td>\n",
              "      <td>5.188108e+01</td>\n",
              "      <td>-6.133553e+01</td>\n",
              "      <td>4.392103e+01</td>\n",
              "      <td>3.526282e+06</td>\n",
              "    </tr>\n",
              "  </tbody>\n",
              "</table>\n",
              "</div>\n",
              "      <button class=\"colab-df-convert\" onclick=\"convertToInteractive('df-3280df72-1542-412e-8ed0-e664b95abbb3')\"\n",
              "              title=\"Convert this dataframe to an interactive table.\"\n",
              "              style=\"display:none;\">\n",
              "        \n",
              "  <svg xmlns=\"http://www.w3.org/2000/svg\" height=\"24px\"viewBox=\"0 0 24 24\"\n",
              "       width=\"24px\">\n",
              "    <path d=\"M0 0h24v24H0V0z\" fill=\"none\"/>\n",
              "    <path d=\"M18.56 5.44l.94 2.06.94-2.06 2.06-.94-2.06-.94-.94-2.06-.94 2.06-2.06.94zm-11 1L8.5 8.5l.94-2.06 2.06-.94-2.06-.94L8.5 2.5l-.94 2.06-2.06.94zm10 10l.94 2.06.94-2.06 2.06-.94-2.06-.94-.94-2.06-.94 2.06-2.06.94z\"/><path d=\"M17.41 7.96l-1.37-1.37c-.4-.4-.92-.59-1.43-.59-.52 0-1.04.2-1.43.59L10.3 9.45l-7.72 7.72c-.78.78-.78 2.05 0 2.83L4 21.41c.39.39.9.59 1.41.59.51 0 1.02-.2 1.41-.59l7.78-7.78 2.81-2.81c.8-.78.8-2.07 0-2.86zM5.41 20L4 18.59l7.72-7.72 1.47 1.35L5.41 20z\"/>\n",
              "  </svg>\n",
              "      </button>\n",
              "      \n",
              "  <style>\n",
              "    .colab-df-container {\n",
              "      display:flex;\n",
              "      flex-wrap:wrap;\n",
              "      gap: 12px;\n",
              "    }\n",
              "\n",
              "    .colab-df-convert {\n",
              "      background-color: #E8F0FE;\n",
              "      border: none;\n",
              "      border-radius: 50%;\n",
              "      cursor: pointer;\n",
              "      display: none;\n",
              "      fill: #1967D2;\n",
              "      height: 32px;\n",
              "      padding: 0 0 0 0;\n",
              "      width: 32px;\n",
              "    }\n",
              "\n",
              "    .colab-df-convert:hover {\n",
              "      background-color: #E2EBFA;\n",
              "      box-shadow: 0px 1px 2px rgba(60, 64, 67, 0.3), 0px 1px 3px 1px rgba(60, 64, 67, 0.15);\n",
              "      fill: #174EA6;\n",
              "    }\n",
              "\n",
              "    [theme=dark] .colab-df-convert {\n",
              "      background-color: #3B4455;\n",
              "      fill: #D2E3FC;\n",
              "    }\n",
              "\n",
              "    [theme=dark] .colab-df-convert:hover {\n",
              "      background-color: #434B5C;\n",
              "      box-shadow: 0px 1px 3px 1px rgba(0, 0, 0, 0.15);\n",
              "      filter: drop-shadow(0px 1px 2px rgba(0, 0, 0, 0.3));\n",
              "      fill: #FFFFFF;\n",
              "    }\n",
              "  </style>\n",
              "\n",
              "      <script>\n",
              "        const buttonEl =\n",
              "          document.querySelector('#df-3280df72-1542-412e-8ed0-e664b95abbb3 button.colab-df-convert');\n",
              "        buttonEl.style.display =\n",
              "          google.colab.kernel.accessAllowed ? 'block' : 'none';\n",
              "\n",
              "        async function convertToInteractive(key) {\n",
              "          const element = document.querySelector('#df-3280df72-1542-412e-8ed0-e664b95abbb3');\n",
              "          const dataTable =\n",
              "            await google.colab.kernel.invokeFunction('convertToInteractive',\n",
              "                                                     [key], {});\n",
              "          if (!dataTable) return;\n",
              "\n",
              "          const docLinkHtml = 'Like what you see? Visit the ' +\n",
              "            '<a target=\"_blank\" href=https://colab.research.google.com/notebooks/data_table.ipynb>data table notebook</a>'\n",
              "            + ' to learn more about interactive tables.';\n",
              "          element.innerHTML = '';\n",
              "          dataTable['output_type'] = 'display_data';\n",
              "          await google.colab.output.renderOutput(dataTable, element);\n",
              "          const docLink = document.createElement('div');\n",
              "          docLink.innerHTML = docLinkHtml;\n",
              "          element.appendChild(docLink);\n",
              "        }\n",
              "      </script>\n",
              "    </div>\n",
              "  </div>\n",
              "  "
            ]
          },
          "metadata": {},
          "execution_count": 14
        }
      ]
    },
    {
      "cell_type": "code",
      "source": [
        "test.describe()"
      ],
      "metadata": {
        "colab": {
          "base_uri": "https://localhost:8080/",
          "height": 363
        },
        "id": "g5_3wijR3K-3",
        "outputId": "38549baf-0199-4e41-f606-c5a0e488ed63"
      },
      "execution_count": null,
      "outputs": [
        {
          "output_type": "execute_result",
          "data": {
            "text/plain": [
              "           vendor_id  passenger_count  pickup_longitude  pickup_latitude  \\\n",
              "count  625134.000000    625134.000000     625134.000000    625134.000000   \n",
              "mean        1.534884         1.661765        -73.973614        40.750927   \n",
              "std         0.498782         1.311293          0.073389         0.029848   \n",
              "min         1.000000         0.000000       -121.933128        37.389587   \n",
              "25%         1.000000         1.000000        -73.991852        40.737392   \n",
              "50%         2.000000         1.000000        -73.981743        40.754093   \n",
              "75%         2.000000         2.000000        -73.967400        40.768394   \n",
              "max         2.000000         9.000000        -69.248917        42.814938   \n",
              "\n",
              "       dropoff_longitude  dropoff_latitude  \n",
              "count      625134.000000     625134.000000  \n",
              "mean          -73.973458         40.751816  \n",
              "std             0.072565          0.035824  \n",
              "min          -121.933327         36.601322  \n",
              "25%           -73.991318         40.736000  \n",
              "50%           -73.979774         40.754543  \n",
              "75%           -73.963013         40.769852  \n",
              "max           -67.496796         48.857597  "
            ],
            "text/html": [
              "\n",
              "  <div id=\"df-6631c293-ffc9-46c9-8829-88ebe3a427c7\">\n",
              "    <div class=\"colab-df-container\">\n",
              "      <div>\n",
              "<style scoped>\n",
              "    .dataframe tbody tr th:only-of-type {\n",
              "        vertical-align: middle;\n",
              "    }\n",
              "\n",
              "    .dataframe tbody tr th {\n",
              "        vertical-align: top;\n",
              "    }\n",
              "\n",
              "    .dataframe thead th {\n",
              "        text-align: right;\n",
              "    }\n",
              "</style>\n",
              "<table border=\"1\" class=\"dataframe\">\n",
              "  <thead>\n",
              "    <tr style=\"text-align: right;\">\n",
              "      <th></th>\n",
              "      <th>vendor_id</th>\n",
              "      <th>passenger_count</th>\n",
              "      <th>pickup_longitude</th>\n",
              "      <th>pickup_latitude</th>\n",
              "      <th>dropoff_longitude</th>\n",
              "      <th>dropoff_latitude</th>\n",
              "    </tr>\n",
              "  </thead>\n",
              "  <tbody>\n",
              "    <tr>\n",
              "      <th>count</th>\n",
              "      <td>625134.000000</td>\n",
              "      <td>625134.000000</td>\n",
              "      <td>625134.000000</td>\n",
              "      <td>625134.000000</td>\n",
              "      <td>625134.000000</td>\n",
              "      <td>625134.000000</td>\n",
              "    </tr>\n",
              "    <tr>\n",
              "      <th>mean</th>\n",
              "      <td>1.534884</td>\n",
              "      <td>1.661765</td>\n",
              "      <td>-73.973614</td>\n",
              "      <td>40.750927</td>\n",
              "      <td>-73.973458</td>\n",
              "      <td>40.751816</td>\n",
              "    </tr>\n",
              "    <tr>\n",
              "      <th>std</th>\n",
              "      <td>0.498782</td>\n",
              "      <td>1.311293</td>\n",
              "      <td>0.073389</td>\n",
              "      <td>0.029848</td>\n",
              "      <td>0.072565</td>\n",
              "      <td>0.035824</td>\n",
              "    </tr>\n",
              "    <tr>\n",
              "      <th>min</th>\n",
              "      <td>1.000000</td>\n",
              "      <td>0.000000</td>\n",
              "      <td>-121.933128</td>\n",
              "      <td>37.389587</td>\n",
              "      <td>-121.933327</td>\n",
              "      <td>36.601322</td>\n",
              "    </tr>\n",
              "    <tr>\n",
              "      <th>25%</th>\n",
              "      <td>1.000000</td>\n",
              "      <td>1.000000</td>\n",
              "      <td>-73.991852</td>\n",
              "      <td>40.737392</td>\n",
              "      <td>-73.991318</td>\n",
              "      <td>40.736000</td>\n",
              "    </tr>\n",
              "    <tr>\n",
              "      <th>50%</th>\n",
              "      <td>2.000000</td>\n",
              "      <td>1.000000</td>\n",
              "      <td>-73.981743</td>\n",
              "      <td>40.754093</td>\n",
              "      <td>-73.979774</td>\n",
              "      <td>40.754543</td>\n",
              "    </tr>\n",
              "    <tr>\n",
              "      <th>75%</th>\n",
              "      <td>2.000000</td>\n",
              "      <td>2.000000</td>\n",
              "      <td>-73.967400</td>\n",
              "      <td>40.768394</td>\n",
              "      <td>-73.963013</td>\n",
              "      <td>40.769852</td>\n",
              "    </tr>\n",
              "    <tr>\n",
              "      <th>max</th>\n",
              "      <td>2.000000</td>\n",
              "      <td>9.000000</td>\n",
              "      <td>-69.248917</td>\n",
              "      <td>42.814938</td>\n",
              "      <td>-67.496796</td>\n",
              "      <td>48.857597</td>\n",
              "    </tr>\n",
              "  </tbody>\n",
              "</table>\n",
              "</div>\n",
              "      <button class=\"colab-df-convert\" onclick=\"convertToInteractive('df-6631c293-ffc9-46c9-8829-88ebe3a427c7')\"\n",
              "              title=\"Convert this dataframe to an interactive table.\"\n",
              "              style=\"display:none;\">\n",
              "        \n",
              "  <svg xmlns=\"http://www.w3.org/2000/svg\" height=\"24px\"viewBox=\"0 0 24 24\"\n",
              "       width=\"24px\">\n",
              "    <path d=\"M0 0h24v24H0V0z\" fill=\"none\"/>\n",
              "    <path d=\"M18.56 5.44l.94 2.06.94-2.06 2.06-.94-2.06-.94-.94-2.06-.94 2.06-2.06.94zm-11 1L8.5 8.5l.94-2.06 2.06-.94-2.06-.94L8.5 2.5l-.94 2.06-2.06.94zm10 10l.94 2.06.94-2.06 2.06-.94-2.06-.94-.94-2.06-.94 2.06-2.06.94z\"/><path d=\"M17.41 7.96l-1.37-1.37c-.4-.4-.92-.59-1.43-.59-.52 0-1.04.2-1.43.59L10.3 9.45l-7.72 7.72c-.78.78-.78 2.05 0 2.83L4 21.41c.39.39.9.59 1.41.59.51 0 1.02-.2 1.41-.59l7.78-7.78 2.81-2.81c.8-.78.8-2.07 0-2.86zM5.41 20L4 18.59l7.72-7.72 1.47 1.35L5.41 20z\"/>\n",
              "  </svg>\n",
              "      </button>\n",
              "      \n",
              "  <style>\n",
              "    .colab-df-container {\n",
              "      display:flex;\n",
              "      flex-wrap:wrap;\n",
              "      gap: 12px;\n",
              "    }\n",
              "\n",
              "    .colab-df-convert {\n",
              "      background-color: #E8F0FE;\n",
              "      border: none;\n",
              "      border-radius: 50%;\n",
              "      cursor: pointer;\n",
              "      display: none;\n",
              "      fill: #1967D2;\n",
              "      height: 32px;\n",
              "      padding: 0 0 0 0;\n",
              "      width: 32px;\n",
              "    }\n",
              "\n",
              "    .colab-df-convert:hover {\n",
              "      background-color: #E2EBFA;\n",
              "      box-shadow: 0px 1px 2px rgba(60, 64, 67, 0.3), 0px 1px 3px 1px rgba(60, 64, 67, 0.15);\n",
              "      fill: #174EA6;\n",
              "    }\n",
              "\n",
              "    [theme=dark] .colab-df-convert {\n",
              "      background-color: #3B4455;\n",
              "      fill: #D2E3FC;\n",
              "    }\n",
              "\n",
              "    [theme=dark] .colab-df-convert:hover {\n",
              "      background-color: #434B5C;\n",
              "      box-shadow: 0px 1px 3px 1px rgba(0, 0, 0, 0.15);\n",
              "      filter: drop-shadow(0px 1px 2px rgba(0, 0, 0, 0.3));\n",
              "      fill: #FFFFFF;\n",
              "    }\n",
              "  </style>\n",
              "\n",
              "      <script>\n",
              "        const buttonEl =\n",
              "          document.querySelector('#df-6631c293-ffc9-46c9-8829-88ebe3a427c7 button.colab-df-convert');\n",
              "        buttonEl.style.display =\n",
              "          google.colab.kernel.accessAllowed ? 'block' : 'none';\n",
              "\n",
              "        async function convertToInteractive(key) {\n",
              "          const element = document.querySelector('#df-6631c293-ffc9-46c9-8829-88ebe3a427c7');\n",
              "          const dataTable =\n",
              "            await google.colab.kernel.invokeFunction('convertToInteractive',\n",
              "                                                     [key], {});\n",
              "          if (!dataTable) return;\n",
              "\n",
              "          const docLinkHtml = 'Like what you see? Visit the ' +\n",
              "            '<a target=\"_blank\" href=https://colab.research.google.com/notebooks/data_table.ipynb>data table notebook</a>'\n",
              "            + ' to learn more about interactive tables.';\n",
              "          element.innerHTML = '';\n",
              "          dataTable['output_type'] = 'display_data';\n",
              "          await google.colab.output.renderOutput(dataTable, element);\n",
              "          const docLink = document.createElement('div');\n",
              "          docLink.innerHTML = docLinkHtml;\n",
              "          element.appendChild(docLink);\n",
              "        }\n",
              "      </script>\n",
              "    </div>\n",
              "  </div>\n",
              "  "
            ]
          },
          "metadata": {},
          "execution_count": 15
        }
      ]
    },
    {
      "cell_type": "markdown",
      "source": [
        "MIN и MAX значения для trip_duration и passenger_count являются вероятно ошибками. Так же, так как мы рассматриваем только New York, нужно определить пределы по координатам (широта и долгота"
      ],
      "metadata": {
        "id": "bTQMUGDf3ZXz"
      }
    },
    {
      "cell_type": "code",
      "source": [
        "df = df[df.pickup_longitude.between(-75, -71) & df.dropoff_longitude.between(-75, -71)]"
      ],
      "metadata": {
        "id": "ho8B9nlD3PzB"
      },
      "execution_count": null,
      "outputs": []
    },
    {
      "cell_type": "code",
      "source": [
        "test[(test.pickup_longitude < -75) | (test.pickup_longitude > -71)]"
      ],
      "metadata": {
        "colab": {
          "base_uri": "https://localhost:8080/",
          "height": 650
        },
        "id": "lpOEQUtU4uSH",
        "outputId": "a76a8bfa-ce98-416e-8aa6-660d6fb7c03f"
      },
      "execution_count": null,
      "outputs": [
        {
          "output_type": "execute_result",
          "data": {
            "text/plain": [
              "               id  vendor_id      pickup_datetime  passenger_count  \\\n",
              "152325  id0159022          2  2016-05-16 13:37:00                1   \n",
              "157734  id2494438          1  2016-05-14 22:40:31                2   \n",
              "203685  id1455078          2  2016-05-02 09:57:00                1   \n",
              "262912  id1357179          2  2016-04-15 11:47:00                1   \n",
              "308069  id3858705          1  2016-04-02 22:42:19                1   \n",
              "324125  id0505885          2  2016-03-29 14:28:46                2   \n",
              "336944  id1304703          2  2016-03-25 17:21:00                3   \n",
              "344754  id3395374          2  2016-03-23 13:46:00                1   \n",
              "380737  id3233992          1  2016-03-13 04:20:44                3   \n",
              "483163  id1850697          1  2016-02-13 16:37:27                1   \n",
              "546817  id3933508          1  2016-01-26 11:54:17                1   \n",
              "\n",
              "        pickup_longitude  pickup_latitude  dropoff_longitude  \\\n",
              "152325        -77.039436        38.898849         -77.039436   \n",
              "157734        -69.248917        37.527687         -73.958351   \n",
              "203685        -77.039436        38.898849         -77.039436   \n",
              "262912        -77.039436        38.898849         -77.039436   \n",
              "308069        -76.963242        38.946033         -76.963242   \n",
              "324125       -121.933128        37.389587        -121.933327   \n",
              "336944        -76.991531        38.864689         -76.991531   \n",
              "344754        -76.991531        38.864689         -76.991531   \n",
              "380737        -79.487900        40.739159         -79.487900   \n",
              "483163        -77.598213        42.814938         -77.598213   \n",
              "546817        -69.328209        41.491604         -69.328209   \n",
              "\n",
              "        dropoff_latitude store_and_fwd_flag  \n",
              "152325         38.898849                  N  \n",
              "157734         40.778332                  N  \n",
              "203685         38.898849                  N  \n",
              "262912         38.898849                  N  \n",
              "308069         38.946033                  N  \n",
              "324125         37.389374                  N  \n",
              "336944         38.864689                  N  \n",
              "344754         38.864689                  N  \n",
              "380737         40.739159                  N  \n",
              "483163         42.814938                  N  \n",
              "546817         41.491604                  N  "
            ],
            "text/html": [
              "\n",
              "  <div id=\"df-45c943f4-b042-41b8-8105-aab88d30d0b1\">\n",
              "    <div class=\"colab-df-container\">\n",
              "      <div>\n",
              "<style scoped>\n",
              "    .dataframe tbody tr th:only-of-type {\n",
              "        vertical-align: middle;\n",
              "    }\n",
              "\n",
              "    .dataframe tbody tr th {\n",
              "        vertical-align: top;\n",
              "    }\n",
              "\n",
              "    .dataframe thead th {\n",
              "        text-align: right;\n",
              "    }\n",
              "</style>\n",
              "<table border=\"1\" class=\"dataframe\">\n",
              "  <thead>\n",
              "    <tr style=\"text-align: right;\">\n",
              "      <th></th>\n",
              "      <th>id</th>\n",
              "      <th>vendor_id</th>\n",
              "      <th>pickup_datetime</th>\n",
              "      <th>passenger_count</th>\n",
              "      <th>pickup_longitude</th>\n",
              "      <th>pickup_latitude</th>\n",
              "      <th>dropoff_longitude</th>\n",
              "      <th>dropoff_latitude</th>\n",
              "      <th>store_and_fwd_flag</th>\n",
              "    </tr>\n",
              "  </thead>\n",
              "  <tbody>\n",
              "    <tr>\n",
              "      <th>152325</th>\n",
              "      <td>id0159022</td>\n",
              "      <td>2</td>\n",
              "      <td>2016-05-16 13:37:00</td>\n",
              "      <td>1</td>\n",
              "      <td>-77.039436</td>\n",
              "      <td>38.898849</td>\n",
              "      <td>-77.039436</td>\n",
              "      <td>38.898849</td>\n",
              "      <td>N</td>\n",
              "    </tr>\n",
              "    <tr>\n",
              "      <th>157734</th>\n",
              "      <td>id2494438</td>\n",
              "      <td>1</td>\n",
              "      <td>2016-05-14 22:40:31</td>\n",
              "      <td>2</td>\n",
              "      <td>-69.248917</td>\n",
              "      <td>37.527687</td>\n",
              "      <td>-73.958351</td>\n",
              "      <td>40.778332</td>\n",
              "      <td>N</td>\n",
              "    </tr>\n",
              "    <tr>\n",
              "      <th>203685</th>\n",
              "      <td>id1455078</td>\n",
              "      <td>2</td>\n",
              "      <td>2016-05-02 09:57:00</td>\n",
              "      <td>1</td>\n",
              "      <td>-77.039436</td>\n",
              "      <td>38.898849</td>\n",
              "      <td>-77.039436</td>\n",
              "      <td>38.898849</td>\n",
              "      <td>N</td>\n",
              "    </tr>\n",
              "    <tr>\n",
              "      <th>262912</th>\n",
              "      <td>id1357179</td>\n",
              "      <td>2</td>\n",
              "      <td>2016-04-15 11:47:00</td>\n",
              "      <td>1</td>\n",
              "      <td>-77.039436</td>\n",
              "      <td>38.898849</td>\n",
              "      <td>-77.039436</td>\n",
              "      <td>38.898849</td>\n",
              "      <td>N</td>\n",
              "    </tr>\n",
              "    <tr>\n",
              "      <th>308069</th>\n",
              "      <td>id3858705</td>\n",
              "      <td>1</td>\n",
              "      <td>2016-04-02 22:42:19</td>\n",
              "      <td>1</td>\n",
              "      <td>-76.963242</td>\n",
              "      <td>38.946033</td>\n",
              "      <td>-76.963242</td>\n",
              "      <td>38.946033</td>\n",
              "      <td>N</td>\n",
              "    </tr>\n",
              "    <tr>\n",
              "      <th>324125</th>\n",
              "      <td>id0505885</td>\n",
              "      <td>2</td>\n",
              "      <td>2016-03-29 14:28:46</td>\n",
              "      <td>2</td>\n",
              "      <td>-121.933128</td>\n",
              "      <td>37.389587</td>\n",
              "      <td>-121.933327</td>\n",
              "      <td>37.389374</td>\n",
              "      <td>N</td>\n",
              "    </tr>\n",
              "    <tr>\n",
              "      <th>336944</th>\n",
              "      <td>id1304703</td>\n",
              "      <td>2</td>\n",
              "      <td>2016-03-25 17:21:00</td>\n",
              "      <td>3</td>\n",
              "      <td>-76.991531</td>\n",
              "      <td>38.864689</td>\n",
              "      <td>-76.991531</td>\n",
              "      <td>38.864689</td>\n",
              "      <td>N</td>\n",
              "    </tr>\n",
              "    <tr>\n",
              "      <th>344754</th>\n",
              "      <td>id3395374</td>\n",
              "      <td>2</td>\n",
              "      <td>2016-03-23 13:46:00</td>\n",
              "      <td>1</td>\n",
              "      <td>-76.991531</td>\n",
              "      <td>38.864689</td>\n",
              "      <td>-76.991531</td>\n",
              "      <td>38.864689</td>\n",
              "      <td>N</td>\n",
              "    </tr>\n",
              "    <tr>\n",
              "      <th>380737</th>\n",
              "      <td>id3233992</td>\n",
              "      <td>1</td>\n",
              "      <td>2016-03-13 04:20:44</td>\n",
              "      <td>3</td>\n",
              "      <td>-79.487900</td>\n",
              "      <td>40.739159</td>\n",
              "      <td>-79.487900</td>\n",
              "      <td>40.739159</td>\n",
              "      <td>N</td>\n",
              "    </tr>\n",
              "    <tr>\n",
              "      <th>483163</th>\n",
              "      <td>id1850697</td>\n",
              "      <td>1</td>\n",
              "      <td>2016-02-13 16:37:27</td>\n",
              "      <td>1</td>\n",
              "      <td>-77.598213</td>\n",
              "      <td>42.814938</td>\n",
              "      <td>-77.598213</td>\n",
              "      <td>42.814938</td>\n",
              "      <td>N</td>\n",
              "    </tr>\n",
              "    <tr>\n",
              "      <th>546817</th>\n",
              "      <td>id3933508</td>\n",
              "      <td>1</td>\n",
              "      <td>2016-01-26 11:54:17</td>\n",
              "      <td>1</td>\n",
              "      <td>-69.328209</td>\n",
              "      <td>41.491604</td>\n",
              "      <td>-69.328209</td>\n",
              "      <td>41.491604</td>\n",
              "      <td>N</td>\n",
              "    </tr>\n",
              "  </tbody>\n",
              "</table>\n",
              "</div>\n",
              "      <button class=\"colab-df-convert\" onclick=\"convertToInteractive('df-45c943f4-b042-41b8-8105-aab88d30d0b1')\"\n",
              "              title=\"Convert this dataframe to an interactive table.\"\n",
              "              style=\"display:none;\">\n",
              "        \n",
              "  <svg xmlns=\"http://www.w3.org/2000/svg\" height=\"24px\"viewBox=\"0 0 24 24\"\n",
              "       width=\"24px\">\n",
              "    <path d=\"M0 0h24v24H0V0z\" fill=\"none\"/>\n",
              "    <path d=\"M18.56 5.44l.94 2.06.94-2.06 2.06-.94-2.06-.94-.94-2.06-.94 2.06-2.06.94zm-11 1L8.5 8.5l.94-2.06 2.06-.94-2.06-.94L8.5 2.5l-.94 2.06-2.06.94zm10 10l.94 2.06.94-2.06 2.06-.94-2.06-.94-.94-2.06-.94 2.06-2.06.94z\"/><path d=\"M17.41 7.96l-1.37-1.37c-.4-.4-.92-.59-1.43-.59-.52 0-1.04.2-1.43.59L10.3 9.45l-7.72 7.72c-.78.78-.78 2.05 0 2.83L4 21.41c.39.39.9.59 1.41.59.51 0 1.02-.2 1.41-.59l7.78-7.78 2.81-2.81c.8-.78.8-2.07 0-2.86zM5.41 20L4 18.59l7.72-7.72 1.47 1.35L5.41 20z\"/>\n",
              "  </svg>\n",
              "      </button>\n",
              "      \n",
              "  <style>\n",
              "    .colab-df-container {\n",
              "      display:flex;\n",
              "      flex-wrap:wrap;\n",
              "      gap: 12px;\n",
              "    }\n",
              "\n",
              "    .colab-df-convert {\n",
              "      background-color: #E8F0FE;\n",
              "      border: none;\n",
              "      border-radius: 50%;\n",
              "      cursor: pointer;\n",
              "      display: none;\n",
              "      fill: #1967D2;\n",
              "      height: 32px;\n",
              "      padding: 0 0 0 0;\n",
              "      width: 32px;\n",
              "    }\n",
              "\n",
              "    .colab-df-convert:hover {\n",
              "      background-color: #E2EBFA;\n",
              "      box-shadow: 0px 1px 2px rgba(60, 64, 67, 0.3), 0px 1px 3px 1px rgba(60, 64, 67, 0.15);\n",
              "      fill: #174EA6;\n",
              "    }\n",
              "\n",
              "    [theme=dark] .colab-df-convert {\n",
              "      background-color: #3B4455;\n",
              "      fill: #D2E3FC;\n",
              "    }\n",
              "\n",
              "    [theme=dark] .colab-df-convert:hover {\n",
              "      background-color: #434B5C;\n",
              "      box-shadow: 0px 1px 3px 1px rgba(0, 0, 0, 0.15);\n",
              "      filter: drop-shadow(0px 1px 2px rgba(0, 0, 0, 0.3));\n",
              "      fill: #FFFFFF;\n",
              "    }\n",
              "  </style>\n",
              "\n",
              "      <script>\n",
              "        const buttonEl =\n",
              "          document.querySelector('#df-45c943f4-b042-41b8-8105-aab88d30d0b1 button.colab-df-convert');\n",
              "        buttonEl.style.display =\n",
              "          google.colab.kernel.accessAllowed ? 'block' : 'none';\n",
              "\n",
              "        async function convertToInteractive(key) {\n",
              "          const element = document.querySelector('#df-45c943f4-b042-41b8-8105-aab88d30d0b1');\n",
              "          const dataTable =\n",
              "            await google.colab.kernel.invokeFunction('convertToInteractive',\n",
              "                                                     [key], {});\n",
              "          if (!dataTable) return;\n",
              "\n",
              "          const docLinkHtml = 'Like what you see? Visit the ' +\n",
              "            '<a target=\"_blank\" href=https://colab.research.google.com/notebooks/data_table.ipynb>data table notebook</a>'\n",
              "            + ' to learn more about interactive tables.';\n",
              "          element.innerHTML = '';\n",
              "          dataTable['output_type'] = 'display_data';\n",
              "          await google.colab.output.renderOutput(dataTable, element);\n",
              "          const docLink = document.createElement('div');\n",
              "          docLink.innerHTML = docLinkHtml;\n",
              "          element.appendChild(docLink);\n",
              "        }\n",
              "      </script>\n",
              "    </div>\n",
              "  </div>\n",
              "  "
            ]
          },
          "metadata": {},
          "execution_count": 22
        }
      ]
    },
    {
      "cell_type": "markdown",
      "source": [
        "#Feature engineering"
      ],
      "metadata": {
        "id": "eecs0soE58xh"
      }
    },
    {
      "cell_type": "code",
      "source": [
        "from pandarallel import pandarallel\n",
        "\n",
        "pandarallel.initialize(progress_bar=True)"
      ],
      "metadata": {
        "colab": {
          "base_uri": "https://localhost:8080/"
        },
        "id": "H8lG7JK25sX-",
        "outputId": "79d1ca7c-808d-4cf6-af64-7480c19caa91"
      },
      "execution_count": null,
      "outputs": [
        {
          "output_type": "stream",
          "name": "stdout",
          "text": [
            "INFO: Pandarallel will run on 1 workers.\n",
            "INFO: Pandarallel will use Memory file system to transfer data between the main process and workers.\n"
          ]
        }
      ]
    },
    {
      "cell_type": "code",
      "source": [
        "from math import radians, cos, sin, asin, sqrt\n",
        "\n",
        "def haversin(data):\n",
        "  lon1 = data['pickup_longitude']\n",
        "  lat1 = data['pickup_latitude']\n",
        "  lon2 = data['dropoff_longitude']\n",
        "  lat2 = data['dropoff_latitude']\n",
        "\n",
        "  lon1, lat1, lon2, lat2 = map(radians, [lon1, lat1, lon2, lat2])\n",
        "\n",
        "  dlon = lon2 - lon1\n",
        "  dlat = lat2 - lat1\n",
        "  a = sin(dlat / 2) ** 2 + cos(lat1) * cos(lat2) * sin(dlon / 2) ** 2\n",
        "  c = 2 * asin(sqrt(a))\n",
        "\n",
        "  r = 6371.21\n",
        "  return c * r"
      ],
      "metadata": {
        "id": "CBCokep06Md5"
      },
      "execution_count": null,
      "outputs": []
    },
    {
      "cell_type": "code",
      "source": [
        "df['distance_geo'] = df[['pickup_longitude', 'pickup_latitude', 'dropoff_longitude',\n",
        "                         'dropoff_latitude']].parallel_apply(haversin, axis=1)"
      ],
      "metadata": {
        "colab": {
          "base_uri": "https://localhost:8080/",
          "height": 48,
          "referenced_widgets": [
            "f59e4cb1dbaf463cb7875990801bd954",
            "8f91dc3735d94630a68e9b54d7e244cc",
            "ab56249cb76e435196d8a977a993a875",
            "7def1235c3b645fd8a513ce7e9ecd64d",
            "da1b61cb481942dca00800653ebf888e",
            "44f1037b4ce54b5a8e1b77df9a174335",
            "6d5c0e114dfa4a9fa22585dee4ed6e6e",
            "37a87b891a8e4e62af1deadcc73a38af",
            "c1bce2630275484d80845e5298a84a75",
            "f6c7a67f6253429ca022a5900dddcd08"
          ]
        },
        "id": "eLxXcOWB9YFf",
        "outputId": "c1aff190-156c-444d-f94d-e339954dcf5f"
      },
      "execution_count": null,
      "outputs": [
        {
          "output_type": "display_data",
          "data": {
            "text/plain": [
              "VBox(children=(HBox(children=(IntProgress(value=0, description='0.00%', max=1458612), Label(value='0 / 1458612…"
            ],
            "application/vnd.jupyter.widget-view+json": {
              "version_major": 2,
              "version_minor": 0,
              "model_id": "f59e4cb1dbaf463cb7875990801bd954"
            }
          },
          "metadata": {}
        }
      ]
    },
    {
      "cell_type": "code",
      "source": [
        "df['pickup_datetime'] = pd.to_datetime(df['pickup_datetime'])\n",
        "\n",
        "df['pickup_month'] = df['pickup_datetime'].apply(lambda x: x.month)\n",
        "df['pickup_day'] = df['pickup_datetime'].apply(lambda x: x.day)\n",
        "df['pickup_dayofweek'] = df['pickup_datetime'].apply(lambda x: x.dayofweek)\n",
        "df['pickup_hour'] = df['pickup_datetime'].apply(lambda x: x.hour)\n",
        "df['pickup_minute'] = df['pickup_datetime'].apply(lambda x: x.minute)\n",
        "df['pickup_weekends'] = df['pickup_dayofweek'].apply(lambda x: 1 if x >= 5 else 0)\n",
        "\n",
        "df['store_and_fwd_flag'] = 1 * (df.store_and_fwd_flag.values == 'Y')"
      ],
      "metadata": {
        "id": "J1dTooxf9ysg"
      },
      "execution_count": null,
      "outputs": []
    },
    {
      "cell_type": "code",
      "source": [
        "test['distance_geo'] = test[['pickup_longitude', 'pickup_latitude', 'dropoff_longitude',\n",
        "                             'dropoff_latitude']].parallel_apply(haversin, axis=1)"
      ],
      "metadata": {
        "colab": {
          "base_uri": "https://localhost:8080/",
          "height": 48,
          "referenced_widgets": [
            "2030459868594cfb86d73c50452f29e0",
            "a57b4b80d38e439b8664c90dac5f08d3",
            "b635c537670f4541bffe5ddd5a4386b7",
            "9862de7fad4d4754aa0eaf06c0fed144",
            "f17f65652712489e835a3170ca0f30c5",
            "1279a7075f9c446991a17f997c71eb2b",
            "88e47a6abe6a42c3810007e56f49e5cd",
            "38e39202f95341289df72fbd7d54289a",
            "6923c8d1181f4c22b67c9b3c34234420",
            "f1b78375a5c34c7e95140bbeb5dbde61"
          ]
        },
        "id": "waO_SHGG_N_v",
        "outputId": "6946c9dd-2976-4205-9cf4-8ad0bb24d8e0"
      },
      "execution_count": null,
      "outputs": [
        {
          "output_type": "display_data",
          "data": {
            "text/plain": [
              "VBox(children=(HBox(children=(IntProgress(value=0, description='0.00%', max=625134), Label(value='0 / 625134')…"
            ],
            "application/vnd.jupyter.widget-view+json": {
              "version_major": 2,
              "version_minor": 0,
              "model_id": "2030459868594cfb86d73c50452f29e0"
            }
          },
          "metadata": {}
        }
      ]
    },
    {
      "cell_type": "code",
      "source": [
        "df.reset_index(drop=True, inplace=True)"
      ],
      "metadata": {
        "id": "t07o6v9--Rle"
      },
      "execution_count": null,
      "outputs": []
    },
    {
      "cell_type": "code",
      "source": [
        "df.trip_duration.describe()"
      ],
      "metadata": {
        "colab": {
          "base_uri": "https://localhost:8080/"
        },
        "id": "bHWRbqea-k1J",
        "outputId": "529836f1-4480-4788-d864-9e700fe829b7"
      },
      "execution_count": null,
      "outputs": [
        {
          "output_type": "execute_result",
          "data": {
            "text/plain": [
              "count    1.458612e+06\n",
              "mean     9.594638e+02\n",
              "std      5.237432e+03\n",
              "min      1.000000e+00\n",
              "25%      3.970000e+02\n",
              "50%      6.620000e+02\n",
              "75%      1.075000e+03\n",
              "max      3.526282e+06\n",
              "Name: trip_duration, dtype: float64"
            ]
          },
          "metadata": {},
          "execution_count": 31
        }
      ]
    },
    {
      "cell_type": "code",
      "source": [
        "sns.displot(df.trip_duration, bins=100);"
      ],
      "metadata": {
        "colab": {
          "base_uri": "https://localhost:8080/",
          "height": 368
        },
        "id": "7q3xacCr-oA9",
        "outputId": "8446b6e8-02ac-421e-9b54-c870df068469"
      },
      "execution_count": null,
      "outputs": [
        {
          "output_type": "display_data",
          "data": {
            "text/plain": [
              "<Figure size 360x360 with 1 Axes>"
            ],
            "image/png": "[encoded data removed]"
          },
          "metadata": {
            "needs_background": "light"
          }
        }
      ]
    },
    {
      "cell_type": "code",
      "source": [
        "df = df.assign(log_trip_duration=np.log(df.trip_duration + 1))"
      ],
      "metadata": {
        "id": "zyMN8i4i-sC5"
      },
      "execution_count": null,
      "outputs": []
    },
    {
      "cell_type": "code",
      "source": [
        "sns.displot(df.log_trip_duration, bins=100);"
      ],
      "metadata": {
        "colab": {
          "base_uri": "https://localhost:8080/",
          "height": 368
        },
        "id": "lcl5FhxW-wxf",
        "outputId": "28530b48-ad6b-4fdd-a39f-c88cd21cd18f"
      },
      "execution_count": null,
      "outputs": [
        {
          "output_type": "display_data",
          "data": {
            "text/plain": [
              "<Figure size 360x360 with 1 Axes>"
            ],
            "image/png": "[encoded data removed]"
          },
          "metadata": {
            "needs_background": "light"
          }
        }
      ]
    },
    {
      "cell_type": "code",
      "source": [
        "df.head(2)"
      ],
      "metadata": {
        "colab": {
          "base_uri": "https://localhost:8080/",
          "height": 211
        },
        "id": "27k7lQbu_ZpI",
        "outputId": "fb4b3408-a067-486a-914f-7ecc9ffed1ee"
      },
      "execution_count": null,
      "outputs": [
        {
          "output_type": "execute_result",
          "data": {
            "text/plain": [
              "          id  vendor_id     pickup_datetime     dropoff_datetime  \\\n",
              "0  id2875421          2 2016-03-14 17:24:55  2016-03-14 17:32:30   \n",
              "1  id2377394          1 2016-06-12 00:43:35  2016-06-12 00:54:38   \n",
              "\n",
              "   passenger_count  pickup_longitude  pickup_latitude  dropoff_longitude  \\\n",
              "0                1        -73.982155        40.767937         -73.964630   \n",
              "1                1        -73.980415        40.738564         -73.999481   \n",
              "\n",
              "   dropoff_latitude  store_and_fwd_flag  trip_duration  distance_geo  \\\n",
              "0         40.765602                   0            455      1.498570   \n",
              "1         40.731152                   0            663      1.805567   \n",
              "\n",
              "   pickup_month  pickup_day  pickup_dayofweek  pickup_hour  pickup_minute  \\\n",
              "0             3          14                 0           17             24   \n",
              "1             6          12                 6            0             43   \n",
              "\n",
              "   pickup_weekends  log_trip_duration  trip_duration_hour  \n",
              "0                0           6.122493            0.126389  \n",
              "1                1           6.498282            0.184167  "
            ],
            "text/html": [
              "\n",
              "  <div id=\"df-d8fc2bdf-f340-4add-9969-9c8f137e4428\">\n",
              "    <div class=\"colab-df-container\">\n",
              "      <div>\n",
              "<style scoped>\n",
              "    .dataframe tbody tr th:only-of-type {\n",
              "        vertical-align: middle;\n",
              "    }\n",
              "\n",
              "    .dataframe tbody tr th {\n",
              "        vertical-align: top;\n",
              "    }\n",
              "\n",
              "    .dataframe thead th {\n",
              "        text-align: right;\n",
              "    }\n",
              "</style>\n",
              "<table border=\"1\" class=\"dataframe\">\n",
              "  <thead>\n",
              "    <tr style=\"text-align: right;\">\n",
              "      <th></th>\n",
              "      <th>id</th>\n",
              "      <th>vendor_id</th>\n",
              "      <th>pickup_datetime</th>\n",
              "      <th>dropoff_datetime</th>\n",
              "      <th>passenger_count</th>\n",
              "      <th>pickup_longitude</th>\n",
              "      <th>pickup_latitude</th>\n",
              "      <th>dropoff_longitude</th>\n",
              "      <th>dropoff_latitude</th>\n",
              "      <th>store_and_fwd_flag</th>\n",
              "      <th>trip_duration</th>\n",
              "      <th>distance_geo</th>\n",
              "      <th>pickup_month</th>\n",
              "      <th>pickup_day</th>\n",
              "      <th>pickup_dayofweek</th>\n",
              "      <th>pickup_hour</th>\n",
              "      <th>pickup_minute</th>\n",
              "      <th>pickup_weekends</th>\n",
              "      <th>log_trip_duration</th>\n",
              "      <th>trip_duration_hour</th>\n",
              "    </tr>\n",
              "  </thead>\n",
              "  <tbody>\n",
              "    <tr>\n",
              "      <th>0</th>\n",
              "      <td>id2875421</td>\n",
              "      <td>2</td>\n",
              "      <td>2016-03-14 17:24:55</td>\n",
              "      <td>2016-03-14 17:32:30</td>\n",
              "      <td>1</td>\n",
              "      <td>-73.982155</td>\n",
              "      <td>40.767937</td>\n",
              "      <td>-73.964630</td>\n",
              "      <td>40.765602</td>\n",
              "      <td>0</td>\n",
              "      <td>455</td>\n",
              "      <td>1.498570</td>\n",
              "      <td>3</td>\n",
              "      <td>14</td>\n",
              "      <td>0</td>\n",
              "      <td>17</td>\n",
              "      <td>24</td>\n",
              "      <td>0</td>\n",
              "      <td>6.122493</td>\n",
              "      <td>0.126389</td>\n",
              "    </tr>\n",
              "    <tr>\n",
              "      <th>1</th>\n",
              "      <td>id2377394</td>\n",
              "      <td>1</td>\n",
              "      <td>2016-06-12 00:43:35</td>\n",
              "      <td>2016-06-12 00:54:38</td>\n",
              "      <td>1</td>\n",
              "      <td>-73.980415</td>\n",
              "      <td>40.738564</td>\n",
              "      <td>-73.999481</td>\n",
              "      <td>40.731152</td>\n",
              "      <td>0</td>\n",
              "      <td>663</td>\n",
              "      <td>1.805567</td>\n",
              "      <td>6</td>\n",
              "      <td>12</td>\n",
              "      <td>6</td>\n",
              "      <td>0</td>\n",
              "      <td>43</td>\n",
              "      <td>1</td>\n",
              "      <td>6.498282</td>\n",
              "      <td>0.184167</td>\n",
              "    </tr>\n",
              "  </tbody>\n",
              "</table>\n",
              "</div>\n",
              "      <button class=\"colab-df-convert\" onclick=\"convertToInteractive('df-d8fc2bdf-f340-4add-9969-9c8f137e4428')\"\n",
              "              title=\"Convert this dataframe to an interactive table.\"\n",
              "              style=\"display:none;\">\n",
              "        \n",
              "  <svg xmlns=\"http://www.w3.org/2000/svg\" height=\"24px\"viewBox=\"0 0 24 24\"\n",
              "       width=\"24px\">\n",
              "    <path d=\"M0 0h24v24H0V0z\" fill=\"none\"/>\n",
              "    <path d=\"M18.56 5.44l.94 2.06.94-2.06 2.06-.94-2.06-.94-.94-2.06-.94 2.06-2.06.94zm-11 1L8.5 8.5l.94-2.06 2.06-.94-2.06-.94L8.5 2.5l-.94 2.06-2.06.94zm10 10l.94 2.06.94-2.06 2.06-.94-2.06-.94-.94-2.06-.94 2.06-2.06.94z\"/><path d=\"M17.41 7.96l-1.37-1.37c-.4-.4-.92-.59-1.43-.59-.52 0-1.04.2-1.43.59L10.3 9.45l-7.72 7.72c-.78.78-.78 2.05 0 2.83L4 21.41c.39.39.9.59 1.41.59.51 0 1.02-.2 1.41-.59l7.78-7.78 2.81-2.81c.8-.78.8-2.07 0-2.86zM5.41 20L4 18.59l7.72-7.72 1.47 1.35L5.41 20z\"/>\n",
              "  </svg>\n",
              "      </button>\n",
              "      \n",
              "  <style>\n",
              "    .colab-df-container {\n",
              "      display:flex;\n",
              "      flex-wrap:wrap;\n",
              "      gap: 12px;\n",
              "    }\n",
              "\n",
              "    .colab-df-convert {\n",
              "      background-color: #E8F0FE;\n",
              "      border: none;\n",
              "      border-radius: 50%;\n",
              "      cursor: pointer;\n",
              "      display: none;\n",
              "      fill: #1967D2;\n",
              "      height: 32px;\n",
              "      padding: 0 0 0 0;\n",
              "      width: 32px;\n",
              "    }\n",
              "\n",
              "    .colab-df-convert:hover {\n",
              "      background-color: #E2EBFA;\n",
              "      box-shadow: 0px 1px 2px rgba(60, 64, 67, 0.3), 0px 1px 3px 1px rgba(60, 64, 67, 0.15);\n",
              "      fill: #174EA6;\n",
              "    }\n",
              "\n",
              "    [theme=dark] .colab-df-convert {\n",
              "      background-color: #3B4455;\n",
              "      fill: #D2E3FC;\n",
              "    }\n",
              "\n",
              "    [theme=dark] .colab-df-convert:hover {\n",
              "      background-color: #434B5C;\n",
              "      box-shadow: 0px 1px 3px 1px rgba(0, 0, 0, 0.15);\n",
              "      filter: drop-shadow(0px 1px 2px rgba(0, 0, 0, 0.3));\n",
              "      fill: #FFFFFF;\n",
              "    }\n",
              "  </style>\n",
              "\n",
              "      <script>\n",
              "        const buttonEl =\n",
              "          document.querySelector('#df-d8fc2bdf-f340-4add-9969-9c8f137e4428 button.colab-df-convert');\n",
              "        buttonEl.style.display =\n",
              "          google.colab.kernel.accessAllowed ? 'block' : 'none';\n",
              "\n",
              "        async function convertToInteractive(key) {\n",
              "          const element = document.querySelector('#df-d8fc2bdf-f340-4add-9969-9c8f137e4428');\n",
              "          const dataTable =\n",
              "            await google.colab.kernel.invokeFunction('convertToInteractive',\n",
              "                                                     [key], {});\n",
              "          if (!dataTable) return;\n",
              "\n",
              "          const docLinkHtml = 'Like what you see? Visit the ' +\n",
              "            '<a target=\"_blank\" href=https://colab.research.google.com/notebooks/data_table.ipynb>data table notebook</a>'\n",
              "            + ' to learn more about interactive tables.';\n",
              "          element.innerHTML = '';\n",
              "          dataTable['output_type'] = 'display_data';\n",
              "          await google.colab.output.renderOutput(dataTable, element);\n",
              "          const docLink = document.createElement('div');\n",
              "          docLink.innerHTML = docLinkHtml;\n",
              "          element.appendChild(docLink);\n",
              "        }\n",
              "      </script>\n",
              "    </div>\n",
              "  </div>\n",
              "  "
            ]
          },
          "metadata": {},
          "execution_count": 41
        }
      ]
    },
    {
      "cell_type": "code",
      "source": [
        "df['trip_duration_hour'] = df['trip_duration'] / 3600\n",
        "\n",
        "df['speed_km_h'] = df['distance_geo'] / df['trip_duration_hour']"
      ],
      "metadata": {
        "id": "bhBufSxq-y_G"
      },
      "execution_count": null,
      "outputs": []
    },
    {
      "cell_type": "code",
      "source": [
        "df['speed_km_h'].describe()"
      ],
      "metadata": {
        "colab": {
          "base_uri": "https://localhost:8080/"
        },
        "id": "pDSgm_hx-5ba",
        "outputId": "5e4863cf-8a61-4e3e-b266-96a098654c75"
      },
      "execution_count": null,
      "outputs": [
        {
          "output_type": "execute_result",
          "data": {
            "text/plain": [
              "count    1.458612e+06\n",
              "mean     1.440683e+01\n",
              "std      1.244372e+01\n",
              "min      0.000000e+00\n",
              "25%      9.121690e+00\n",
              "50%      1.279241e+01\n",
              "75%      1.784527e+01\n",
              "max      9.275142e+03\n",
              "Name: speed_km_h, dtype: float64"
            ]
          },
          "metadata": {},
          "execution_count": 43
        }
      ]
    },
    {
      "cell_type": "code",
      "source": [
        "df['passenger_count'].unique()"
      ],
      "metadata": {
        "colab": {
          "base_uri": "https://localhost:8080/"
        },
        "id": "29jIUs_m_rfm",
        "outputId": "91240f6e-d13c-4767-c1b2-f4f4b8d6cbb9"
      },
      "execution_count": null,
      "outputs": [
        {
          "output_type": "execute_result",
          "data": {
            "text/plain": [
              "array([1, 6, 4, 2, 3, 5, 0, 7, 9, 8])"
            ]
          },
          "metadata": {},
          "execution_count": 44
        }
      ]
    },
    {
      "cell_type": "markdown",
      "source": [
        "#Обработка выбросов"
      ],
      "metadata": {
        "id": "e0llpvSi_uK8"
      }
    },
    {
      "cell_type": "code",
      "source": [
        "df = df[~df.passenger_count.isin([0, 7, 8, 9])]\n",
        "df = df[df.speed_km_h.between(0.1, 220)]"
      ],
      "metadata": {
        "id": "r7evEANy_xBP"
      },
      "execution_count": null,
      "outputs": []
    },
    {
      "cell_type": "code",
      "source": [
        "num_cols = ['trip_duration_hour', 'speed_km_h', 'distance_geo']\n",
        "\n",
        "numeric_features = df[num_cols]\n",
        "\n",
        "numeric_features = numeric_features.stack().reset_index().rename(\n",
        "    columns={\"level_1\": \"Features\", 0: \"Value\"})\n",
        "\n",
        "ax = sns.FacetGrid(data=numeric_features, col=\"Features\",\n",
        "                   col_wrap=3, sharex=False, sharey=False)\n",
        "ax = ax.map(sns.distplot, \"Value\")\n",
        "\n",
        "plt.subplots_adjust(top=2, right=2)"
      ],
      "metadata": {
        "colab": {
          "base_uri": "https://localhost:8080/",
          "height": 233
        },
        "id": "dlk1tXP3AXEU",
        "outputId": "6ddcab56-315a-4f94-edf8-199a878cb5d7"
      },
      "execution_count": null,
      "outputs": [
        {
          "output_type": "display_data",
          "data": {
            "text/plain": [
              "<Figure size 648x216 with 3 Axes>"
            ],
            "image/png": "[encoded data removed]"
          },
          "metadata": {
            "needs_background": "light"
          }
        }
      ]
    },
    {
      "cell_type": "code",
      "source": [
        "for i in num_cols:\n",
        "    df['log_'+i] = np.log(df[i]+1)"
      ],
      "metadata": {
        "id": "H6yZzvPvAiU0"
      },
      "execution_count": null,
      "outputs": []
    },
    {
      "cell_type": "code",
      "source": [
        "num_cols = ['log_trip_duration_hour', 'log_speed_km_h', 'log_distance_geo']"
      ],
      "metadata": {
        "id": "L8TEv2B7AkeS"
      },
      "execution_count": null,
      "outputs": []
    },
    {
      "cell_type": "code",
      "source": [
        "numeric_features = df[num_cols]\n",
        "\n",
        "numeric_features = numeric_features.stack().reset_index().rename(columns={\n",
        "    \"level_1\": \"Features\",\n",
        "    0: \"Value\"\n",
        "})\n",
        "\n",
        "ax = sns.FacetGrid(data=numeric_features,\n",
        "                   col=\"Features\",\n",
        "                   col_wrap=3,\n",
        "                   sharex=False,\n",
        "                   sharey=False)\n",
        "ax = ax.map(sns.distplot, \"Value\")\n",
        "\n",
        "plt.subplots_adjust(top=2, right=2)"
      ],
      "metadata": {
        "colab": {
          "base_uri": "https://localhost:8080/",
          "height": 232
        },
        "id": "MkpCL89AAvfK",
        "outputId": "715c4282-cd59-465c-c5c4-c5fd7e54a4b1"
      },
      "execution_count": null,
      "outputs": [
        {
          "output_type": "display_data",
          "data": {
            "text/plain": [
              "<Figure size 648x216 with 3 Axes>"
            ],
            "image/png": "[encoded data removed]"
          },
          "metadata": {
            "needs_background": "light"
          }
        }
      ]
    },
    {
      "cell_type": "code",
      "source": [
        "norm_hours = (df.groupby(['pickup_weekends'])['pickup_hour']\n",
        "              .value_counts(normalize=True)\n",
        "              .rename('percentage')\n",
        "              .mul(100)\n",
        "              .reset_index()\n",
        "              .sort_values('pickup_hour'))\n",
        "\n",
        "plt.figure(figsize=(15, 7))\n",
        "ax = sns.barplot(x=\"pickup_hour\", y=\"percentage\", hue=\"pickup_weekends\", data=norm_hours)\n",
        "\n",
        "plt.title('Hour-Weekends', fontsize=20)\n",
        "plt.ylabel('Percentage', fontsize=14)\n",
        "plt.xlabel('Hour', fontsize=14)\n",
        "\n",
        "plt.xticks(fontsize=14)\n",
        "plt.yticks(fontsize=14);"
      ],
      "metadata": {
        "colab": {
          "base_uri": "https://localhost:8080/",
          "height": 338
        },
        "id": "sLJxLZklAxoz",
        "outputId": "45beba14-6887-468a-a9b2-d6767f3dea57"
      },
      "execution_count": null,
      "outputs": [
        {
          "output_type": "display_data",
          "data": {
            "text/plain": [
              "<Figure size 1080x504 with 1 Axes>"
            ],
            "image/png": "[encoded data removed]"
          },
          "metadata": {
            "needs_background": "light"
          }
        }
      ]
    },
    {
      "cell_type": "markdown",
      "source": [
        "#Modeling"
      ],
      "metadata": {
        "id": "LuMHUgK0A8g4"
      }
    },
    {
      "cell_type": "code",
      "source": [
        "!pip install lightautoml"
      ],
      "metadata": {
        "colab": {
          "base_uri": "https://localhost:8080/",
          "height": 1000
        },
        "id": "MXBN4fMKBAb2",
        "outputId": "67510698-2d82-4f2f-c812-96783aced562"
      },
      "execution_count": null,
      "outputs": [
        {
          "output_type": "stream",
          "name": "stdout",
          "text": [
            "Collecting lightautoml\n",
            "  Downloading LightAutoML-0.3.3-py3-none-any.whl (294 kB)\n",
            "\u001b[K     |████████████████████████████████| 294 kB 5.3 MB/s \n",
            "\u001b[?25hCollecting dataclasses==0.6\n",
            "  Downloading dataclasses-0.6-py3-none-any.whl (14 kB)\n",
            "Collecting lightgbm<3.0,>=2.3\n",
            "  Downloading lightgbm-2.3.1-py2.py3-none-manylinux1_x86_64.whl (1.2 MB)\n",
            "\u001b[K     |████████████████████████████████| 1.2 MB 35.9 MB/s \n",
            "\u001b[?25hRequirement already satisfied: tqdm in /usr/local/lib/python3.7/dist-packages (from lightautoml) (4.63.0)\n",
            "Collecting torch<1.9\n",
            "  Downloading torch-1.8.1-cp37-cp37m-manylinux1_x86_64.whl (804.1 MB)\n",
            "\u001b[K     |████████████████████████████████| 804.1 MB 2.8 kB/s \n",
            "\u001b[?25hRequirement already satisfied: networkx in /usr/local/lib/python3.7/dist-packages (from lightautoml) (2.6.3)\n",
            "Requirement already satisfied: numpy>=1.20.0 in /usr/local/lib/python3.7/dist-packages (from lightautoml) (1.21.5)\n",
            "Collecting importlib-metadata<2.0,>=1.0\n",
            "  Downloading importlib_metadata-1.7.0-py2.py3-none-any.whl (31 kB)\n",
            "Requirement already satisfied: cmaes in /usr/local/lib/python3.7/dist-packages (from lightautoml) (0.8.2)\n",
            "Requirement already satisfied: optuna in /usr/local/lib/python3.7/dist-packages (from lightautoml) (2.10.0)\n",
            "Requirement already satisfied: pandas>=1 in /usr/local/lib/python3.7/dist-packages (from lightautoml) (1.3.5)\n",
            "Collecting poetry-core<2.0.0,>=1.0.0\n",
            "  Downloading poetry_core-1.0.8-py2.py3-none-any.whl (425 kB)\n",
            "\u001b[K     |████████████████████████████████| 425 kB 46.3 MB/s \n",
            "\u001b[?25hCollecting json2html\n",
            "  Downloading json2html-1.3.0.tar.gz (7.0 kB)\n",
            "Requirement already satisfied: jinja2 in /usr/local/lib/python3.7/dist-packages (from lightautoml) (2.11.3)\n",
            "Requirement already satisfied: pyyaml in /usr/local/lib/python3.7/dist-packages (from lightautoml) (3.13)\n",
            "Collecting catboost\n",
            "  Downloading catboost-1.0.4-cp37-none-manylinux1_x86_64.whl (76.1 MB)\n",
            "\u001b[K     |████████████████████████████████| 76.1 MB 1.4 MB/s \n",
            "\u001b[?25hRequirement already satisfied: holidays in /usr/local/lib/python3.7/dist-packages (from lightautoml) (0.10.5.2)\n",
            "Requirement already satisfied: seaborn in /usr/local/lib/python3.7/dist-packages (from lightautoml) (0.11.2)\n",
            "Requirement already satisfied: torchvision in /usr/local/lib/python3.7/dist-packages (from lightautoml) (0.11.1+cu111)\n",
            "Requirement already satisfied: scipy in /usr/local/lib/python3.7/dist-packages (from lightautoml) (1.4.1)\n",
            "Collecting autowoe>=1.2\n",
            "  Downloading AutoWoE-1.3.0-py3-none-any.whl (212 kB)\n",
            "\u001b[K     |████████████████████████████████| 212 kB 49.1 MB/s \n",
            "\u001b[?25hRequirement already satisfied: joblib in /usr/local/lib/python3.7/dist-packages (from lightautoml) (1.1.0)\n",
            "Requirement already satisfied: scikit-learn>=0.22 in /usr/local/lib/python3.7/dist-packages (from lightautoml) (1.0.2)\n",
            "Requirement already satisfied: pytest in /usr/local/lib/python3.7/dist-packages (from autowoe>=1.2->lightautoml) (3.6.4)\n",
            "Requirement already satisfied: pytz in /usr/local/lib/python3.7/dist-packages (from autowoe>=1.2->lightautoml) (2018.9)\n",
            "Requirement already satisfied: sphinx in /usr/local/lib/python3.7/dist-packages (from autowoe>=1.2->lightautoml) (1.8.6)\n",
            "Collecting StrEnum<0.5.0,>=0.4.7\n",
            "  Downloading StrEnum-0.4.7-py3-none-any.whl (9.9 kB)\n",
            "Collecting sphinx-rtd-theme\n",
            "  Downloading sphinx_rtd_theme-1.0.0-py2.py3-none-any.whl (2.8 MB)\n",
            "\u001b[K     |████████████████████████████████| 2.8 MB 37.6 MB/s \n",
            "\u001b[?25hRequirement already satisfied: matplotlib in /usr/local/lib/python3.7/dist-packages (from autowoe>=1.2->lightautoml) (3.2.2)\n",
            "Requirement already satisfied: zipp>=0.5 in /usr/local/lib/python3.7/dist-packages (from importlib-metadata<2.0,>=1.0->lightautoml) (3.7.0)\n",
            "Requirement already satisfied: python-dateutil>=2.7.3 in /usr/local/lib/python3.7/dist-packages (from pandas>=1->lightautoml) (2.8.2)\n",
            "Requirement already satisfied: six>=1.5 in /usr/local/lib/python3.7/dist-packages (from python-dateutil>=2.7.3->pandas>=1->lightautoml) (1.15.0)\n",
            "Requirement already satisfied: threadpoolctl>=2.0.0 in /usr/local/lib/python3.7/dist-packages (from scikit-learn>=0.22->lightautoml) (3.1.0)\n",
            "Requirement already satisfied: typing-extensions in /usr/local/lib/python3.7/dist-packages (from torch<1.9->lightautoml) (3.10.0.2)\n",
            "Requirement already satisfied: graphviz in /usr/local/lib/python3.7/dist-packages (from catboost->lightautoml) (0.10.1)\n",
            "Requirement already satisfied: plotly in /usr/local/lib/python3.7/dist-packages (from catboost->lightautoml) (5.5.0)\n",
            "Requirement already satisfied: convertdate>=2.3.0 in /usr/local/lib/python3.7/dist-packages (from holidays->lightautoml) (2.4.0)\n",
            "Requirement already satisfied: hijri-converter in /usr/local/lib/python3.7/dist-packages (from holidays->lightautoml) (2.2.3)\n",
            "Requirement already satisfied: korean-lunar-calendar in /usr/local/lib/python3.7/dist-packages (from holidays->lightautoml) (0.2.1)\n",
            "Requirement already satisfied: pymeeus<=1,>=0.3.13 in /usr/local/lib/python3.7/dist-packages (from convertdate>=2.3.0->holidays->lightautoml) (0.5.11)\n",
            "Requirement already satisfied: MarkupSafe>=0.23 in /usr/local/lib/python3.7/dist-packages (from jinja2->lightautoml) (2.0.1)\n",
            "Requirement already satisfied: kiwisolver>=1.0.1 in /usr/local/lib/python3.7/dist-packages (from matplotlib->autowoe>=1.2->lightautoml) (1.3.2)\n",
            "Requirement already satisfied: pyparsing!=2.0.4,!=2.1.2,!=2.1.6,>=2.0.1 in /usr/local/lib/python3.7/dist-packages (from matplotlib->autowoe>=1.2->lightautoml) (3.0.7)\n",
            "Requirement already satisfied: cycler>=0.10 in /usr/local/lib/python3.7/dist-packages (from matplotlib->autowoe>=1.2->lightautoml) (0.11.0)\n",
            "Requirement already satisfied: colorlog in /usr/local/lib/python3.7/dist-packages (from optuna->lightautoml) (6.6.0)\n",
            "Requirement already satisfied: cliff in /usr/local/lib/python3.7/dist-packages (from optuna->lightautoml) (3.10.1)\n",
            "Requirement already satisfied: packaging>=20.0 in /usr/local/lib/python3.7/dist-packages (from optuna->lightautoml) (21.3)\n",
            "Requirement already satisfied: sqlalchemy>=1.1.0 in /usr/local/lib/python3.7/dist-packages (from optuna->lightautoml) (1.4.32)\n",
            "Requirement already satisfied: alembic in /usr/local/lib/python3.7/dist-packages (from optuna->lightautoml) (1.7.7)\n",
            "Requirement already satisfied: greenlet!=0.4.17 in /usr/local/lib/python3.7/dist-packages (from sqlalchemy>=1.1.0->optuna->lightautoml) (1.1.2)\n",
            "Requirement already satisfied: Mako in /usr/local/lib/python3.7/dist-packages (from alembic->optuna->lightautoml) (1.2.0)\n",
            "Requirement already satisfied: importlib-resources in /usr/local/lib/python3.7/dist-packages (from alembic->optuna->lightautoml) (5.4.0)\n",
            "Requirement already satisfied: PrettyTable>=0.7.2 in /usr/local/lib/python3.7/dist-packages (from cliff->optuna->lightautoml) (3.2.0)\n",
            "Requirement already satisfied: cmd2>=1.0.0 in /usr/local/lib/python3.7/dist-packages (from cliff->optuna->lightautoml) (2.4.0)\n",
            "Requirement already satisfied: autopage>=0.4.0 in /usr/local/lib/python3.7/dist-packages (from cliff->optuna->lightautoml) (0.5.0)\n",
            "Requirement already satisfied: pbr!=2.1.0,>=2.0.0 in /usr/local/lib/python3.7/dist-packages (from cliff->optuna->lightautoml) (5.8.1)\n",
            "Requirement already satisfied: stevedore>=2.0.1 in /usr/local/lib/python3.7/dist-packages (from cliff->optuna->lightautoml) (3.5.0)\n",
            "Requirement already satisfied: pyperclip>=1.6 in /usr/local/lib/python3.7/dist-packages (from cmd2>=1.0.0->cliff->optuna->lightautoml) (1.8.2)\n",
            "Requirement already satisfied: wcwidth>=0.1.7 in /usr/local/lib/python3.7/dist-packages (from cmd2>=1.0.0->cliff->optuna->lightautoml) (0.2.5)\n",
            "Requirement already satisfied: attrs>=16.3.0 in /usr/local/lib/python3.7/dist-packages (from cmd2>=1.0.0->cliff->optuna->lightautoml) (21.4.0)\n",
            "Requirement already satisfied: tenacity>=6.2.0 in /usr/local/lib/python3.7/dist-packages (from plotly->catboost->lightautoml) (8.0.1)\n",
            "Requirement already satisfied: more-itertools>=4.0.0 in /usr/local/lib/python3.7/dist-packages (from pytest->autowoe>=1.2->lightautoml) (8.12.0)\n",
            "Requirement already satisfied: pluggy<0.8,>=0.5 in /usr/local/lib/python3.7/dist-packages (from pytest->autowoe>=1.2->lightautoml) (0.7.1)\n",
            "Requirement already satisfied: setuptools in /usr/local/lib/python3.7/dist-packages (from pytest->autowoe>=1.2->lightautoml) (57.4.0)\n",
            "Requirement already satisfied: atomicwrites>=1.0 in /usr/local/lib/python3.7/dist-packages (from pytest->autowoe>=1.2->lightautoml) (1.4.0)\n",
            "Requirement already satisfied: py>=1.5.0 in /usr/local/lib/python3.7/dist-packages (from pytest->autowoe>=1.2->lightautoml) (1.11.0)\n",
            "Requirement already satisfied: requests>=2.0.0 in /usr/local/lib/python3.7/dist-packages (from sphinx->autowoe>=1.2->lightautoml) (2.23.0)\n",
            "Requirement already satisfied: babel!=2.0,>=1.3 in /usr/local/lib/python3.7/dist-packages (from sphinx->autowoe>=1.2->lightautoml) (2.9.1)\n",
            "Requirement already satisfied: alabaster<0.8,>=0.7 in /usr/local/lib/python3.7/dist-packages (from sphinx->autowoe>=1.2->lightautoml) (0.7.12)\n",
            "Requirement already satisfied: sphinxcontrib-websupport in /usr/local/lib/python3.7/dist-packages (from sphinx->autowoe>=1.2->lightautoml) (1.2.4)\n",
            "Requirement already satisfied: Pygments>=2.0 in /usr/local/lib/python3.7/dist-packages (from sphinx->autowoe>=1.2->lightautoml) (2.6.1)\n",
            "Requirement already satisfied: snowballstemmer>=1.1 in /usr/local/lib/python3.7/dist-packages (from sphinx->autowoe>=1.2->lightautoml) (2.2.0)\n",
            "Requirement already satisfied: imagesize in /usr/local/lib/python3.7/dist-packages (from sphinx->autowoe>=1.2->lightautoml) (1.3.0)\n",
            "Requirement already satisfied: docutils<0.18,>=0.11 in /usr/local/lib/python3.7/dist-packages (from sphinx->autowoe>=1.2->lightautoml) (0.17.1)\n",
            "Requirement already satisfied: idna<3,>=2.5 in /usr/local/lib/python3.7/dist-packages (from requests>=2.0.0->sphinx->autowoe>=1.2->lightautoml) (2.10)\n",
            "Requirement already satisfied: urllib3!=1.25.0,!=1.25.1,<1.26,>=1.21.1 in /usr/local/lib/python3.7/dist-packages (from requests>=2.0.0->sphinx->autowoe>=1.2->lightautoml) (1.24.3)\n",
            "Requirement already satisfied: chardet<4,>=3.0.2 in /usr/local/lib/python3.7/dist-packages (from requests>=2.0.0->sphinx->autowoe>=1.2->lightautoml) (3.0.4)\n",
            "Requirement already satisfied: certifi>=2017.4.17 in /usr/local/lib/python3.7/dist-packages (from requests>=2.0.0->sphinx->autowoe>=1.2->lightautoml) (2021.10.8)\n",
            "Requirement already satisfied: sphinxcontrib-serializinghtml in /usr/local/lib/python3.7/dist-packages (from sphinxcontrib-websupport->sphinx->autowoe>=1.2->lightautoml) (1.1.5)\n",
            "Requirement already satisfied: pillow!=8.3.0,>=5.3.0 in /usr/local/lib/python3.7/dist-packages (from torchvision->lightautoml) (7.1.2)\n",
            "Collecting torchvision\n",
            "  Downloading torchvision-0.12.0-cp37-cp37m-manylinux1_x86_64.whl (21.0 MB)\n",
            "\u001b[K     |████████████████████████████████| 21.0 MB 1.4 MB/s \n",
            "\u001b[?25h  Downloading torchvision-0.11.3-cp37-cp37m-manylinux1_x86_64.whl (23.2 MB)\n",
            "\u001b[K     |████████████████████████████████| 23.2 MB 1.7 MB/s \n",
            "\u001b[?25h  Downloading torchvision-0.11.2-cp37-cp37m-manylinux1_x86_64.whl (23.3 MB)\n",
            "\u001b[K     |████████████████████████████████| 23.3 MB 41.7 MB/s \n",
            "\u001b[?25h  Downloading torchvision-0.11.1-cp37-cp37m-manylinux1_x86_64.whl (23.3 MB)\n",
            "\u001b[K     |████████████████████████████████| 23.3 MB 11.0 MB/s \n",
            "\u001b[?25h  Downloading torchvision-0.10.1-cp37-cp37m-manylinux1_x86_64.whl (22.1 MB)\n",
            "\u001b[K     |████████████████████████████████| 22.1 MB 57.5 MB/s \n",
            "\u001b[?25h  Downloading torchvision-0.10.0-cp37-cp37m-manylinux1_x86_64.whl (22.1 MB)\n",
            "\u001b[K     |████████████████████████████████| 22.1 MB 37.6 MB/s \n",
            "\u001b[?25h  Downloading torchvision-0.9.1-cp37-cp37m-manylinux1_x86_64.whl (17.4 MB)\n",
            "\u001b[K     |████████████████████████████████| 17.4 MB 1.5 MB/s \n",
            "\u001b[?25hBuilding wheels for collected packages: json2html\n",
            "  Building wheel for json2html (setup.py) ... \u001b[?25l\u001b[?25hdone\n",
            "  Created wheel for json2html: filename=json2html-1.3.0-py3-none-any.whl size=7609 sha256=4444aeeb07d41897fefc4669d1cb3c1c69f4071e58465dc488c7a87a237a9052\n",
            "  Stored in directory: /root/.cache/pip/wheels/e5/99/37/e1839a5ad733e0d6abb7e0419fd913e8926ddf96408239ce01\n",
            "Successfully built json2html\n",
            "Installing collected packages: importlib-metadata, torch, StrEnum, sphinx-rtd-theme, lightgbm, torchvision, poetry-core, json2html, dataclasses, catboost, autowoe, lightautoml\n",
            "  Attempting uninstall: importlib-metadata\n",
            "    Found existing installation: importlib-metadata 4.11.2\n",
            "    Uninstalling importlib-metadata-4.11.2:\n",
            "      Successfully uninstalled importlib-metadata-4.11.2\n",
            "  Attempting uninstall: torch\n",
            "    Found existing installation: torch 1.10.0+cu111\n",
            "    Uninstalling torch-1.10.0+cu111:\n",
            "      Successfully uninstalled torch-1.10.0+cu111\n",
            "  Attempting uninstall: lightgbm\n",
            "    Found existing installation: lightgbm 2.2.3\n",
            "    Uninstalling lightgbm-2.2.3:\n",
            "      Successfully uninstalled lightgbm-2.2.3\n",
            "  Attempting uninstall: torchvision\n",
            "    Found existing installation: torchvision 0.11.1+cu111\n",
            "    Uninstalling torchvision-0.11.1+cu111:\n",
            "      Successfully uninstalled torchvision-0.11.1+cu111\n",
            "\u001b[31mERROR: pip's dependency resolver does not currently take into account all the packages that are installed. This behaviour is the source of the following dependency conflicts.\n",
            "torchtext 0.11.0 requires torch==1.10.0, but you have torch 1.8.1 which is incompatible.\n",
            "torchaudio 0.10.0+cu111 requires torch==1.10.0, but you have torch 1.8.1 which is incompatible.\n",
            "markdown 3.3.6 requires importlib-metadata>=4.4; python_version < \"3.10\", but you have importlib-metadata 1.7.0 which is incompatible.\u001b[0m\n",
            "Successfully installed StrEnum-0.4.7 autowoe-1.3.0 catboost-1.0.4 dataclasses-0.6 importlib-metadata-1.7.0 json2html-1.3.0 lightautoml-0.3.3 lightgbm-2.3.1 poetry-core-1.0.8 sphinx-rtd-theme-1.0.0 torch-1.8.1 torchvision-0.9.1\n"
          ]
        },
        {
          "output_type": "display_data",
          "data": {
            "application/vnd.colab-display-data+json": {
              "pip_warning": {
                "packages": [
                  "dataclasses",
                  "importlib_metadata",
                  "lightgbm"
                ]
              }
            }
          },
          "metadata": {}
        }
      ]
    },
    {
      "cell_type": "code",
      "source": [
        "RANDOM_STATE = 42\n",
        "TEST_SIZE = 0.25\n",
        "N_THREADS = 4\n",
        "N_FOLDS = 5\n",
        "TIMEOUT = 300"
      ],
      "metadata": {
        "id": "c3bKwIw6CHo7"
      },
      "execution_count": null,
      "outputs": []
    },
    {
      "cell_type": "code",
      "source": [
        "from sklearn.metrics import mean_squared_log_error, mean_absolute_error\n",
        "from sklearn.model_selection import train_test_split, KFold\n",
        "\n",
        "def rmsle(y_true: np.ndarray, y_pred: np.ndarray):\n",
        "    \"\"\"\n",
        "    The Root Mean Squared Log Error (RMSLE) metric \n",
        "    Логаритмическая ошибка средней квадратичной ошибки\n",
        "    \"\"\"\n",
        "    return np.sqrt(mean_squared_log_error(y_true, y_pred))"
      ],
      "metadata": {
        "id": "4pMH1eqUCdir"
      },
      "execution_count": null,
      "outputs": []
    },
    {
      "cell_type": "code",
      "source": [
        "from lightautoml.automl.presets.tabular_presets import TabularAutoML, TabularUtilizedAutoML\n",
        "from lightautoml.tasks import Task\n",
        "import torch \n",
        "\n",
        "torch.set_num_threads(N_THREADS)"
      ],
      "metadata": {
        "id": "xjHCgJ7xA8UC"
      },
      "execution_count": null,
      "outputs": []
    },
    {
      "cell_type": "code",
      "source": [
        "drop_cols_auto = [\n",
        "    'id',\n",
        "    'pickup_datetime',\n",
        "    'dropoff_datetime',\n",
        "    \n",
        "    'pickup_longitude',\n",
        "    'pickup_latitude',\n",
        "    'dropoff_longitude',\n",
        "    'dropoff_latitude',\n",
        "    \n",
        "    'distance_geo',\n",
        "    \n",
        "    'date',\n",
        "    \n",
        "    'log_total_distance',\n",
        "    \n",
        "    'trip_duration',\n",
        "    'log_trip_duration_hour',\n",
        "    \n",
        "    'speed_km_h',\n",
        "    'log_speed_km_h',\n",
        "]"
      ],
      "metadata": {
        "id": "Gu0GRTtmBEL1"
      },
      "execution_count": null,
      "outputs": []
    },
    {
      "cell_type": "code",
      "source": [
        "tr_data, te_data = train_test_split(df,\n",
        "                                    test_size=TEST_SIZE,\n",
        "                                    random_state=RANDOM_STATE)\n",
        "print('Data splitted. Parts sizes: tr_data = {}, te_data = {}'.format(\n",
        "    tr_data.shape, te_data.shape))"
      ],
      "metadata": {
        "colab": {
          "base_uri": "https://localhost:8080/"
        },
        "id": "ehSKtwkGBKbX",
        "outputId": "b434b5bf-1d95-477d-f650-7cfd28e3d3a8"
      },
      "execution_count": null,
      "outputs": [
        {
          "output_type": "stream",
          "name": "stdout",
          "text": [
            "Data splitted. Parts sizes: tr_data = (1087896, 24), te_data = (362633, 24)\n"
          ]
        }
      ]
    },
    {
      "cell_type": "code",
      "source": [
        "%%time\n",
        "\n",
        "task = Task('reg', loss='rmsle', metric='rmsle')"
      ],
      "metadata": {
        "colab": {
          "base_uri": "https://localhost:8080/"
        },
        "id": "C5A3Ni9kCAIf",
        "outputId": "9186f8ad-6c04-4ec1-d43f-5a527ce39201"
      },
      "execution_count": null,
      "outputs": [
        {
          "output_type": "stream",
          "name": "stdout",
          "text": [
            "CPU times: user 3.24 ms, sys: 0 ns, total: 3.24 ms\n",
            "Wall time: 3.38 ms\n"
          ]
        }
      ]
    },
    {
      "cell_type": "code",
      "source": [
        "%%time\n",
        "\n",
        "roles = {\n",
        "    'target': 'log_trip_duration',\n",
        "    'drop': drop_cols_auto,\n",
        "}"
      ],
      "metadata": {
        "colab": {
          "base_uri": "https://localhost:8080/"
        },
        "id": "pzb1RggtCAEC",
        "outputId": "3539d93d-3932-43b2-b0a5-21ee3f28158e"
      },
      "execution_count": null,
      "outputs": [
        {
          "output_type": "stream",
          "name": "stdout",
          "text": [
            "CPU times: user 5 µs, sys: 0 ns, total: 5 µs\n",
            "Wall time: 9.3 µs\n"
          ]
        }
      ]
    },
    {
      "cell_type": "code",
      "source": [
        "automl = TabularAutoML(task=task,\n",
        "                       timeout=TIMEOUT,\n",
        "                       cpu_limit=N_THREADS,\n",
        "                       reader_params={\n",
        "                           'n_jobs': N_THREADS,\n",
        "                           'cv': N_FOLDS,\n",
        "                           'random_state': RANDOM_STATE,\n",
        "                           'verbose': 1\n",
        "                       })"
      ],
      "metadata": {
        "id": "9bcXVeCMCCBF"
      },
      "execution_count": null,
      "outputs": []
    },
    {
      "cell_type": "code",
      "source": [
        "%%time\n",
        "\n",
        "#out-of-fold prediction\n",
        "oof_pred = automl.fit_predict(tr_data, roles = roles, verbose=1)"
      ],
      "metadata": {
        "colab": {
          "base_uri": "https://localhost:8080/"
        },
        "id": "PgCTViKpCDOs",
        "outputId": "98cb0159-8d46-4e74-af90-e75d279abe69"
      },
      "execution_count": null,
      "outputs": [
        {
          "output_type": "stream",
          "name": "stdout",
          "text": [
            "[14:01:40] Stdout logging level is INFO.\n",
            "[14:01:40] Copying TaskTimer may affect the parent PipelineTimer, so copy will create new unlimited TaskTimer\n",
            "[14:01:40] Task: reg\n",
            "\n",
            "[14:01:40] Start automl preset with listed constraints:\n",
            "[14:01:40] - time: 300.00 seconds\n",
            "[14:01:40] - CPU: 4 cores\n",
            "[14:01:40] - memory: 16 GB\n",
            "\n",
            "[14:01:40] \u001b[1mTrain data shape: (1087896, 24)\u001b[0m\n",
            "\n",
            "[14:01:51] Layer \u001b[1m1\u001b[0m train process start. Time left 289.55 secs\n",
            "[14:01:52] Start fitting \u001b[1mLvl_0_Pipe_0_Mod_0_LinearL2\u001b[0m ...\n",
            "[14:01:59] Fitting \u001b[1mLvl_0_Pipe_0_Mod_0_LinearL2\u001b[0m finished. score = \u001b[1m-0.07086771570845758\u001b[0m\n",
            "[14:01:59] \u001b[1mLvl_0_Pipe_0_Mod_0_LinearL2\u001b[0m fitting and predicting completed\n",
            "[14:02:00] Time left 280.90 secs\n",
            "\n",
            "[14:02:47] \u001b[1mSelector_LightGBM\u001b[0m fitting and predicting completed\n",
            "[14:02:47] Start fitting \u001b[1mLvl_0_Pipe_1_Mod_0_LightGBM\u001b[0m ...\n",
            "[14:03:26] Time limit exceeded after calculating fold 0\n",
            "\n",
            "[14:03:26] Fitting \u001b[1mLvl_0_Pipe_1_Mod_0_LightGBM\u001b[0m finished. score = \u001b[1m-0.06103672105937221\u001b[0m\n",
            "[14:03:26] \u001b[1mLvl_0_Pipe_1_Mod_0_LightGBM\u001b[0m fitting and predicting completed\n",
            "[14:03:26] Start fitting \u001b[1mLvl_0_Pipe_1_Mod_2_CatBoost\u001b[0m ...\n"
          ]
        },
        {
          "output_type": "stream",
          "name": "stderr",
          "text": [
            "Metric MSLE is not implemented on GPU. Will use CPU for metric computation, this could significantly affect learning time\n"
          ]
        },
        {
          "output_type": "stream",
          "name": "stdout",
          "text": [
            "[14:04:40] Time limit exceeded after calculating fold 0\n",
            "\n",
            "[14:04:40] Fitting \u001b[1mLvl_0_Pipe_1_Mod_2_CatBoost\u001b[0m finished. score = \u001b[1m-0.06306145030532807\u001b[0m\n",
            "[14:04:40] \u001b[1mLvl_0_Pipe_1_Mod_2_CatBoost\u001b[0m fitting and predicting completed\n",
            "[14:04:40] Time left 120.83 secs\n",
            "\n",
            "[14:04:40] Time limit exceeded in one of the tasks. AutoML will blend level 1 models.\n",
            "\n",
            "[14:04:40] \u001b[1mLayer 1 training completed.\u001b[0m\n",
            "\n",
            "[14:04:40] Blending: optimization starts with equal weights and score \u001b[1m-0.06929598173591234\u001b[0m\n",
            "[14:04:42] Blending: iteration \u001b[1m0\u001b[0m: score = \u001b[1m-0.06100682710825391\u001b[0m, weights = \u001b[1m[0.        0.8994066 0.1005934]\u001b[0m\n",
            "[14:04:43] Blending: iteration \u001b[1m1\u001b[0m: score = \u001b[1m-0.06100682710825391\u001b[0m, weights = \u001b[1m[0.        0.8994066 0.1005934]\u001b[0m\n",
            "[14:04:43] Blending: no score update. Terminated\n",
            "\n",
            "[14:04:43] \u001b[1mAutoml preset training completed in 182.76 seconds\u001b[0m\n",
            "\n",
            "[14:04:43] Model description:\n",
            "Final prediction for new objects (level 0) = \n",
            "\t 0.89941 * (1 averaged models Lvl_0_Pipe_1_Mod_0_LightGBM) +\n",
            "\t 0.10059 * (1 averaged models Lvl_0_Pipe_1_Mod_2_CatBoost) \n",
            "\n",
            "CPU times: user 4min 29s, sys: 14.5 s, total: 4min 43s\n",
            "Wall time: 3min 2s\n"
          ]
        }
      ]
    },
    {
      "cell_type": "code",
      "source": [
        "print(automl.create_model_str_desc())"
      ],
      "metadata": {
        "colab": {
          "base_uri": "https://localhost:8080/"
        },
        "id": "gjxQZehbCQz9",
        "outputId": "e68a1995-54eb-407e-8b59-4d97251b3dc4"
      },
      "execution_count": null,
      "outputs": [
        {
          "output_type": "stream",
          "name": "stdout",
          "text": [
            "Final prediction for new objects (level 0) = \n",
            "\t 0.89941 * (1 averaged models Lvl_0_Pipe_1_Mod_0_LightGBM) +\n",
            "\t 0.10059 * (1 averaged models Lvl_0_Pipe_1_Mod_2_CatBoost) \n"
          ]
        }
      ]
    },
    {
      "cell_type": "code",
      "source": [
        "oof_pred_exp = np.exp(oof_pred.data[:, 0]) - 1\n",
        "\n",
        "test_pred = automl.predict(te_data)\n",
        "test_pred_exp = np.exp(test_pred.data[:, 0]) - 1"
      ],
      "metadata": {
        "id": "0MDULTJDCRsG"
      },
      "execution_count": null,
      "outputs": []
    },
    {
      "cell_type": "code",
      "source": [
        "#print(f\"OOF score: {rmsle(tr_data['trip_duration'], oof_pred_exp)}\")\n",
        "print(f\"HOLDOUT score: {rmsle(te_data['trip_duration'].values, test_pred_exp)}\")"
      ],
      "metadata": {
        "colab": {
          "base_uri": "https://localhost:8080/"
        },
        "id": "dp9rdOOtCT0f",
        "outputId": "988529fe-0aea-48cb-a869-b80582cbfb6e"
      },
      "execution_count": null,
      "outputs": [
        {
          "output_type": "stream",
          "name": "stdout",
          "text": [
            "HOLDOUT score: 0.42082014303914594\n"
          ]
        }
      ]
    },
    {
      "cell_type": "code",
      "source": [
        "fast_fi = automl.get_feature_scores('fast')\n",
        "fast_fi[:10].set_index('Feature')['Importance'].plot.bar(figsize = (20, 7), grid = True)\n",
        "\n",
        "plt.xticks(fontsize=15)\n",
        "plt.yticks(fontsize=15);\n",
        "plt.show()"
      ],
      "metadata": {
        "colab": {
          "base_uri": "https://localhost:8080/",
          "height": 313
        },
        "id": "0ZK5DOMPCVyr",
        "outputId": "026cd7ad-93f3-493d-c4c6-a9f7efaf80e9"
      },
      "execution_count": null,
      "outputs": [
        {
          "output_type": "display_data",
          "data": {
            "text/plain": [
              "<Figure size 1440x504 with 1 Axes>"
            ],
            "image/png": "[encoded data removed]"
          },
          "metadata": {
            "needs_background": "light"
          }
        }
      ]
    }
  ]
}