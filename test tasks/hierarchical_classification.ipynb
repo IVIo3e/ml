{
  "nbformat": 4,
  "nbformat_minor": 0,
  "metadata": {
    "colab": {
      "name": "hierarchical_classification.ipynb",
      "provenance": [],
      "collapsed_sections": [],
      "authorship_tag": "ABX9TyPb8LQXll+1fIYnTjB19RUk"
    },
    "kernelspec": {
      "name": "python3",
      "display_name": "Python 3"
    },
    "language_info": {
      "name": "python"
    }
  },
  "cells": [
    {
      "cell_type": "markdown",
      "source": [
        "#Решение"
      ],
      "metadata": {
        "id": "e7dzabTMHMZs"
      }
    },
    {
      "cell_type": "markdown",
      "source": [
        "##загрузка данных"
      ],
      "metadata": {
        "id": "SvJVKTeEHPN4"
      }
    },
    {
      "cell_type": "code",
      "execution_count": null,
      "metadata": {
        "id": "rw4SH-T1u6lD"
      },
      "outputs": [],
      "source": [
        "import pandas as pd\n",
        "import numpy as np"
      ]
    },
    {
      "cell_type": "code",
      "source": [
        "#train = pd.read_parquet('train_with_tree_category.parquet')\n",
        "train = pd.read_parquet('train.parquet')\n",
        "test = pd.read_parquet('test.parquet')\n",
        "categories_tree = pd.read_csv('categories_tree.csv')"
      ],
      "metadata": {
        "id": "35HKhRXhu_KQ"
      },
      "execution_count": null,
      "outputs": []
    },
    {
      "cell_type": "code",
      "source": [
        "categories_tree.head()"
      ],
      "metadata": {
        "colab": {
          "base_uri": "https://localhost:8080/",
          "height": 206
        },
        "id": "pkFSfbvdvDRi",
        "outputId": "e9f5a9c5-33f9-427d-f452-0244dba824a3"
      },
      "execution_count": null,
      "outputs": [
        {
          "output_type": "execute_result",
          "data": {
            "text/plain": [
              "    id            title  parent_id\n",
              "0    1    Все категории          0\n",
              "1  114            Урбеч       1913\n",
              "2  115  Варенье и джемы        328\n",
              "3  128   Сухие завтраки       2475\n",
              "4  131            Масла       2475"
            ],
            "text/html": [
              "\n",
              "  <div id=\"df-a7c7c8ee-0bfa-43db-bd38-3606e24c8bfe\">\n",
              "    <div class=\"colab-df-container\">\n",
              "      <div>\n",
              "<style scoped>\n",
              "    .dataframe tbody tr th:only-of-type {\n",
              "        vertical-align: middle;\n",
              "    }\n",
              "\n",
              "    .dataframe tbody tr th {\n",
              "        vertical-align: top;\n",
              "    }\n",
              "\n",
              "    .dataframe thead th {\n",
              "        text-align: right;\n",
              "    }\n",
              "</style>\n",
              "<table border=\"1\" class=\"dataframe\">\n",
              "  <thead>\n",
              "    <tr style=\"text-align: right;\">\n",
              "      <th></th>\n",
              "      <th>id</th>\n",
              "      <th>title</th>\n",
              "      <th>parent_id</th>\n",
              "    </tr>\n",
              "  </thead>\n",
              "  <tbody>\n",
              "    <tr>\n",
              "      <th>0</th>\n",
              "      <td>1</td>\n",
              "      <td>Все категории</td>\n",
              "      <td>0</td>\n",
              "    </tr>\n",
              "    <tr>\n",
              "      <th>1</th>\n",
              "      <td>114</td>\n",
              "      <td>Урбеч</td>\n",
              "      <td>1913</td>\n",
              "    </tr>\n",
              "    <tr>\n",
              "      <th>2</th>\n",
              "      <td>115</td>\n",
              "      <td>Варенье и джемы</td>\n",
              "      <td>328</td>\n",
              "    </tr>\n",
              "    <tr>\n",
              "      <th>3</th>\n",
              "      <td>128</td>\n",
              "      <td>Сухие завтраки</td>\n",
              "      <td>2475</td>\n",
              "    </tr>\n",
              "    <tr>\n",
              "      <th>4</th>\n",
              "      <td>131</td>\n",
              "      <td>Масла</td>\n",
              "      <td>2475</td>\n",
              "    </tr>\n",
              "  </tbody>\n",
              "</table>\n",
              "</div>\n",
              "      <button class=\"colab-df-convert\" onclick=\"convertToInteractive('df-a7c7c8ee-0bfa-43db-bd38-3606e24c8bfe')\"\n",
              "              title=\"Convert this dataframe to an interactive table.\"\n",
              "              style=\"display:none;\">\n",
              "        \n",
              "  <svg xmlns=\"http://www.w3.org/2000/svg\" height=\"24px\"viewBox=\"0 0 24 24\"\n",
              "       width=\"24px\">\n",
              "    <path d=\"M0 0h24v24H0V0z\" fill=\"none\"/>\n",
              "    <path d=\"M18.56 5.44l.94 2.06.94-2.06 2.06-.94-2.06-.94-.94-2.06-.94 2.06-2.06.94zm-11 1L8.5 8.5l.94-2.06 2.06-.94-2.06-.94L8.5 2.5l-.94 2.06-2.06.94zm10 10l.94 2.06.94-2.06 2.06-.94-2.06-.94-.94-2.06-.94 2.06-2.06.94z\"/><path d=\"M17.41 7.96l-1.37-1.37c-.4-.4-.92-.59-1.43-.59-.52 0-1.04.2-1.43.59L10.3 9.45l-7.72 7.72c-.78.78-.78 2.05 0 2.83L4 21.41c.39.39.9.59 1.41.59.51 0 1.02-.2 1.41-.59l7.78-7.78 2.81-2.81c.8-.78.8-2.07 0-2.86zM5.41 20L4 18.59l7.72-7.72 1.47 1.35L5.41 20z\"/>\n",
              "  </svg>\n",
              "      </button>\n",
              "      \n",
              "  <style>\n",
              "    .colab-df-container {\n",
              "      display:flex;\n",
              "      flex-wrap:wrap;\n",
              "      gap: 12px;\n",
              "    }\n",
              "\n",
              "    .colab-df-convert {\n",
              "      background-color: #E8F0FE;\n",
              "      border: none;\n",
              "      border-radius: 50%;\n",
              "      cursor: pointer;\n",
              "      display: none;\n",
              "      fill: #1967D2;\n",
              "      height: 32px;\n",
              "      padding: 0 0 0 0;\n",
              "      width: 32px;\n",
              "    }\n",
              "\n",
              "    .colab-df-convert:hover {\n",
              "      background-color: #E2EBFA;\n",
              "      box-shadow: 0px 1px 2px rgba(60, 64, 67, 0.3), 0px 1px 3px 1px rgba(60, 64, 67, 0.15);\n",
              "      fill: #174EA6;\n",
              "    }\n",
              "\n",
              "    [theme=dark] .colab-df-convert {\n",
              "      background-color: #3B4455;\n",
              "      fill: #D2E3FC;\n",
              "    }\n",
              "\n",
              "    [theme=dark] .colab-df-convert:hover {\n",
              "      background-color: #434B5C;\n",
              "      box-shadow: 0px 1px 3px 1px rgba(0, 0, 0, 0.15);\n",
              "      filter: drop-shadow(0px 1px 2px rgba(0, 0, 0, 0.3));\n",
              "      fill: #FFFFFF;\n",
              "    }\n",
              "  </style>\n",
              "\n",
              "      <script>\n",
              "        const buttonEl =\n",
              "          document.querySelector('#df-a7c7c8ee-0bfa-43db-bd38-3606e24c8bfe button.colab-df-convert');\n",
              "        buttonEl.style.display =\n",
              "          google.colab.kernel.accessAllowed ? 'block' : 'none';\n",
              "\n",
              "        async function convertToInteractive(key) {\n",
              "          const element = document.querySelector('#df-a7c7c8ee-0bfa-43db-bd38-3606e24c8bfe');\n",
              "          const dataTable =\n",
              "            await google.colab.kernel.invokeFunction('convertToInteractive',\n",
              "                                                     [key], {});\n",
              "          if (!dataTable) return;\n",
              "\n",
              "          const docLinkHtml = 'Like what you see? Visit the ' +\n",
              "            '<a target=\"_blank\" href=https://colab.research.google.com/notebooks/data_table.ipynb>data table notebook</a>'\n",
              "            + ' to learn more about interactive tables.';\n",
              "          element.innerHTML = '';\n",
              "          dataTable['output_type'] = 'display_data';\n",
              "          await google.colab.output.renderOutput(dataTable, element);\n",
              "          const docLink = document.createElement('div');\n",
              "          docLink.innerHTML = docLinkHtml;\n",
              "          element.appendChild(docLink);\n",
              "        }\n",
              "      </script>\n",
              "    </div>\n",
              "  </div>\n",
              "  "
            ]
          },
          "metadata": {},
          "execution_count": 3
        }
      ]
    },
    {
      "cell_type": "code",
      "source": [
        "train.head()"
      ],
      "metadata": {
        "colab": {
          "base_uri": "https://localhost:8080/",
          "height": 206
        },
        "id": "AiRMSjQxvEUS",
        "outputId": "ab37f5af-65f1-4817-fc37-c5b034c2b13a"
      },
      "execution_count": null,
      "outputs": [
        {
          "output_type": "execute_result",
          "data": {
            "text/plain": [
              "        id                                              title  \\\n",
              "0  1267423  Muhle Manikure Песочные колпачки для педикюра ...   \n",
              "1   128833                Sony Xperia L1 Защитное стекло 2,5D   \n",
              "2   569924     Конверт для денег Прекрасная роза, 16,5 х 8 см   \n",
              "3  1264824                                             Серьги   \n",
              "4  1339052  Наклейки на унитаз для туалета на крышку бачок...   \n",
              "\n",
              "                                   short_description  \\\n",
              "0  Muhle Manikure Колпачок песочный шлифовальный ...   \n",
              "1                                               None   \n",
              "2   Конверт для денег «Прекрасная роза», 16,5 × 8 см   \n",
              "3                                               None   \n",
              "4  Водостойкая, интересная наклейка на унитаз раз...   \n",
              "\n",
              "  name_value_characteristics    rating  feedback_quantity  category_id  \n",
              "0                       None  0.000000                  0         2693  \n",
              "1                       None  4.666667                  9        13408  \n",
              "2                       None  5.000000                  6        11790  \n",
              "3                       None  0.000000                  0        14076  \n",
              "4                       None  0.000000                  0        12401  "
            ],
            "text/html": [
              "\n",
              "  <div id=\"df-9389dc45-9811-49cb-9495-735f4424762e\">\n",
              "    <div class=\"colab-df-container\">\n",
              "      <div>\n",
              "<style scoped>\n",
              "    .dataframe tbody tr th:only-of-type {\n",
              "        vertical-align: middle;\n",
              "    }\n",
              "\n",
              "    .dataframe tbody tr th {\n",
              "        vertical-align: top;\n",
              "    }\n",
              "\n",
              "    .dataframe thead th {\n",
              "        text-align: right;\n",
              "    }\n",
              "</style>\n",
              "<table border=\"1\" class=\"dataframe\">\n",
              "  <thead>\n",
              "    <tr style=\"text-align: right;\">\n",
              "      <th></th>\n",
              "      <th>id</th>\n",
              "      <th>title</th>\n",
              "      <th>short_description</th>\n",
              "      <th>name_value_characteristics</th>\n",
              "      <th>rating</th>\n",
              "      <th>feedback_quantity</th>\n",
              "      <th>category_id</th>\n",
              "    </tr>\n",
              "  </thead>\n",
              "  <tbody>\n",
              "    <tr>\n",
              "      <th>0</th>\n",
              "      <td>1267423</td>\n",
              "      <td>Muhle Manikure Песочные колпачки для педикюра ...</td>\n",
              "      <td>Muhle Manikure Колпачок песочный шлифовальный ...</td>\n",
              "      <td>None</td>\n",
              "      <td>0.000000</td>\n",
              "      <td>0</td>\n",
              "      <td>2693</td>\n",
              "    </tr>\n",
              "    <tr>\n",
              "      <th>1</th>\n",
              "      <td>128833</td>\n",
              "      <td>Sony Xperia L1 Защитное стекло 2,5D</td>\n",
              "      <td>None</td>\n",
              "      <td>None</td>\n",
              "      <td>4.666667</td>\n",
              "      <td>9</td>\n",
              "      <td>13408</td>\n",
              "    </tr>\n",
              "    <tr>\n",
              "      <th>2</th>\n",
              "      <td>569924</td>\n",
              "      <td>Конверт для денег Прекрасная роза, 16,5 х 8 см</td>\n",
              "      <td>Конверт для денег «Прекрасная роза», 16,5 × 8 см</td>\n",
              "      <td>None</td>\n",
              "      <td>5.000000</td>\n",
              "      <td>6</td>\n",
              "      <td>11790</td>\n",
              "    </tr>\n",
              "    <tr>\n",
              "      <th>3</th>\n",
              "      <td>1264824</td>\n",
              "      <td>Серьги</td>\n",
              "      <td>None</td>\n",
              "      <td>None</td>\n",
              "      <td>0.000000</td>\n",
              "      <td>0</td>\n",
              "      <td>14076</td>\n",
              "    </tr>\n",
              "    <tr>\n",
              "      <th>4</th>\n",
              "      <td>1339052</td>\n",
              "      <td>Наклейки на унитаз для туалета на крышку бачок...</td>\n",
              "      <td>Водостойкая, интересная наклейка на унитаз раз...</td>\n",
              "      <td>None</td>\n",
              "      <td>0.000000</td>\n",
              "      <td>0</td>\n",
              "      <td>12401</td>\n",
              "    </tr>\n",
              "  </tbody>\n",
              "</table>\n",
              "</div>\n",
              "      <button class=\"colab-df-convert\" onclick=\"convertToInteractive('df-9389dc45-9811-49cb-9495-735f4424762e')\"\n",
              "              title=\"Convert this dataframe to an interactive table.\"\n",
              "              style=\"display:none;\">\n",
              "        \n",
              "  <svg xmlns=\"http://www.w3.org/2000/svg\" height=\"24px\"viewBox=\"0 0 24 24\"\n",
              "       width=\"24px\">\n",
              "    <path d=\"M0 0h24v24H0V0z\" fill=\"none\"/>\n",
              "    <path d=\"M18.56 5.44l.94 2.06.94-2.06 2.06-.94-2.06-.94-.94-2.06-.94 2.06-2.06.94zm-11 1L8.5 8.5l.94-2.06 2.06-.94-2.06-.94L8.5 2.5l-.94 2.06-2.06.94zm10 10l.94 2.06.94-2.06 2.06-.94-2.06-.94-.94-2.06-.94 2.06-2.06.94z\"/><path d=\"M17.41 7.96l-1.37-1.37c-.4-.4-.92-.59-1.43-.59-.52 0-1.04.2-1.43.59L10.3 9.45l-7.72 7.72c-.78.78-.78 2.05 0 2.83L4 21.41c.39.39.9.59 1.41.59.51 0 1.02-.2 1.41-.59l7.78-7.78 2.81-2.81c.8-.78.8-2.07 0-2.86zM5.41 20L4 18.59l7.72-7.72 1.47 1.35L5.41 20z\"/>\n",
              "  </svg>\n",
              "      </button>\n",
              "      \n",
              "  <style>\n",
              "    .colab-df-container {\n",
              "      display:flex;\n",
              "      flex-wrap:wrap;\n",
              "      gap: 12px;\n",
              "    }\n",
              "\n",
              "    .colab-df-convert {\n",
              "      background-color: #E8F0FE;\n",
              "      border: none;\n",
              "      border-radius: 50%;\n",
              "      cursor: pointer;\n",
              "      display: none;\n",
              "      fill: #1967D2;\n",
              "      height: 32px;\n",
              "      padding: 0 0 0 0;\n",
              "      width: 32px;\n",
              "    }\n",
              "\n",
              "    .colab-df-convert:hover {\n",
              "      background-color: #E2EBFA;\n",
              "      box-shadow: 0px 1px 2px rgba(60, 64, 67, 0.3), 0px 1px 3px 1px rgba(60, 64, 67, 0.15);\n",
              "      fill: #174EA6;\n",
              "    }\n",
              "\n",
              "    [theme=dark] .colab-df-convert {\n",
              "      background-color: #3B4455;\n",
              "      fill: #D2E3FC;\n",
              "    }\n",
              "\n",
              "    [theme=dark] .colab-df-convert:hover {\n",
              "      background-color: #434B5C;\n",
              "      box-shadow: 0px 1px 3px 1px rgba(0, 0, 0, 0.15);\n",
              "      filter: drop-shadow(0px 1px 2px rgba(0, 0, 0, 0.3));\n",
              "      fill: #FFFFFF;\n",
              "    }\n",
              "  </style>\n",
              "\n",
              "      <script>\n",
              "        const buttonEl =\n",
              "          document.querySelector('#df-9389dc45-9811-49cb-9495-735f4424762e button.colab-df-convert');\n",
              "        buttonEl.style.display =\n",
              "          google.colab.kernel.accessAllowed ? 'block' : 'none';\n",
              "\n",
              "        async function convertToInteractive(key) {\n",
              "          const element = document.querySelector('#df-9389dc45-9811-49cb-9495-735f4424762e');\n",
              "          const dataTable =\n",
              "            await google.colab.kernel.invokeFunction('convertToInteractive',\n",
              "                                                     [key], {});\n",
              "          if (!dataTable) return;\n",
              "\n",
              "          const docLinkHtml = 'Like what you see? Visit the ' +\n",
              "            '<a target=\"_blank\" href=https://colab.research.google.com/notebooks/data_table.ipynb>data table notebook</a>'\n",
              "            + ' to learn more about interactive tables.';\n",
              "          element.innerHTML = '';\n",
              "          dataTable['output_type'] = 'display_data';\n",
              "          await google.colab.output.renderOutput(dataTable, element);\n",
              "          const docLink = document.createElement('div');\n",
              "          docLink.innerHTML = docLinkHtml;\n",
              "          element.appendChild(docLink);\n",
              "        }\n",
              "      </script>\n",
              "    </div>\n",
              "  </div>\n",
              "  "
            ]
          },
          "metadata": {},
          "execution_count": 4
        }
      ]
    },
    {
      "cell_type": "code",
      "source": [
        "test.head()"
      ],
      "metadata": {
        "colab": {
          "base_uri": "https://localhost:8080/",
          "height": 206
        },
        "id": "SEvUXbx35-R3",
        "outputId": "2edeff56-6568-4105-8662-5740f862e703"
      },
      "execution_count": null,
      "outputs": [
        {
          "output_type": "execute_result",
          "data": {
            "text/plain": [
              "        id                                              title  \\\n",
              "0  1070974                Браслет из натуральных камней LOTUS   \n",
              "1   450413  Fusion Life - Шампунь для сухих и окрашенных в...   \n",
              "2   126857         Микрофон для ПК jack 3,5мм всенаправленный   \n",
              "3  1577569                             Серьги гвоздики сердце   \n",
              "4   869328  Чёрно-красная стильная брошь \"Тюльпаны\" из акр...   \n",
              "\n",
              "                                   short_description  \\\n",
              "0                                               None   \n",
              "1                                               None   \n",
              "2     универсальный 3,5 мм микрофон запишет ваш звук   \n",
              "3                             Серьги гвоздики сердце   \n",
              "4  Стильная и яркая брошь ручной работы! Великоле...   \n",
              "\n",
              "  name_value_characteristics    rating  feedback_quantity  \n",
              "0                       None  0.000000                  0  \n",
              "1                       None  4.333333                  6  \n",
              "2                       None  3.708333                 24  \n",
              "3                       None  0.000000                  0  \n",
              "4                       None  0.000000                  0  "
            ],
            "text/html": [
              "\n",
              "  <div id=\"df-5afc0e07-c6e7-499f-bce2-b96146724d6c\">\n",
              "    <div class=\"colab-df-container\">\n",
              "      <div>\n",
              "<style scoped>\n",
              "    .dataframe tbody tr th:only-of-type {\n",
              "        vertical-align: middle;\n",
              "    }\n",
              "\n",
              "    .dataframe tbody tr th {\n",
              "        vertical-align: top;\n",
              "    }\n",
              "\n",
              "    .dataframe thead th {\n",
              "        text-align: right;\n",
              "    }\n",
              "</style>\n",
              "<table border=\"1\" class=\"dataframe\">\n",
              "  <thead>\n",
              "    <tr style=\"text-align: right;\">\n",
              "      <th></th>\n",
              "      <th>id</th>\n",
              "      <th>title</th>\n",
              "      <th>short_description</th>\n",
              "      <th>name_value_characteristics</th>\n",
              "      <th>rating</th>\n",
              "      <th>feedback_quantity</th>\n",
              "    </tr>\n",
              "  </thead>\n",
              "  <tbody>\n",
              "    <tr>\n",
              "      <th>0</th>\n",
              "      <td>1070974</td>\n",
              "      <td>Браслет из натуральных камней LOTUS</td>\n",
              "      <td>None</td>\n",
              "      <td>None</td>\n",
              "      <td>0.000000</td>\n",
              "      <td>0</td>\n",
              "    </tr>\n",
              "    <tr>\n",
              "      <th>1</th>\n",
              "      <td>450413</td>\n",
              "      <td>Fusion Life - Шампунь для сухих и окрашенных в...</td>\n",
              "      <td>None</td>\n",
              "      <td>None</td>\n",
              "      <td>4.333333</td>\n",
              "      <td>6</td>\n",
              "    </tr>\n",
              "    <tr>\n",
              "      <th>2</th>\n",
              "      <td>126857</td>\n",
              "      <td>Микрофон для ПК jack 3,5мм всенаправленный</td>\n",
              "      <td>универсальный 3,5 мм микрофон запишет ваш звук</td>\n",
              "      <td>None</td>\n",
              "      <td>3.708333</td>\n",
              "      <td>24</td>\n",
              "    </tr>\n",
              "    <tr>\n",
              "      <th>3</th>\n",
              "      <td>1577569</td>\n",
              "      <td>Серьги гвоздики сердце</td>\n",
              "      <td>Серьги гвоздики сердце</td>\n",
              "      <td>None</td>\n",
              "      <td>0.000000</td>\n",
              "      <td>0</td>\n",
              "    </tr>\n",
              "    <tr>\n",
              "      <th>4</th>\n",
              "      <td>869328</td>\n",
              "      <td>Чёрно-красная стильная брошь \"Тюльпаны\" из акр...</td>\n",
              "      <td>Стильная и яркая брошь ручной работы! Великоле...</td>\n",
              "      <td>None</td>\n",
              "      <td>0.000000</td>\n",
              "      <td>0</td>\n",
              "    </tr>\n",
              "  </tbody>\n",
              "</table>\n",
              "</div>\n",
              "      <button class=\"colab-df-convert\" onclick=\"convertToInteractive('df-5afc0e07-c6e7-499f-bce2-b96146724d6c')\"\n",
              "              title=\"Convert this dataframe to an interactive table.\"\n",
              "              style=\"display:none;\">\n",
              "        \n",
              "  <svg xmlns=\"http://www.w3.org/2000/svg\" height=\"24px\"viewBox=\"0 0 24 24\"\n",
              "       width=\"24px\">\n",
              "    <path d=\"M0 0h24v24H0V0z\" fill=\"none\"/>\n",
              "    <path d=\"M18.56 5.44l.94 2.06.94-2.06 2.06-.94-2.06-.94-.94-2.06-.94 2.06-2.06.94zm-11 1L8.5 8.5l.94-2.06 2.06-.94-2.06-.94L8.5 2.5l-.94 2.06-2.06.94zm10 10l.94 2.06.94-2.06 2.06-.94-2.06-.94-.94-2.06-.94 2.06-2.06.94z\"/><path d=\"M17.41 7.96l-1.37-1.37c-.4-.4-.92-.59-1.43-.59-.52 0-1.04.2-1.43.59L10.3 9.45l-7.72 7.72c-.78.78-.78 2.05 0 2.83L4 21.41c.39.39.9.59 1.41.59.51 0 1.02-.2 1.41-.59l7.78-7.78 2.81-2.81c.8-.78.8-2.07 0-2.86zM5.41 20L4 18.59l7.72-7.72 1.47 1.35L5.41 20z\"/>\n",
              "  </svg>\n",
              "      </button>\n",
              "      \n",
              "  <style>\n",
              "    .colab-df-container {\n",
              "      display:flex;\n",
              "      flex-wrap:wrap;\n",
              "      gap: 12px;\n",
              "    }\n",
              "\n",
              "    .colab-df-convert {\n",
              "      background-color: #E8F0FE;\n",
              "      border: none;\n",
              "      border-radius: 50%;\n",
              "      cursor: pointer;\n",
              "      display: none;\n",
              "      fill: #1967D2;\n",
              "      height: 32px;\n",
              "      padding: 0 0 0 0;\n",
              "      width: 32px;\n",
              "    }\n",
              "\n",
              "    .colab-df-convert:hover {\n",
              "      background-color: #E2EBFA;\n",
              "      box-shadow: 0px 1px 2px rgba(60, 64, 67, 0.3), 0px 1px 3px 1px rgba(60, 64, 67, 0.15);\n",
              "      fill: #174EA6;\n",
              "    }\n",
              "\n",
              "    [theme=dark] .colab-df-convert {\n",
              "      background-color: #3B4455;\n",
              "      fill: #D2E3FC;\n",
              "    }\n",
              "\n",
              "    [theme=dark] .colab-df-convert:hover {\n",
              "      background-color: #434B5C;\n",
              "      box-shadow: 0px 1px 3px 1px rgba(0, 0, 0, 0.15);\n",
              "      filter: drop-shadow(0px 1px 2px rgba(0, 0, 0, 0.3));\n",
              "      fill: #FFFFFF;\n",
              "    }\n",
              "  </style>\n",
              "\n",
              "      <script>\n",
              "        const buttonEl =\n",
              "          document.querySelector('#df-5afc0e07-c6e7-499f-bce2-b96146724d6c button.colab-df-convert');\n",
              "        buttonEl.style.display =\n",
              "          google.colab.kernel.accessAllowed ? 'block' : 'none';\n",
              "\n",
              "        async function convertToInteractive(key) {\n",
              "          const element = document.querySelector('#df-5afc0e07-c6e7-499f-bce2-b96146724d6c');\n",
              "          const dataTable =\n",
              "            await google.colab.kernel.invokeFunction('convertToInteractive',\n",
              "                                                     [key], {});\n",
              "          if (!dataTable) return;\n",
              "\n",
              "          const docLinkHtml = 'Like what you see? Visit the ' +\n",
              "            '<a target=\"_blank\" href=https://colab.research.google.com/notebooks/data_table.ipynb>data table notebook</a>'\n",
              "            + ' to learn more about interactive tables.';\n",
              "          element.innerHTML = '';\n",
              "          dataTable['output_type'] = 'display_data';\n",
              "          await google.colab.output.renderOutput(dataTable, element);\n",
              "          const docLink = document.createElement('div');\n",
              "          docLink.innerHTML = docLinkHtml;\n",
              "          element.appendChild(docLink);\n",
              "        }\n",
              "      </script>\n",
              "    </div>\n",
              "  </div>\n",
              "  "
            ]
          },
          "metadata": {},
          "execution_count": 5
        }
      ]
    },
    {
      "cell_type": "code",
      "source": [
        "train.info()"
      ],
      "metadata": {
        "colab": {
          "base_uri": "https://localhost:8080/"
        },
        "id": "GWZfcJ5lvF6G",
        "outputId": "e2a89866-3d6f-481d-de7a-fe4acafed6ac"
      },
      "execution_count": null,
      "outputs": [
        {
          "output_type": "stream",
          "name": "stdout",
          "text": [
            "<class 'pandas.core.frame.DataFrame'>\n",
            "RangeIndex: 283452 entries, 0 to 283451\n",
            "Data columns (total 7 columns):\n",
            " #   Column                      Non-Null Count   Dtype  \n",
            "---  ------                      --------------   -----  \n",
            " 0   id                          283452 non-null  int64  \n",
            " 1   title                       283452 non-null  object \n",
            " 2   short_description           133130 non-null  object \n",
            " 3   name_value_characteristics  50360 non-null   object \n",
            " 4   rating                      283452 non-null  float64\n",
            " 5   feedback_quantity           283452 non-null  int64  \n",
            " 6   category_id                 283452 non-null  int64  \n",
            "dtypes: float64(1), int64(3), object(3)\n",
            "memory usage: 15.1+ MB\n"
          ]
        }
      ]
    },
    {
      "cell_type": "code",
      "source": [
        "train = train.fillna('none')\n",
        "train[['title', 'short_description', 'name_value_characteristics']] = train[['title', 'short_description', 'name_value_characteristics']].astype(str)"
      ],
      "metadata": {
        "id": "JH5EDISH2KmJ"
      },
      "execution_count": null,
      "outputs": []
    },
    {
      "cell_type": "code",
      "source": [
        "test = test.fillna('none')\n",
        "test[['title', 'short_description', 'name_value_characteristics']] = test[['title', 'short_description', 'name_value_characteristics']].astype(str)"
      ],
      "metadata": {
        "id": "5imGF1Z36KSe"
      },
      "execution_count": null,
      "outputs": []
    },
    {
      "cell_type": "code",
      "source": [
        "#получение дерева признаков\n",
        "def get_tree(id, path_list):\n",
        "  parent_id = categories_tree[categories_tree['id'] == id]['parent_id'].values[0]\n",
        "  \n",
        "  if parent_id  > 0:\n",
        "    path_list.append(parent_id)\n",
        "    return get_tree(parent_id, path_list)\n",
        "  else:\n",
        "    if len(path_list) != 6:\n",
        "      path_list.append(0)\n",
        "    \n",
        "    return path_list\n",
        "\n",
        "#построение features для category\n",
        "def build_features(id):\n",
        "  path_list = get_tree(id, [id])\n",
        "\n",
        "  path_list.reverse()\n",
        "\n",
        "  return path_list + [-1] * (6 - len(path_list))"
      ],
      "metadata": {
        "id": "xV-o15PzRsa9"
      },
      "execution_count": null,
      "outputs": []
    },
    {
      "cell_type": "markdown",
      "source": [
        "##предобработка"
      ],
      "metadata": {
        "id": "dlHTzOlLRemp"
      }
    },
    {
      "cell_type": "code",
      "source": [
        "!pip install pymorphy2[fast]"
      ],
      "metadata": {
        "id": "kiTswn7ZRFZQ",
        "colab": {
          "base_uri": "https://localhost:8080/"
        },
        "outputId": "7ca46c01-9471-46e3-8a8c-3f1f8bb9b297"
      },
      "execution_count": null,
      "outputs": [
        {
          "output_type": "stream",
          "name": "stdout",
          "text": [
            "Collecting pymorphy2[fast]\n",
            "  Downloading pymorphy2-0.9.1-py3-none-any.whl (55 kB)\n",
            "\u001b[K     |████████████████████████████████| 55 kB 2.1 MB/s \n",
            "\u001b[?25hCollecting pymorphy2-dicts-ru<3.0,>=2.4\n",
            "  Downloading pymorphy2_dicts_ru-2.4.417127.4579844-py2.py3-none-any.whl (8.2 MB)\n",
            "\u001b[K     |████████████████████████████████| 8.2 MB 7.5 MB/s \n",
            "\u001b[?25hCollecting dawg-python>=0.7.1\n",
            "  Downloading DAWG_Python-0.7.2-py2.py3-none-any.whl (11 kB)\n",
            "Requirement already satisfied: docopt>=0.6 in /usr/local/lib/python3.7/dist-packages (from pymorphy2[fast]) (0.6.2)\n",
            "Collecting DAWG>=0.8\n",
            "  Downloading DAWG-0.8.0.tar.gz (371 kB)\n",
            "\u001b[K     |████████████████████████████████| 371 kB 62.2 MB/s \n",
            "\u001b[?25hBuilding wheels for collected packages: DAWG\n",
            "  Building wheel for DAWG (setup.py) ... \u001b[?25l\u001b[?25hdone\n",
            "  Created wheel for DAWG: filename=DAWG-0.8.0-cp37-cp37m-linux_x86_64.whl size=867888 sha256=3c7546b6711b794d9c3942ed36c09cd6b503e66f73742bfce0d8edb48759a514\n",
            "  Stored in directory: /root/.cache/pip/wheels/85/51/a4/2de41ff197786537075027c27b479a38da92f50abc86634445\n",
            "Successfully built DAWG\n",
            "Installing collected packages: pymorphy2-dicts-ru, dawg-python, pymorphy2, DAWG\n",
            "Successfully installed DAWG-0.8.0 dawg-python-0.7.2 pymorphy2-0.9.1 pymorphy2-dicts-ru-2.4.417127.4579844\n"
          ]
        }
      ]
    },
    {
      "cell_type": "code",
      "source": [
        "import pymorphy2\n",
        "import nltk\n",
        "import re\n",
        "from nltk.corpus import stopwords\n",
        "from nltk.tokenize import sent_tokenize, word_tokenize\n",
        "\n",
        "nltk.download('stopwords')\n",
        "nltk.download('punkt')\n",
        "\n",
        "morph = pymorphy2.MorphAnalyzer()\n",
        "stop_words = set(stopwords.words('russian') + stopwords.words('english'))"
      ],
      "metadata": {
        "id": "905adfr4Hxn3",
        "colab": {
          "base_uri": "https://localhost:8080/"
        },
        "outputId": "9446ccf1-9385-4d3f-bfca-7af520240a9b"
      },
      "execution_count": null,
      "outputs": [
        {
          "output_type": "stream",
          "name": "stdout",
          "text": [
            "[nltk_data] Downloading package stopwords to /root/nltk_data...\n",
            "[nltk_data]   Package stopwords is already up-to-date!\n",
            "[nltk_data] Downloading package punkt to /root/nltk_data...\n",
            "[nltk_data]   Package punkt is already up-to-date!\n"
          ]
        }
      ]
    },
    {
      "cell_type": "code",
      "source": [
        "def preprocessing(sentence):\n",
        "  rez = ''\n",
        "  sentence = re.sub(r'[^\\w\\s]', '', sentence)\n",
        "  words = word_tokenize(sentence)\n",
        "\n",
        "  for i in word_tokenize(sentence):\n",
        "    if i not in stop_words:\n",
        "      rez += morph.parse(i)[0].normal_form + ' '\n",
        "  \n",
        "  return rez"
      ],
      "metadata": {
        "id": "9hkYr3i1RcXQ"
      },
      "execution_count": null,
      "outputs": []
    },
    {
      "cell_type": "markdown",
      "source": [
        "построение дерева признаков для каждого id в таблице\n",
        "\n",
        "\n",
        "!выполняется довольно долго, можно пропустить, если в начале использовать вместо train.parquet - train_with_tree_category.parquet"
      ],
      "metadata": {
        "id": "vF6RNWxdRu1B"
      }
    },
    {
      "cell_type": "code",
      "source": [
        "train[['l0', 'l1', 'l2', 'l3', 'l4', 'l5']] = [-1, -1, -1, -1, -1, -1]\n",
        "train = train[~train['category_id'].isin([13182, 12652])]\n",
        "\n",
        "features = []\n",
        "for i in train.index:\n",
        "  features.append(build_features(train.loc[i].category_id))\n",
        "\n",
        "train[['l0', 'l1', 'l2', 'l3', 'l4', 'l5']] = features\n",
        "#train.to_parquet('train_with_tree_category.parquet')"
      ],
      "metadata": {
        "id": "y2nFbif22ari"
      },
      "execution_count": null,
      "outputs": []
    },
    {
      "cell_type": "markdown",
      "source": [
        "разобъем дерево признаков на уровни"
      ],
      "metadata": {
        "id": "JHAPQAElvhRo"
      }
    },
    {
      "cell_type": "code",
      "source": [
        "'''\n",
        "l0 = categories_tree[categories_tree['parent_id'] == 0]['id']\n",
        "l1 = categories_tree[categories_tree['parent_id'].isin(l0)]['id']\n",
        "l2 = categories_tree.loc[categories_tree['parent_id'].isin(l1)]['id']\n",
        "l3 = categories_tree.loc[categories_tree['parent_id'].isin(l2)]['id']\n",
        "l4 = categories_tree.loc[categories_tree['parent_id'].isin(l3)]['id']\n",
        "l5 = categories_tree.loc[categories_tree['parent_id'].isin(l4)]['id']"
      ],
      "metadata": {
        "id": "VSE6nEPNvgpe"
      },
      "execution_count": null,
      "outputs": []
    },
    {
      "cell_type": "markdown",
      "source": [
        "с лемматизацией работает хуже, поэтому только удаление стоп слов"
      ],
      "metadata": {
        "id": "zaIKIWNpYCVK"
      }
    },
    {
      "cell_type": "code",
      "source": [
        "from sklearn.feature_extraction.text import CountVectorizer, TfidfTransformer\n",
        "from sklearn.preprocessing import MinMaxScaler\n",
        "from scipy.sparse import hstack\n",
        "\n",
        "#vectorizer = CountVectorizer(preprocessor=preprocessing)\n",
        "vectorizer = CountVectorizer(stop_words=stop_words)\n",
        "title_vec = vectorizer.fit_transform(train['title'] + ' ' + train['short_description'] + ' ' + train['name_value_characteristics'])"
      ],
      "metadata": {
        "id": "VK6WVnyk3lcx"
      },
      "execution_count": null,
      "outputs": []
    },
    {
      "cell_type": "markdown",
      "source": [
        "##Выбор и обучение моделей"
      ],
      "metadata": {
        "id": "gBPgUHYnSCk_"
      }
    },
    {
      "cell_type": "markdown",
      "source": [
        "разбиение данных и поиск наилучших параметров для моделей разных уровней\n",
        "\n",
        "у catboost сильно выше f1 макроусреднение"
      ],
      "metadata": {
        "id": "1OseHO4JR77u"
      }
    },
    {
      "cell_type": "code",
      "source": [
        "!pip install catboost"
      ],
      "metadata": {
        "id": "B_xKEeupjgcV"
      },
      "execution_count": null,
      "outputs": []
    },
    {
      "cell_type": "code",
      "source": [
        "'''\n",
        "from sklearn.model_selection import train_test_split\n",
        "from sklearn.model_selection import cross_val_score\n",
        "from sklearn.model_selection import GridSearchCV\n",
        "from sklearn.naive_bayes import MultinomialNB\n",
        "from sklearn.metrics import f1_score\n",
        "\n",
        "for i in range(6):\n",
        "  x_train, x_test, y_train, y_test = train_test_split(\n",
        "      title_vec,\n",
        "      train['l' + str(i)],\n",
        "      test_size=0.1,\n",
        "      stratify=train['l' + str(i)],\n",
        "      random_state=33\n",
        "  )\n",
        "\n",
        "  parameters = {'alpha':np.arange(0, 1.5, 0.05), 'fit_prior':[True, False]}\n",
        "\n",
        "  best_params = GridSearchCV(MultinomialNB(), parameters).fit(x_train, y_train).best_params_\n",
        "\n",
        "  predicted = clf.predict(x_test)\n",
        "  print(best_params)\n",
        "  print(f1_score(y_test, predicted, average='weighted'))\n",
        "  print(f1_score(y_test, predicted, average='macro'))\n",
        "  print(f1_score(y_test, predicted, average='micro'), end='\\n\\n')"
      ],
      "metadata": {
        "id": "YwtnlDs93lDU"
      },
      "execution_count": null,
      "outputs": []
    },
    {
      "cell_type": "code",
      "source": [
        "'''\n",
        "from sklearn.model_selection import train_test_split\n",
        "from sklearn.model_selection import GridSearchCV\n",
        "from sklearn.metrics import f1_score\n",
        "from catboost import CatBoostClassifier\n",
        "\n",
        "for i in range(3):\n",
        "  x_train, x_test, y_train, y_test = train_test_split(\n",
        "      title_vec,\n",
        "      train['l' + str(i)],\n",
        "      test_size=0.1,\n",
        "      stratify=train['l' + str(i)],\n",
        "      random_state=33\n",
        "  )\n",
        "\n",
        "  parameters = {'max_depth': np.arange(2, 10, 2), 'learning_rate':np.arange(0.01, 0.5, 0.05), 'bootstrap_type' : ['Bayesian', 'Bernoulli']}\n",
        "\n",
        "  best_params = GridSearchCV(CatBoostClassifier(), parameters).fit(x_train, y_train).best_params_\n",
        "\n",
        "  predicted = clf.predict(x_test)\n",
        "  print(best_params)\n",
        "  print(f1_score(y_test, predicted, average='weighted'))\n",
        "  print(f1_score(y_test, predicted, average='macro'))\n",
        "  print(f1_score(y_test, predicted, average='micro'), end='\\n\\n')"
      ],
      "metadata": {
        "id": "adv5hmUthPQO"
      },
      "execution_count": null,
      "outputs": []
    },
    {
      "cell_type": "markdown",
      "source": [
        "параметры для моделей искались с помощью GridSearchCV"
      ],
      "metadata": {
        "id": "6VTV64eU94fo"
      }
    },
    {
      "cell_type": "code",
      "source": [
        "params_for_models = [{'alpha' : 1e-06, 'fit_prior' : True},\n",
        "                     {'alpha' : 2.2, 'fit_prior' : True},\n",
        "                     {'alpha' : 0.2, 'fit_prior' : True},\n",
        "                     {'alpha' : 0.15, 'fit_prior' : True},\n",
        "                     {'alpha' : 0.1, 'fit_prior' : False},\n",
        "                     {'alpha' : 0.08, 'fit_prior' : False}]"
      ],
      "metadata": {
        "id": "QHPLwRJZ4Jtg"
      },
      "execution_count": null,
      "outputs": []
    },
    {
      "cell_type": "code",
      "source": [
        "def cat_model(iterations=200, lr=0.5, max_depth=8):\n",
        "  return CatBoostClassifier(\n",
        "      iterations=iterations,\n",
        "      learning_rate=lr,\n",
        "      max_depth=max_depth,\n",
        "      random_seed=33,\n",
        "      #task_type='GPU'\n",
        "  )\n",
        "\n",
        "def multi_nb(params):\n",
        "  return MultinomialNB(**params)"
      ],
      "metadata": {
        "id": "aueMpHZ9fbJV"
      },
      "execution_count": null,
      "outputs": []
    },
    {
      "cell_type": "markdown",
      "source": [
        "не получилось обучить для 4-6 уровенй catboost"
      ],
      "metadata": {
        "id": "JBmWPLqTgyrw"
      }
    },
    {
      "cell_type": "code",
      "source": [
        "from sklearn.naive_bayes import MultinomialNB\n",
        "from catboost import CatBoostClassifier\n",
        "\n",
        "tiered_models = []\n",
        "\n",
        "tiered_models.append(cat_model(200, 0.08, 6))\n",
        "tiered_models.append(cat_model(200, 0.08, 6))\n",
        "tiered_models.append(cat_model(200, 0.08, 6))\n",
        "tiered_models.append(multi_nb(params_for_models[3]))\n",
        "tiered_models.append(multi_nb(params_for_models[4]))\n",
        "tiered_models.append(multi_nb(params_for_models[5]))"
      ],
      "metadata": {
        "id": "ozVelZkE4bYn"
      },
      "execution_count": null,
      "outputs": []
    },
    {
      "cell_type": "code",
      "source": [
        "for i in range(6):\n",
        "  tiered_models[i].fit(title_vec, train['l' + str(i)])"
      ],
      "metadata": {
        "id": "VgTpuhcYghyu"
      },
      "execution_count": null,
      "outputs": []
    },
    {
      "cell_type": "code",
      "source": [
        "title_vec_test = vectorizer.transform(test['title'] + test['short_description'] + test['name_value_characteristics'])"
      ],
      "metadata": {
        "id": "HVi1cEtR6RUG"
      },
      "execution_count": null,
      "outputs": []
    },
    {
      "cell_type": "code",
      "source": [
        "for i in range(6):\n",
        "  test['l' + str(i)] = tiered_models[i].predict(title_vec_test)"
      ],
      "metadata": {
        "id": "HRpcquFI5l8x"
      },
      "execution_count": null,
      "outputs": []
    },
    {
      "cell_type": "code",
      "source": [
        "test.head()"
      ],
      "metadata": {
        "colab": {
          "base_uri": "https://localhost:8080/",
          "height": 302
        },
        "id": "ifQuUJ3XAND5",
        "outputId": "53a032c4-e54a-4019-d448-063db4ccbb69"
      },
      "execution_count": null,
      "outputs": [
        {
          "output_type": "execute_result",
          "data": {
            "text/plain": [
              "        id                                              title  \\\n",
              "0  1070974                Браслет из натуральных камней LOTUS   \n",
              "1   450413  Fusion Life - Шампунь для сухих и окрашенных в...   \n",
              "2   126857         Микрофон для ПК jack 3,5мм всенаправленный   \n",
              "3  1577569                             Серьги гвоздики сердце   \n",
              "4   869328  Чёрно-красная стильная брошь \"Тюльпаны\" из акр...   \n",
              "\n",
              "                                   short_description  \\\n",
              "0                                               none   \n",
              "1                                               none   \n",
              "2     универсальный 3,5 мм микрофон запишет ваш звук   \n",
              "3                             Серьги гвоздики сердце   \n",
              "4  Стильная и яркая брошь ручной работы! Великоле...   \n",
              "\n",
              "  name_value_characteristics    rating  feedback_quantity  l0  l1     l2  \\\n",
              "0                       none  0.000000                  0   0   1  10003   \n",
              "1                       none  4.333333                  6   0   1  10012   \n",
              "2                       none  3.708333                 24   0   1  10020   \n",
              "3                       none  0.000000                  0   0   1  10003   \n",
              "4                       none  0.000000                  0   0   1  10003   \n",
              "\n",
              "      l3     l4     l5  \n",
              "0  10023  10177  11574  \n",
              "1  10165  10705  11878  \n",
              "2  10144  11157   2803  \n",
              "3  10023  10104  13061  \n",
              "4  10023  10104  12813  "
            ],
            "text/html": [
              "\n",
              "  <div id=\"df-6bdb7963-432c-422c-8d84-818bfbe79178\">\n",
              "    <div class=\"colab-df-container\">\n",
              "      <div>\n",
              "<style scoped>\n",
              "    .dataframe tbody tr th:only-of-type {\n",
              "        vertical-align: middle;\n",
              "    }\n",
              "\n",
              "    .dataframe tbody tr th {\n",
              "        vertical-align: top;\n",
              "    }\n",
              "\n",
              "    .dataframe thead th {\n",
              "        text-align: right;\n",
              "    }\n",
              "</style>\n",
              "<table border=\"1\" class=\"dataframe\">\n",
              "  <thead>\n",
              "    <tr style=\"text-align: right;\">\n",
              "      <th></th>\n",
              "      <th>id</th>\n",
              "      <th>title</th>\n",
              "      <th>short_description</th>\n",
              "      <th>name_value_characteristics</th>\n",
              "      <th>rating</th>\n",
              "      <th>feedback_quantity</th>\n",
              "      <th>l0</th>\n",
              "      <th>l1</th>\n",
              "      <th>l2</th>\n",
              "      <th>l3</th>\n",
              "      <th>l4</th>\n",
              "      <th>l5</th>\n",
              "    </tr>\n",
              "  </thead>\n",
              "  <tbody>\n",
              "    <tr>\n",
              "      <th>0</th>\n",
              "      <td>1070974</td>\n",
              "      <td>Браслет из натуральных камней LOTUS</td>\n",
              "      <td>none</td>\n",
              "      <td>none</td>\n",
              "      <td>0.000000</td>\n",
              "      <td>0</td>\n",
              "      <td>0</td>\n",
              "      <td>1</td>\n",
              "      <td>10003</td>\n",
              "      <td>10023</td>\n",
              "      <td>10177</td>\n",
              "      <td>11574</td>\n",
              "    </tr>\n",
              "    <tr>\n",
              "      <th>1</th>\n",
              "      <td>450413</td>\n",
              "      <td>Fusion Life - Шампунь для сухих и окрашенных в...</td>\n",
              "      <td>none</td>\n",
              "      <td>none</td>\n",
              "      <td>4.333333</td>\n",
              "      <td>6</td>\n",
              "      <td>0</td>\n",
              "      <td>1</td>\n",
              "      <td>10012</td>\n",
              "      <td>10165</td>\n",
              "      <td>10705</td>\n",
              "      <td>11878</td>\n",
              "    </tr>\n",
              "    <tr>\n",
              "      <th>2</th>\n",
              "      <td>126857</td>\n",
              "      <td>Микрофон для ПК jack 3,5мм всенаправленный</td>\n",
              "      <td>универсальный 3,5 мм микрофон запишет ваш звук</td>\n",
              "      <td>none</td>\n",
              "      <td>3.708333</td>\n",
              "      <td>24</td>\n",
              "      <td>0</td>\n",
              "      <td>1</td>\n",
              "      <td>10020</td>\n",
              "      <td>10144</td>\n",
              "      <td>11157</td>\n",
              "      <td>2803</td>\n",
              "    </tr>\n",
              "    <tr>\n",
              "      <th>3</th>\n",
              "      <td>1577569</td>\n",
              "      <td>Серьги гвоздики сердце</td>\n",
              "      <td>Серьги гвоздики сердце</td>\n",
              "      <td>none</td>\n",
              "      <td>0.000000</td>\n",
              "      <td>0</td>\n",
              "      <td>0</td>\n",
              "      <td>1</td>\n",
              "      <td>10003</td>\n",
              "      <td>10023</td>\n",
              "      <td>10104</td>\n",
              "      <td>13061</td>\n",
              "    </tr>\n",
              "    <tr>\n",
              "      <th>4</th>\n",
              "      <td>869328</td>\n",
              "      <td>Чёрно-красная стильная брошь \"Тюльпаны\" из акр...</td>\n",
              "      <td>Стильная и яркая брошь ручной работы! Великоле...</td>\n",
              "      <td>none</td>\n",
              "      <td>0.000000</td>\n",
              "      <td>0</td>\n",
              "      <td>0</td>\n",
              "      <td>1</td>\n",
              "      <td>10003</td>\n",
              "      <td>10023</td>\n",
              "      <td>10104</td>\n",
              "      <td>12813</td>\n",
              "    </tr>\n",
              "  </tbody>\n",
              "</table>\n",
              "</div>\n",
              "      <button class=\"colab-df-convert\" onclick=\"convertToInteractive('df-6bdb7963-432c-422c-8d84-818bfbe79178')\"\n",
              "              title=\"Convert this dataframe to an interactive table.\"\n",
              "              style=\"display:none;\">\n",
              "        \n",
              "  <svg xmlns=\"http://www.w3.org/2000/svg\" height=\"24px\"viewBox=\"0 0 24 24\"\n",
              "       width=\"24px\">\n",
              "    <path d=\"M0 0h24v24H0V0z\" fill=\"none\"/>\n",
              "    <path d=\"M18.56 5.44l.94 2.06.94-2.06 2.06-.94-2.06-.94-.94-2.06-.94 2.06-2.06.94zm-11 1L8.5 8.5l.94-2.06 2.06-.94-2.06-.94L8.5 2.5l-.94 2.06-2.06.94zm10 10l.94 2.06.94-2.06 2.06-.94-2.06-.94-.94-2.06-.94 2.06-2.06.94z\"/><path d=\"M17.41 7.96l-1.37-1.37c-.4-.4-.92-.59-1.43-.59-.52 0-1.04.2-1.43.59L10.3 9.45l-7.72 7.72c-.78.78-.78 2.05 0 2.83L4 21.41c.39.39.9.59 1.41.59.51 0 1.02-.2 1.41-.59l7.78-7.78 2.81-2.81c.8-.78.8-2.07 0-2.86zM5.41 20L4 18.59l7.72-7.72 1.47 1.35L5.41 20z\"/>\n",
              "  </svg>\n",
              "      </button>\n",
              "      \n",
              "  <style>\n",
              "    .colab-df-container {\n",
              "      display:flex;\n",
              "      flex-wrap:wrap;\n",
              "      gap: 12px;\n",
              "    }\n",
              "\n",
              "    .colab-df-convert {\n",
              "      background-color: #E8F0FE;\n",
              "      border: none;\n",
              "      border-radius: 50%;\n",
              "      cursor: pointer;\n",
              "      display: none;\n",
              "      fill: #1967D2;\n",
              "      height: 32px;\n",
              "      padding: 0 0 0 0;\n",
              "      width: 32px;\n",
              "    }\n",
              "\n",
              "    .colab-df-convert:hover {\n",
              "      background-color: #E2EBFA;\n",
              "      box-shadow: 0px 1px 2px rgba(60, 64, 67, 0.3), 0px 1px 3px 1px rgba(60, 64, 67, 0.15);\n",
              "      fill: #174EA6;\n",
              "    }\n",
              "\n",
              "    [theme=dark] .colab-df-convert {\n",
              "      background-color: #3B4455;\n",
              "      fill: #D2E3FC;\n",
              "    }\n",
              "\n",
              "    [theme=dark] .colab-df-convert:hover {\n",
              "      background-color: #434B5C;\n",
              "      box-shadow: 0px 1px 3px 1px rgba(0, 0, 0, 0.15);\n",
              "      filter: drop-shadow(0px 1px 2px rgba(0, 0, 0, 0.3));\n",
              "      fill: #FFFFFF;\n",
              "    }\n",
              "  </style>\n",
              "\n",
              "      <script>\n",
              "        const buttonEl =\n",
              "          document.querySelector('#df-6bdb7963-432c-422c-8d84-818bfbe79178 button.colab-df-convert');\n",
              "        buttonEl.style.display =\n",
              "          google.colab.kernel.accessAllowed ? 'block' : 'none';\n",
              "\n",
              "        async function convertToInteractive(key) {\n",
              "          const element = document.querySelector('#df-6bdb7963-432c-422c-8d84-818bfbe79178');\n",
              "          const dataTable =\n",
              "            await google.colab.kernel.invokeFunction('convertToInteractive',\n",
              "                                                     [key], {});\n",
              "          if (!dataTable) return;\n",
              "\n",
              "          const docLinkHtml = 'Like what you see? Visit the ' +\n",
              "            '<a target=\"_blank\" href=https://colab.research.google.com/notebooks/data_table.ipynb>data table notebook</a>'\n",
              "            + ' to learn more about interactive tables.';\n",
              "          element.innerHTML = '';\n",
              "          dataTable['output_type'] = 'display_data';\n",
              "          await google.colab.output.renderOutput(dataTable, element);\n",
              "          const docLink = document.createElement('div');\n",
              "          docLink.innerHTML = docLinkHtml;\n",
              "          element.appendChild(docLink);\n",
              "        }\n",
              "      </script>\n",
              "    </div>\n",
              "  </div>\n",
              "  "
            ]
          },
          "metadata": {},
          "execution_count": 27
        }
      ]
    },
    {
      "cell_type": "code",
      "source": [
        "test[test['l3'] == -1]"
      ],
      "metadata": {
        "colab": {
          "base_uri": "https://localhost:8080/",
          "height": 49
        },
        "id": "SB2FHrBLCt8H",
        "outputId": "a5751bce-20f8-4de0-df8c-4b3d3f3733f9"
      },
      "execution_count": null,
      "outputs": [
        {
          "output_type": "execute_result",
          "data": {
            "text/plain": [
              "Empty DataFrame\n",
              "Columns: [id, title, short_description, name_value_characteristics, rating, feedback_quantity, l0, l1, l2, l3, l4, l5]\n",
              "Index: []"
            ],
            "text/html": [
              "\n",
              "  <div id=\"df-26d0c04d-8283-42e2-97e6-dabbe2c8016d\">\n",
              "    <div class=\"colab-df-container\">\n",
              "      <div>\n",
              "<style scoped>\n",
              "    .dataframe tbody tr th:only-of-type {\n",
              "        vertical-align: middle;\n",
              "    }\n",
              "\n",
              "    .dataframe tbody tr th {\n",
              "        vertical-align: top;\n",
              "    }\n",
              "\n",
              "    .dataframe thead th {\n",
              "        text-align: right;\n",
              "    }\n",
              "</style>\n",
              "<table border=\"1\" class=\"dataframe\">\n",
              "  <thead>\n",
              "    <tr style=\"text-align: right;\">\n",
              "      <th></th>\n",
              "      <th>id</th>\n",
              "      <th>title</th>\n",
              "      <th>short_description</th>\n",
              "      <th>name_value_characteristics</th>\n",
              "      <th>rating</th>\n",
              "      <th>feedback_quantity</th>\n",
              "      <th>l0</th>\n",
              "      <th>l1</th>\n",
              "      <th>l2</th>\n",
              "      <th>l3</th>\n",
              "      <th>l4</th>\n",
              "      <th>l5</th>\n",
              "    </tr>\n",
              "  </thead>\n",
              "  <tbody>\n",
              "  </tbody>\n",
              "</table>\n",
              "</div>\n",
              "      <button class=\"colab-df-convert\" onclick=\"convertToInteractive('df-26d0c04d-8283-42e2-97e6-dabbe2c8016d')\"\n",
              "              title=\"Convert this dataframe to an interactive table.\"\n",
              "              style=\"display:none;\">\n",
              "        \n",
              "  <svg xmlns=\"http://www.w3.org/2000/svg\" height=\"24px\"viewBox=\"0 0 24 24\"\n",
              "       width=\"24px\">\n",
              "    <path d=\"M0 0h24v24H0V0z\" fill=\"none\"/>\n",
              "    <path d=\"M18.56 5.44l.94 2.06.94-2.06 2.06-.94-2.06-.94-.94-2.06-.94 2.06-2.06.94zm-11 1L8.5 8.5l.94-2.06 2.06-.94-2.06-.94L8.5 2.5l-.94 2.06-2.06.94zm10 10l.94 2.06.94-2.06 2.06-.94-2.06-.94-.94-2.06-.94 2.06-2.06.94z\"/><path d=\"M17.41 7.96l-1.37-1.37c-.4-.4-.92-.59-1.43-.59-.52 0-1.04.2-1.43.59L10.3 9.45l-7.72 7.72c-.78.78-.78 2.05 0 2.83L4 21.41c.39.39.9.59 1.41.59.51 0 1.02-.2 1.41-.59l7.78-7.78 2.81-2.81c.8-.78.8-2.07 0-2.86zM5.41 20L4 18.59l7.72-7.72 1.47 1.35L5.41 20z\"/>\n",
              "  </svg>\n",
              "      </button>\n",
              "      \n",
              "  <style>\n",
              "    .colab-df-container {\n",
              "      display:flex;\n",
              "      flex-wrap:wrap;\n",
              "      gap: 12px;\n",
              "    }\n",
              "\n",
              "    .colab-df-convert {\n",
              "      background-color: #E8F0FE;\n",
              "      border: none;\n",
              "      border-radius: 50%;\n",
              "      cursor: pointer;\n",
              "      display: none;\n",
              "      fill: #1967D2;\n",
              "      height: 32px;\n",
              "      padding: 0 0 0 0;\n",
              "      width: 32px;\n",
              "    }\n",
              "\n",
              "    .colab-df-convert:hover {\n",
              "      background-color: #E2EBFA;\n",
              "      box-shadow: 0px 1px 2px rgba(60, 64, 67, 0.3), 0px 1px 3px 1px rgba(60, 64, 67, 0.15);\n",
              "      fill: #174EA6;\n",
              "    }\n",
              "\n",
              "    [theme=dark] .colab-df-convert {\n",
              "      background-color: #3B4455;\n",
              "      fill: #D2E3FC;\n",
              "    }\n",
              "\n",
              "    [theme=dark] .colab-df-convert:hover {\n",
              "      background-color: #434B5C;\n",
              "      box-shadow: 0px 1px 3px 1px rgba(0, 0, 0, 0.15);\n",
              "      filter: drop-shadow(0px 1px 2px rgba(0, 0, 0, 0.3));\n",
              "      fill: #FFFFFF;\n",
              "    }\n",
              "  </style>\n",
              "\n",
              "      <script>\n",
              "        const buttonEl =\n",
              "          document.querySelector('#df-26d0c04d-8283-42e2-97e6-dabbe2c8016d button.colab-df-convert');\n",
              "        buttonEl.style.display =\n",
              "          google.colab.kernel.accessAllowed ? 'block' : 'none';\n",
              "\n",
              "        async function convertToInteractive(key) {\n",
              "          const element = document.querySelector('#df-26d0c04d-8283-42e2-97e6-dabbe2c8016d');\n",
              "          const dataTable =\n",
              "            await google.colab.kernel.invokeFunction('convertToInteractive',\n",
              "                                                     [key], {});\n",
              "          if (!dataTable) return;\n",
              "\n",
              "          const docLinkHtml = 'Like what you see? Visit the ' +\n",
              "            '<a target=\"_blank\" href=https://colab.research.google.com/notebooks/data_table.ipynb>data table notebook</a>'\n",
              "            + ' to learn more about interactive tables.';\n",
              "          element.innerHTML = '';\n",
              "          dataTable['output_type'] = 'display_data';\n",
              "          await google.colab.output.renderOutput(dataTable, element);\n",
              "          const docLink = document.createElement('div');\n",
              "          docLink.innerHTML = docLinkHtml;\n",
              "          element.appendChild(docLink);\n",
              "        }\n",
              "      </script>\n",
              "    </div>\n",
              "  </div>\n",
              "  "
            ]
          },
          "metadata": {},
          "execution_count": 28
        }
      ]
    },
    {
      "cell_type": "code",
      "source": [
        "result = pd.DataFrame(columns=['id', 'predicted_category_id'])\n",
        "\n",
        "result['id'] = test['id']\n",
        "predicted_category = test['l5'].tolist()\n",
        "\n",
        "for i in range(len(predicted_category)):\n",
        "  if predicted_category[i] == -1:\n",
        "    if test['l4'][i] != -1:\n",
        "      predicted_category[i] = test['l4'][i]\n",
        "    else:\n",
        "      predicted_category[i] = test['l3'][i]\n",
        "\n",
        "min(predicted_category)"
      ],
      "metadata": {
        "id": "3z2iVuZjBXpi",
        "colab": {
          "base_uri": "https://localhost:8080/"
        },
        "outputId": "6491e624-954d-4369-d667-55252616dc0c"
      },
      "execution_count": null,
      "outputs": [
        {
          "output_type": "execute_result",
          "data": {
            "text/plain": [
              "2599"
            ]
          },
          "metadata": {},
          "execution_count": 29
        }
      ]
    },
    {
      "cell_type": "code",
      "source": [
        "result['predicted_category_id'] = predicted_category\n",
        "#result.to_parquet('result.parquet')"
      ],
      "metadata": {
        "id": "HNptXszCEXNK"
      },
      "execution_count": null,
      "outputs": []
    },
    {
      "cell_type": "markdown",
      "source": [
        "##tests"
      ],
      "metadata": {
        "id": "JUWqQWdRHLfg"
      }
    },
    {
      "cell_type": "markdown",
      "source": [
        "Протестировал catboost/xgboost + rubert - смог нормально обучить только для первых 3 уровней, результаты были лучше чем у баесовского классификатора.\n",
        "\n",
        "ИСопльзование rubert не дало сильного прироста f1\n",
        "\n",
        "результаты получились хуже + модель очень долго обучается, а учитывая способ классификации (отдельно для каждого уровня), нужно очень много времени"
      ],
      "metadata": {
        "id": "6F-93MmdQGZj"
      }
    },
    {
      "cell_type": "code",
      "source": [
        "'''\n",
        "!pip install transformers sentencepiece\n",
        "import torch\n",
        "from transformers import AutoTokenizer, AutoModel\n",
        "\n",
        "tokenizer = AutoTokenizer.from_pretrained(\"cointegrated/rubert-tiny\")\n",
        "model = AutoModel.from_pretrained(\"cointegrated/rubert-tiny\")\n",
        "model.cuda()"
      ],
      "metadata": {
        "id": "Na6cT5DtG-qs"
      },
      "execution_count": null,
      "outputs": []
    },
    {
      "cell_type": "code",
      "source": [
        "'''\n",
        "def embed_bert_cls(text, model=model, tokenizer=tokenizer):\n",
        "    t = tokenizer(text, padding=True, truncation=True, return_tensors='pt')\n",
        "    with torch.no_grad():\n",
        "        model_output = model(**{k: v.to(model.device) for k, v in t.items()})\n",
        "    embeddings = model_output.last_hidden_state[:, 0, :]\n",
        "    embeddings = torch.nn.functional.normalize(embeddings)\n",
        "    return embeddings[0].cpu().numpy()\n",
        "\n",
        "x_train, y_train = [embed_bert_cls(i) for i in text], train['l0']\n",
        "dataset = pd.read_parquet('berted.parquet')"
      ],
      "metadata": {
        "id": "p7l4kcGjG_7e"
      },
      "execution_count": null,
      "outputs": []
    },
    {
      "cell_type": "code",
      "source": [
        "'''\n",
        "from catboost import CatBoostClassifier\n",
        "\n",
        "def model_catboost(iterations=50, lr=None, max_depth=4):\n",
        "  return CatBoostClassifier(\n",
        "      iterations=iterations, \n",
        "      learning_rate=lr,\n",
        "      max_depth=max_depth,\n",
        "      #task_type='GPU'\n",
        "  )\n",
        "\n",
        "def predict_tree(all_features, models, layers=6):\n",
        "  res_tree = pd.DataFrame()\n",
        "  predicted = models[0].predict(all_features)\n",
        "  res_tree['l0'] = predicted\n",
        "\n",
        "  for i in range(1, layers):\n",
        "    predicted = models[i].predict(all_features)\n",
        "    res_tree['l' + str(i)] = predicted\n",
        "  \n",
        "  return res_tree"
      ],
      "metadata": {
        "id": "lhRQ1HoDPKKr"
      },
      "execution_count": null,
      "outputs": []
    },
    {
      "cell_type": "code",
      "source": [
        "'''\n",
        "models = [model_catboost(iterations=50), \n",
        "          model_catboost(iterations=35), \n",
        "          model_catboost(), \n",
        "          model_catboost(),\n",
        "          model_catboost(),\n",
        "          model_catboost()]"
      ],
      "metadata": {
        "id": "iYMNpF1JHFId"
      },
      "execution_count": null,
      "outputs": []
    },
    {
      "cell_type": "code",
      "source": [
        "'''\n",
        "targets_name = ['l0', 'l1', 'l2', 'l3', 'l4', 'l5']\n",
        "next_layer = x_train\n",
        "\n",
        "for i in range(len(models)):\n",
        "  models[i].fit(\n",
        "      next_layer, train[targets_name[i]],\n",
        "      )"
      ],
      "metadata": {
        "id": "dvb3uXkEHHQ-"
      },
      "execution_count": null,
      "outputs": []
    }
  ]
}