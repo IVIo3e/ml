{
  "nbformat": 4,
  "nbformat_minor": 0,
  "metadata": {
    "colab": {
      "name": "NER.ipynb",
      "provenance": [],
      "collapsed_sections": [],
      "authorship_tag": "ABX9TyOjUsfkbd/zcffToQlveEs5"
    },
    "kernelspec": {
      "name": "python3",
      "display_name": "Python 3"
    },
    "language_info": {
      "name": "python"
    }
  },
  "cells": [
    {
      "cell_type": "markdown",
      "metadata": {
        "id": "6GjYLp422hUX"
      },
      "source": [
        "#Загрузка текста"
      ]
    },
    {
      "cell_type": "markdown",
      "metadata": {
        "id": "EpVBNv823OVI"
      },
      "source": [
        "Для построения словаря будем использовать word2vec из gensim"
      ]
    },
    {
      "cell_type": "code",
      "metadata": {
        "id": "qLnxnHjf3NDr"
      },
      "source": [
        "from gensim.models.word2vec import Word2Vec\n",
        "from multiprocessing import cpu_count\n",
        "\n",
        "word2vec = Word2Vec(min_count = 1, workers=cpu_count(), window=5, sg=1)"
      ],
      "execution_count": null,
      "outputs": []
    },
    {
      "cell_type": "markdown",
      "metadata": {
        "id": "wsy_cs5N4cZy"
      },
      "source": [
        "Текст \"Мастер и маргарита\" "
      ]
    },
    {
      "cell_type": "code",
      "metadata": {
        "id": "0rnLyr2f2hxg"
      },
      "source": [
        "file = open('master.txt', mode='r')\n",
        "text = file.read()\n",
        "file.close()"
      ],
      "execution_count": null,
      "outputs": []
    },
    {
      "cell_type": "markdown",
      "metadata": {
        "id": "RuJjRwsVkdA2"
      },
      "source": [
        "#Базовая предобработка и создание словаря "
      ]
    },
    {
      "cell_type": "code",
      "metadata": {
        "colab": {
          "base_uri": "https://localhost:8080/"
        },
        "id": "C1OI0dRUnagg",
        "outputId": "47e99506-2568-46e3-b601-0691aefb9771"
      },
      "source": [
        "import nltk\n",
        "from nltk.tokenize import sent_tokenize, word_tokenize\n",
        "\n",
        "nltk.download('punkt')"
      ],
      "execution_count": null,
      "outputs": [
        {
          "output_type": "stream",
          "text": [
            "[nltk_data] Downloading package punkt to /root/nltk_data...\n",
            "[nltk_data]   Package punkt is already up-to-date!\n"
          ],
          "name": "stdout"
        },
        {
          "output_type": "execute_result",
          "data": {
            "text/plain": [
              "True"
            ]
          },
          "metadata": {
            "tags": []
          },
          "execution_count": 29
        }
      ]
    },
    {
      "cell_type": "markdown",
      "metadata": {
        "id": "r9fFsC0ocSuN"
      },
      "source": [
        "Разделение текста по главам"
      ]
    },
    {
      "cell_type": "code",
      "metadata": {
        "id": "zpS_bxpycB0E"
      },
      "source": [
        "chapter = [word_tokenize(i) for i in text.split(sep='Глава')][1:]"
      ],
      "execution_count": null,
      "outputs": []
    },
    {
      "cell_type": "markdown",
      "metadata": {
        "id": "iHoby6SRcMxe"
      },
      "source": [
        "Удаление знаков препинания и стоп слов"
      ]
    },
    {
      "cell_type": "code",
      "metadata": {
        "colab": {
          "base_uri": "https://localhost:8080/"
        },
        "id": "-MalcYfxjYrJ",
        "outputId": "849ce6d9-a541-4c44-b14f-42373cc29f26"
      },
      "source": [
        "import string\n",
        "from nltk.corpus import stopwords\n",
        "nltk.download('stopwords')\n",
        "\n",
        "def standardize_text(df):\n",
        "  stop_words = stopwords.words('russian')\n",
        "  stop_words.extend(string.punctuation)\n",
        "  stop_words.extend(['что', 'это', 'так', 'вот', 'быть', 'как', 'в', '—', '–',\n",
        "                     'к','на', '...', '..', '«', '»', '', '\\n','Глава','==','==='])\n",
        "  \n",
        "  df = [i.lower() for i in df if (i not in stop_words)]\n",
        "\n",
        "  return df"
      ],
      "execution_count": null,
      "outputs": [
        {
          "output_type": "stream",
          "text": [
            "[nltk_data] Downloading package stopwords to /root/nltk_data...\n",
            "[nltk_data]   Package stopwords is already up-to-date!\n"
          ],
          "name": "stdout"
        }
      ]
    },
    {
      "cell_type": "code",
      "metadata": {
        "id": "mh-U53UNYS0D"
      },
      "source": [
        "chapter = [standardize_text(i) for i in chapter]"
      ],
      "execution_count": null,
      "outputs": []
    },
    {
      "cell_type": "code",
      "metadata": {
        "id": "zlIBQTlQnKoQ",
        "colab": {
          "base_uri": "https://localhost:8080/"
        },
        "outputId": "7915c9cb-333f-4b05-d00c-255f13b67726"
      },
      "source": [
        "word2vec.build_vocab(chapter)\n",
        "word2vec.train(chapter, total_examples=64, epochs=10)"
      ],
      "execution_count": null,
      "outputs": [
        {
          "output_type": "execute_result",
          "data": {
            "text/plain": [
              "(745918, 752550)"
            ]
          },
          "metadata": {
            "tags": []
          },
          "execution_count": 33
        }
      ]
    },
    {
      "cell_type": "code",
      "metadata": {
        "colab": {
          "base_uri": "https://localhost:8080/"
        },
        "id": "9k2ho-uqkw9a",
        "outputId": "b2eecad0-3d50-4704-91bf-9f6501fd562a"
      },
      "source": [
        "word2vec.most_similar('берлиоз')"
      ],
      "execution_count": null,
      "outputs": [
        {
          "output_type": "stream",
          "text": [
            "/usr/local/lib/python3.7/dist-packages/ipykernel_launcher.py:1: DeprecationWarning: Call to deprecated `most_similar` (Method will be removed in 4.0.0, use self.wv.most_similar() instead).\n",
            "  \"\"\"Entry point for launching an IPython kernel.\n"
          ],
          "name": "stderr"
        },
        {
          "output_type": "execute_result",
          "data": {
            "text/plain": [
              "[('профессор', 0.9957313537597656),\n",
              " ('подумал', 0.9940712451934814),\n",
              " ('бездомный', 0.9934359788894653),\n",
              " ('знаю', 0.9930907487869263),\n",
              " ('тихо', 0.9930883646011353),\n",
              " ('воскликнул', 0.990914523601532),\n",
              " ('не', 0.9903339147567749),\n",
              " ('стравинский', 0.9903137683868408),\n",
              " ('афраний', 0.9899523258209229),\n",
              " ('могу', 0.9895820617675781)]"
            ]
          },
          "metadata": {
            "tags": []
          },
          "execution_count": 34
        }
      ]
    },
    {
      "cell_type": "markdown",
      "metadata": {
        "id": "ou4mC5SL189L"
      },
      "source": [
        "#Загрузка датасета"
      ]
    },
    {
      "cell_type": "code",
      "metadata": {
        "colab": {
          "base_uri": "https://localhost:8080/"
        },
        "id": "zCHTPPpXavDK",
        "outputId": "cd905f08-2cc7-468c-a9d0-808210e4c03d"
      },
      "source": [
        "!pip install pymorphy2 \n",
        "import pandas as pd\n",
        "import pymorphy2\n",
        "morph = pymorphy2.MorphAnalyzer()"
      ],
      "execution_count": null,
      "outputs": [
        {
          "output_type": "stream",
          "text": [
            "Requirement already satisfied: pymorphy2 in /usr/local/lib/python3.7/dist-packages (0.9.1)\n",
            "Requirement already satisfied: docopt>=0.6 in /usr/local/lib/python3.7/dist-packages (from pymorphy2) (0.6.2)\n",
            "Requirement already satisfied: dawg-python>=0.7.1 in /usr/local/lib/python3.7/dist-packages (from pymorphy2) (0.7.2)\n",
            "Requirement already satisfied: pymorphy2-dicts-ru<3.0,>=2.4 in /usr/local/lib/python3.7/dist-packages (from pymorphy2) (2.4.417127.4579844)\n"
          ],
          "name": "stdout"
        }
      ]
    },
    {
      "cell_type": "code",
      "metadata": {
        "id": "It72Bdn818ps"
      },
      "source": [
        "import pandas as pd\n",
        "\n",
        "data = pd.read_csv('1.txt')"
      ],
      "execution_count": null,
      "outputs": []
    },
    {
      "cell_type": "code",
      "metadata": {
        "colab": {
          "base_uri": "https://localhost:8080/"
        },
        "id": "F4Y1POLRqeyM",
        "outputId": "fd824e8a-55e3-4fea-94de-6c19fbb5a0d0"
      },
      "source": [
        "data['ID'] = 1\n",
        "\n",
        "for i in range(len(data)):\n",
        "  data['ID'][i] =  word2vec.wv.vocab[data['Word'][i]].index\n",
        "  data['Word'][i] = morph.parse(data['Word'][i])[0].normal_form"
      ],
      "execution_count": null,
      "outputs": [
        {
          "output_type": "stream",
          "text": [
            "/usr/local/lib/python3.7/dist-packages/ipykernel_launcher.py:4: SettingWithCopyWarning: \n",
            "A value is trying to be set on a copy of a slice from a DataFrame\n",
            "\n",
            "See the caveats in the documentation: https://pandas.pydata.org/pandas-docs/stable/user_guide/indexing.html#returning-a-view-versus-a-copy\n",
            "  after removing the cwd from sys.path.\n",
            "/usr/local/lib/python3.7/dist-packages/ipykernel_launcher.py:5: SettingWithCopyWarning: \n",
            "A value is trying to be set on a copy of a slice from a DataFrame\n",
            "\n",
            "See the caveats in the documentation: https://pandas.pydata.org/pandas-docs/stable/user_guide/indexing.html#returning-a-view-versus-a-copy\n",
            "  \"\"\"\n"
          ],
          "name": "stderr"
        }
      ]
    },
    {
      "cell_type": "code",
      "metadata": {
        "colab": {
          "base_uri": "https://localhost:8080/",
          "height": 200
        },
        "id": "lQPcTNtibkZT",
        "outputId": "bc2796b4-b760-47e1-9d65-c2ffeadc03a7"
      },
      "source": [
        "data.head()"
      ],
      "execution_count": null,
      "outputs": [
        {
          "output_type": "execute_result",
          "data": {
            "text/html": [
              "<div>\n",
              "<style scoped>\n",
              "    .dataframe tbody tr th:only-of-type {\n",
              "        vertical-align: middle;\n",
              "    }\n",
              "\n",
              "    .dataframe tbody tr th {\n",
              "        vertical-align: top;\n",
              "    }\n",
              "\n",
              "    .dataframe thead th {\n",
              "        text-align: right;\n",
              "    }\n",
              "</style>\n",
              "<table border=\"1\" class=\"dataframe\">\n",
              "  <thead>\n",
              "    <tr style=\"text-align: right;\">\n",
              "      <th></th>\n",
              "      <th>Sentence #</th>\n",
              "      <th>Word</th>\n",
              "      <th>BIO-Tag</th>\n",
              "      <th>ID</th>\n",
              "    </tr>\n",
              "  </thead>\n",
              "  <tbody>\n",
              "    <tr>\n",
              "      <th>0</th>\n",
              "      <td>1</td>\n",
              "      <td>однажды</td>\n",
              "      <td>O</td>\n",
              "      <td>1967</td>\n",
              "    </tr>\n",
              "    <tr>\n",
              "      <th>1</th>\n",
              "      <td>1</td>\n",
              "      <td>весною</td>\n",
              "      <td>O</td>\n",
              "      <td>3866</td>\n",
              "    </tr>\n",
              "    <tr>\n",
              "      <th>2</th>\n",
              "      <td>1</td>\n",
              "      <td>час</td>\n",
              "      <td>B-TIME</td>\n",
              "      <td>323</td>\n",
              "    </tr>\n",
              "    <tr>\n",
              "      <th>3</th>\n",
              "      <td>1</td>\n",
              "      <td>небывалый</td>\n",
              "      <td>O</td>\n",
              "      <td>9375</td>\n",
              "    </tr>\n",
              "    <tr>\n",
              "      <th>4</th>\n",
              "      <td>1</td>\n",
              "      <td>жаркий</td>\n",
              "      <td>O</td>\n",
              "      <td>5572</td>\n",
              "    </tr>\n",
              "  </tbody>\n",
              "</table>\n",
              "</div>"
            ],
            "text/plain": [
              "   Sentence #       Word BIO-Tag    ID\n",
              "0           1    однажды       O  1967\n",
              "1           1     весною       O  3866\n",
              "2           1        час  B-TIME   323\n",
              "3           1  небывалый       O  9375\n",
              "4           1     жаркий       O  5572"
            ]
          },
          "metadata": {
            "tags": []
          },
          "execution_count": 38
        }
      ]
    },
    {
      "cell_type": "code",
      "metadata": {
        "id": "P_sZZoEH9bZc"
      },
      "source": [
        "from itertools import chain\n",
        "def get_dict_map(data, token_or_tag):\n",
        "    tok2idx = {}\n",
        "    idx2tok = {}\n",
        "    \n",
        "    if token_or_tag == 'token':\n",
        "        vocab = list(set(data['Word'].to_list()))\n",
        "    else:\n",
        "        vocab = list(set(data['BIO-Tag'].to_list()))\n",
        "    \n",
        "    idx2tok = {idx:tok for  idx, tok in enumerate(vocab)}\n",
        "    tok2idx = {tok:idx for  idx, tok in enumerate(vocab)}\n",
        "    return tok2idx, idx2tok\n",
        "\n",
        "\n",
        "token2idx, idx2token = get_dict_map(data, 'token')\n",
        "tag2idx, idx2tag = get_dict_map(data, 'tag')"
      ],
      "execution_count": null,
      "outputs": []
    },
    {
      "cell_type": "code",
      "metadata": {
        "id": "rdRi1qwf9Onx"
      },
      "source": [
        "data['Tag_idx'] = data['BIO-Tag'].map(tag2idx)"
      ],
      "execution_count": null,
      "outputs": []
    },
    {
      "cell_type": "code",
      "metadata": {
        "id": "DQBlWp8xqsuk",
        "colab": {
          "base_uri": "https://localhost:8080/",
          "height": 350
        },
        "outputId": "f3462655-f899-49ce-f9c6-db43a315b2c0"
      },
      "source": [
        "# Fill na\n",
        "data_fillna = data.fillna(method='ffill', axis=0)\n",
        "# Groupby and collect columns\n",
        "data_group = data_fillna.groupby(['Sentence #'],as_index=False)['Word', 'BIO-Tag', 'ID', 'Tag_idx'].agg(lambda x: list(x))\n",
        "\n",
        "data_group.head()"
      ],
      "execution_count": null,
      "outputs": [
        {
          "output_type": "stream",
          "text": [
            "/usr/local/lib/python3.7/dist-packages/ipykernel_launcher.py:4: FutureWarning: Indexing with multiple keys (implicitly converted to a tuple of keys) will be deprecated, use a list instead.\n",
            "  after removing the cwd from sys.path.\n"
          ],
          "name": "stderr"
        },
        {
          "output_type": "execute_result",
          "data": {
            "text/html": [
              "<div>\n",
              "<style scoped>\n",
              "    .dataframe tbody tr th:only-of-type {\n",
              "        vertical-align: middle;\n",
              "    }\n",
              "\n",
              "    .dataframe tbody tr th {\n",
              "        vertical-align: top;\n",
              "    }\n",
              "\n",
              "    .dataframe thead th {\n",
              "        text-align: right;\n",
              "    }\n",
              "</style>\n",
              "<table border=\"1\" class=\"dataframe\">\n",
              "  <thead>\n",
              "    <tr style=\"text-align: right;\">\n",
              "      <th></th>\n",
              "      <th>Sentence #</th>\n",
              "      <th>Word</th>\n",
              "      <th>BIO-Tag</th>\n",
              "      <th>ID</th>\n",
              "      <th>Tag_idx</th>\n",
              "    </tr>\n",
              "  </thead>\n",
              "  <tbody>\n",
              "    <tr>\n",
              "      <th>0</th>\n",
              "      <td>1</td>\n",
              "      <td>[однажды, весною, час, небывалый, жаркий, зака...</td>\n",
              "      <td>[O, O, B-TIME, O, O, O, B-LOC, B-LOC, I-LOC, O...</td>\n",
              "      <td>[1967, 3866, 323, 9375, 5572, 5573, 151, 294, ...</td>\n",
              "      <td>[10, 10, 11, 10, 10, 10, 2, 2, 8, 10, 1]</td>\n",
              "    </tr>\n",
              "    <tr>\n",
              "      <th>1</th>\n",
              "      <td>2</td>\n",
              "      <td>[первый, одетый, летний, серенький, пара, мале...</td>\n",
              "      <td>[B-PER, O, O, O, O, O, O, O, O, O, O, O, O, O,...</td>\n",
              "      <td>[235, 1265, 5574, 9376, 2357, 1113, 1454, 9377...</td>\n",
              "      <td>[1, 10, 10, 10, 10, 10, 10, 10, 10, 10, 10, 10...</td>\n",
              "    </tr>\n",
              "    <tr>\n",
              "      <th>2</th>\n",
              "      <td>3</td>\n",
              "      <td>[второй, плечистый, рыжеватый, вихрастый, моло...</td>\n",
              "      <td>[B-PER, O, O, O, B-PER, I-PER, O, O, O, O, O, ...</td>\n",
              "      <td>[131, 9382, 5576, 9383, 516, 18, 9384, 1266, 9...</td>\n",
              "      <td>[1, 10, 10, 10, 1, 7, 10, 10, 10, 10, 10, 10, ...</td>\n",
              "    </tr>\n",
              "    <tr>\n",
              "      <th>3</th>\n",
              "      <td>4</td>\n",
              "      <td>[первый, иной, михаил, александрович, берлиоз,...</td>\n",
              "      <td>[B-PER, O, B-PER, I-PER, I-PER, B-PER, O, O, O...</td>\n",
              "      <td>[235, 2900, 995, 996, 55, 344, 1455, 264, 9388...</td>\n",
              "      <td>[1, 10, 1, 7, 7, 1, 10, 10, 10, 0, 5, 5, 10, 1...</td>\n",
              "    </tr>\n",
              "    <tr>\n",
              "      <th>4</th>\n",
              "      <td>5</td>\n",
              "      <td>[попасть, тень, зеленеть, липа, писатель, перв...</td>\n",
              "      <td>[O, O, O, O, B-PER, O, O, O, O, O, O, O, O, O]</td>\n",
              "      <td>[2902, 997, 5582, 2903, 2904, 517, 909, 1660, ...</td>\n",
              "      <td>[10, 10, 10, 10, 1, 10, 10, 10, 10, 10, 10, 10...</td>\n",
              "    </tr>\n",
              "  </tbody>\n",
              "</table>\n",
              "</div>"
            ],
            "text/plain": [
              "   Sentence #  ...                                            Tag_idx\n",
              "0           1  ...           [10, 10, 11, 10, 10, 10, 2, 2, 8, 10, 1]\n",
              "1           2  ...  [1, 10, 10, 10, 10, 10, 10, 10, 10, 10, 10, 10...\n",
              "2           3  ...  [1, 10, 10, 10, 1, 7, 10, 10, 10, 10, 10, 10, ...\n",
              "3           4  ...  [1, 10, 1, 7, 7, 1, 10, 10, 10, 0, 5, 5, 10, 1...\n",
              "4           5  ...  [10, 10, 10, 10, 1, 10, 10, 10, 10, 10, 10, 10...\n",
              "\n",
              "[5 rows x 5 columns]"
            ]
          },
          "metadata": {
            "tags": []
          },
          "execution_count": 41
        }
      ]
    },
    {
      "cell_type": "code",
      "metadata": {
        "id": "ELJO3A3H8m3o"
      },
      "source": [
        "maxlen_word = max([len(s) for s in data_group['ID']])\n",
        "#maxlen_word = 20\n",
        "maxlen_tag = max([len(s) for s in data_group['Tag_idx']])"
      ],
      "execution_count": null,
      "outputs": []
    },
    {
      "cell_type": "code",
      "metadata": {
        "id": "bnrlMmoG9CrD"
      },
      "source": [
        "n_token = len(list(set(data['Word'].to_list())))\n",
        "n_tag = len(list(set(data['BIO-Tag'].to_list())))"
      ],
      "execution_count": null,
      "outputs": []
    },
    {
      "cell_type": "code",
      "metadata": {
        "id": "pLnhy04u93uH"
      },
      "source": [
        "from keras.preprocessing.sequence import pad_sequences\n",
        "\n",
        "data_group['ID'] = [pad_sequences([i], maxlen=maxlen_word, dtype='int32', padding='post', value=n_token) for i in data_group['ID']]\n",
        "data_group['Tag_idx'] = [pad_sequences([i], maxlen=maxlen_tag, dtype='int32', padding='post', value= tag2idx['O']) for i in data_group['Tag_idx']]"
      ],
      "execution_count": null,
      "outputs": []
    },
    {
      "cell_type": "code",
      "metadata": {
        "id": "VrMl_Jxc93km"
      },
      "source": [
        "import numpy as np\n",
        "\n",
        "data_group['ID'] = [np.array(i).flatten() for i in data_group['ID']]\n",
        "data_group['Tag_idx'] = [np.array(i).flatten() for i in data_group['Tag_idx']]"
      ],
      "execution_count": null,
      "outputs": []
    },
    {
      "cell_type": "code",
      "metadata": {
        "colab": {
          "base_uri": "https://localhost:8080/"
        },
        "id": "fjjN02Tn8R0Q",
        "outputId": "67ac118b-0011-4eca-9e26-9568b2ce9988"
      },
      "source": [
        "!pip install keras.utils"
      ],
      "execution_count": null,
      "outputs": [
        {
          "output_type": "stream",
          "text": [
            "Collecting keras.utils\n",
            "  Downloading https://files.pythonhosted.org/packages/31/a2/8be2aee1c8cd388e83d447556c2c84a396944c8bad93d710c5e757f8e98e/keras-utils-1.0.13.tar.gz\n",
            "Requirement already satisfied: Keras>=2.1.5 in /usr/local/lib/python3.7/dist-packages (from keras.utils) (2.4.3)\n",
            "Requirement already satisfied: h5py in /usr/local/lib/python3.7/dist-packages (from Keras>=2.1.5->keras.utils) (3.1.0)\n",
            "Requirement already satisfied: numpy>=1.9.1 in /usr/local/lib/python3.7/dist-packages (from Keras>=2.1.5->keras.utils) (1.19.5)\n",
            "Requirement already satisfied: pyyaml in /usr/local/lib/python3.7/dist-packages (from Keras>=2.1.5->keras.utils) (3.13)\n",
            "Requirement already satisfied: scipy>=0.14 in /usr/local/lib/python3.7/dist-packages (from Keras>=2.1.5->keras.utils) (1.4.1)\n",
            "Requirement already satisfied: cached-property; python_version < \"3.8\" in /usr/local/lib/python3.7/dist-packages (from h5py->Keras>=2.1.5->keras.utils) (1.5.2)\n",
            "Building wheels for collected packages: keras.utils\n",
            "  Building wheel for keras.utils (setup.py) ... \u001b[?25l\u001b[?25hdone\n",
            "  Created wheel for keras.utils: filename=keras_utils-1.0.13-cp37-none-any.whl size=2657 sha256=9798e7bb5c62e2196f3edf60c778f9136a4f698d9a5fbe11f88f1ca042512a72\n",
            "  Stored in directory: /root/.cache/pip/wheels/46/25/27/7707005c1cb27e1ffc8277b004ac295e34767b02b44d73d6be\n",
            "Successfully built keras.utils\n",
            "Installing collected packages: keras.utils\n",
            "Successfully installed keras.utils\n"
          ],
          "name": "stdout"
        }
      ]
    },
    {
      "cell_type": "code",
      "metadata": {
        "id": "L0T7aIge98Ex",
        "colab": {
          "base_uri": "https://localhost:8080/"
        },
        "outputId": "3af82325-e24d-4a5a-c366-bf5370ed6e02"
      },
      "source": [
        "from tensorflow.keras.utils import plot_model, to_categorical\n",
        "from sklearn.model_selection import train_test_split\n",
        "\n",
        "def get_pad_train_test_val(data_group, data):\n",
        "\n",
        "    n_token = len(list(set(data['Word'].to_list())))\n",
        "    n_tag = len(list(set(data['Tag_idx'].to_list())))\n",
        "\n",
        "    tokens = data_group['ID'].tolist()\n",
        "    maxlen = max([len(s) for s in tokens])\n",
        "    pad_tokens = pad_sequences(tokens, maxlen=maxlen, dtype='int32', padding='post', value= n_token)\n",
        "\n",
        "    tags = data_group['Tag_idx'].tolist()\n",
        "    pad_tags = pad_sequences(tags, maxlen=maxlen, dtype='int32', padding='post', value= 1)\n",
        "    n_tags = len(tag2idx)\n",
        "    pad_tags = [to_categorical(i, num_classes=n_tags) for i in pad_tags]\n",
        "    \n",
        "    tokens_, test_tokens, tags_, test_tags = train_test_split(pad_tokens, pad_tags, test_size=0.2, train_size=0.8, shuffle=True)\n",
        "    train_tokens, val_tokens, train_tags, val_tags = train_test_split(tokens_,tags_,test_size = 0.2,train_size =0.8, shuffle=True)\n",
        "\n",
        "    print(\n",
        "        'train_tokens length:', len(train_tokens),\n",
        "        '\\ntrain_tokens length:', len(train_tokens),\n",
        "        '\\ntest_tokens length:', len(test_tokens),\n",
        "        '\\ntest_tags:', len(test_tags),\n",
        "        '\\nval_tokens:', len(val_tokens),\n",
        "        '\\nval_tags:', len(val_tags),\n",
        "    )\n",
        "    \n",
        "    return train_tokens, val_tokens, test_tokens, train_tags, val_tags, test_tags\n",
        "\n",
        "train_tokens, val_tokens, test_tokens, train_tags, val_tags, test_tags = get_pad_train_test_val(data_group, data)\n"
      ],
      "execution_count": null,
      "outputs": [
        {
          "output_type": "stream",
          "text": [
            "train_tokens length: 189 \n",
            "train_tokens length: 189 \n",
            "test_tokens length: 60 \n",
            "test_tags: 60 \n",
            "val_tokens: 48 \n",
            "val_tags: 48\n"
          ],
          "name": "stdout"
        }
      ]
    },
    {
      "cell_type": "code",
      "metadata": {
        "id": "T0_Ce-es-Nf6",
        "colab": {
          "base_uri": "https://localhost:8080/"
        },
        "outputId": "cb6efa26-f6b9-4261-fd23-04e016ddf905"
      },
      "source": [
        "input_dim = len(word2vec.wv.vocab)+1\n",
        "output_dim = 32\n",
        "input_length = max([len(s) for s in data_group['ID']])\n",
        "n_tags = len(tag2idx)\n",
        "print('input_dim: ', input_dim, '\\noutput_dim: ', output_dim, '\\ninput_length: ', input_length, '\\nn_tags: ', n_tags)"
      ],
      "execution_count": null,
      "outputs": [
        {
          "output_type": "stream",
          "text": [
            "input_dim:  23866 \n",
            "output_dim:  32 \n",
            "input_length:  50 \n",
            "n_tags:  14\n"
          ],
          "name": "stdout"
        }
      ]
    },
    {
      "cell_type": "code",
      "metadata": {
        "id": "emBz2D0X-R2S"
      },
      "source": [
        "import tensorflow\n",
        "from tensorflow.keras import Sequential, Model, Input\n",
        "from tensorflow.keras.layers import LSTM, Embedding, Dense, TimeDistributed, Dropout, Bidirectional\n",
        "from tensorflow.keras.utils import plot_model, to_categorical\n",
        "import matplotlib.pyplot as plt\n",
        "\n",
        "\n",
        "def get_bilstm_lstm_model():\n",
        "    model = Sequential()\n",
        "\n",
        "    model.add(Embedding(input_dim=input_dim, output_dim=output_dim, input_length=input_length))\n",
        "\n",
        "    model.add(Bidirectional(LSTM(units=output_dim, return_sequences=True, dropout=0.5, recurrent_dropout=0.2), merge_mode = 'concat'))\n",
        "\n",
        "    model.add(LSTM(units=output_dim, return_sequences=True, dropout=0.5, recurrent_dropout=0.5))\n",
        "\n",
        "    model.add(TimeDistributed(Dense(n_tags, activation=\"tanh\")))\n",
        "\n",
        "    model.compile(loss='categorical_crossentropy', optimizer='nadam', metrics=['accuracy'])\n",
        "    model.summary()\n",
        "    \n",
        "    return model"
      ],
      "execution_count": null,
      "outputs": []
    },
    {
      "cell_type": "code",
      "metadata": {
        "id": "Fb2p0tuS-TbZ"
      },
      "source": [
        "import time\n",
        "from tqdm import tqdm"
      ],
      "execution_count": null,
      "outputs": []
    },
    {
      "cell_type": "code",
      "metadata": {
        "id": "ZS6XbgM6-U5y"
      },
      "source": [
        "def train_model(X, y, model):\n",
        "  hist = model.fit(X, y, verbose=1, epochs=100, validation_split=0.15)\n",
        "  return hist"
      ],
      "execution_count": null,
      "outputs": []
    },
    {
      "cell_type": "code",
      "metadata": {
        "id": "WZCZqHAK-WlJ"
      },
      "source": [
        "results = pd.DataFrame()\n",
        "model_bilstm_lstm = get_bilstm_lstm_model()\n",
        "plot_model(model_bilstm_lstm)\n",
        "results = train_model(train_tokens, np.array(train_tags), model_bilstm_lstm)"
      ],
      "execution_count": null,
      "outputs": []
    },
    {
      "cell_type": "code",
      "metadata": {
        "id": "4vUbFtQi_DbS"
      },
      "source": [
        "model_bilstm_lstm.evaluate(test_tokens, np.array(test_tags))"
      ],
      "execution_count": null,
      "outputs": []
    },
    {
      "cell_type": "code",
      "metadata": {
        "id": "U1weGYn2_G0N"
      },
      "source": [
        "def show(data, pred, true):\n",
        "  k = np.random.randint(0,data.shape[0])\n",
        "  print(\"Номер предложения {} из {} (тестовая выборка)\".format(k, data.shape[0]))\n",
        "  print(\"{:15}||{:5}||{}\".format(\"Слово\", \"Предсказанная\", \"Фактическая\"))\n",
        "\n",
        "  for i in range(len(data[k])):\n",
        "    if data[k][i] != n_token:\n",
        "      print(\"{:15}: {:14} {}\".format(word2vec.wv.index2word[data[k][i]], idx2tag[pred[k][i].argmax()], idx2tag[true[k][i].argmax()]))"
      ],
      "execution_count": null,
      "outputs": []
    },
    {
      "cell_type": "code",
      "metadata": {
        "id": "vHZUsxGy_HvA"
      },
      "source": [
        "def show_(data, pred):\n",
        "  for i in range(len(data)):\n",
        "    if data[i] != n_token:\n",
        "      print(\"{:15}: {:5} {}\".format(word2vec.wv.index2word[data[i]], idx2tag[pred[i].argmax()]))"
      ],
      "execution_count": null,
      "outputs": []
    },
    {
      "cell_type": "code",
      "metadata": {
        "id": "IC7kSwdP2Apb"
      },
      "source": [
        "model_bilstm_lstm.fit(train_tokens, np.array(train_tags), epochs=35)"
      ],
      "execution_count": null,
      "outputs": []
    },
    {
      "cell_type": "code",
      "metadata": {
        "id": "LieyHArHFDjH"
      },
      "source": [
        "model_bilstm_lstm.fit(test_tokens, np.array(test_tags), epochs=20)"
      ],
      "execution_count": null,
      "outputs": []
    },
    {
      "cell_type": "code",
      "metadata": {
        "id": "dpyLNAlE_IvO"
      },
      "source": [
        "a = model_bilstm_lstm.predict(test_tokens)"
      ],
      "execution_count": null,
      "outputs": []
    },
    {
      "cell_type": "code",
      "metadata": {
        "id": "7yKh5K2R_K4J",
        "colab": {
          "base_uri": "https://localhost:8080/"
        },
        "outputId": "1ede3c3a-14fe-4401-d077-bb6afeaa4879"
      },
      "source": [
        "show(test_tokens, a, test_tags)"
      ],
      "execution_count": null,
      "outputs": [
        {
          "output_type": "stream",
          "text": [
            "Номер предложения 52 из 60 (тестовая выборка)\n",
            "Слово          ||Предсказанная||Фактическая\n",
            "торопливо      : O              O\n",
            "отозвался      : O              O\n",
            "арестованный   : B-PER          B-PER\n",
            "всем           : O              O\n",
            "существом      : O              O\n",
            "выражая        : O              O\n",
            "готовность     : O              O\n",
            "отвечать       : O              O\n",
            "толково        : O              O\n",
            "вызывать       : O              O\n",
            "гнева          : O              O\n"
          ],
          "name": "stdout"
        }
      ]
    },
    {
      "cell_type": "code",
      "metadata": {
        "id": "GF6RRjlUBl90"
      },
      "source": [
        "pred = [[idx2tag[i.argmax()]  for i in row] for row in a]\n",
        "true_ = [[idx2tag[i.argmax()] for i in row] for row in test_tags]\n",
        "\n",
        "pred = np.array(pred).flatten()\n",
        "true_ = np.array(true_).flatten()"
      ],
      "execution_count": null,
      "outputs": []
    },
    {
      "cell_type": "code",
      "metadata": {
        "id": "TjSBuVmUAvCq",
        "colab": {
          "base_uri": "https://localhost:8080/"
        },
        "outputId": "d13e7659-a794-41aa-a836-23cede0879b8"
      },
      "source": [
        "from sklearn.metrics import classification_report\n",
        " \n",
        "report = classification_report(y_pred=pred, y_true=true_)\n",
        "print(report)"
      ],
      "execution_count": null,
      "outputs": [
        {
          "output_type": "stream",
          "text": [
            "              precision    recall  f1-score   support\n",
            "\n",
            "      B-DATE       0.00      0.33      0.01         3\n",
            "       B-LOC       0.00      0.14      0.00         7\n",
            "       B-NUM       0.00      0.00      0.00         4\n",
            "       B-PER       0.25      0.22      0.23        77\n",
            "      B-TIME       0.00      0.00      0.00         3\n",
            "      I-DATE       0.00      0.00      0.00         3\n",
            "       I-LOC       0.00      0.00      0.00         1\n",
            "       I-NUM       0.00      0.00      0.00         1\n",
            "       I-PER       0.00      0.00      0.00         6\n",
            "      I-TIME       0.00      0.00      0.00         1\n",
            "           O       0.00      0.00      0.00      2894\n",
            "\n",
            "    accuracy                           0.01      3000\n",
            "   macro avg       0.02      0.06      0.02      3000\n",
            "weighted avg       0.01      0.01      0.01      3000\n",
            "\n"
          ],
          "name": "stdout"
        },
        {
          "output_type": "stream",
          "text": [
            "/usr/local/lib/python3.7/dist-packages/sklearn/metrics/_classification.py:1272: UndefinedMetricWarning: Precision and F-score are ill-defined and being set to 0.0 in labels with no predicted samples. Use `zero_division` parameter to control this behavior.\n",
            "  _warn_prf(average, modifier, msg_start, len(result))\n"
          ],
          "name": "stderr"
        }
      ]
    },
    {
      "cell_type": "code",
      "metadata": {
        "id": "kp-_np9y2yBc"
      },
      "source": [
        "per = data.loc[data['BIO-Tag'].isin(['B-PER', 'I-PER'])]"
      ],
      "execution_count": null,
      "outputs": []
    },
    {
      "cell_type": "code",
      "metadata": {
        "colab": {
          "base_uri": "https://localhost:8080/"
        },
        "id": "3mv5cbGFtn8a",
        "outputId": "de925cda-60bc-448c-89e9-b4cbbc1dd3af"
      },
      "source": [
        "vocab_n = []\n",
        "\n",
        "per = per.groupby(['Sentence #'],as_index=False)['Word', 'BIO-Tag'].agg(lambda x: list(x))"
      ],
      "execution_count": null,
      "outputs": [
        {
          "output_type": "stream",
          "text": [
            "/usr/local/lib/python3.7/dist-packages/ipykernel_launcher.py:3: FutureWarning: Indexing with multiple keys (implicitly converted to a tuple of keys) will be deprecated, use a list instead.\n",
            "  This is separate from the ipykernel package so we can avoid doing imports until\n"
          ],
          "name": "stderr"
        }
      ]
    },
    {
      "cell_type": "code",
      "metadata": {
        "colab": {
          "base_uri": "https://localhost:8080/",
          "height": 278
        },
        "id": "XRo0qCUrLIu_",
        "outputId": "f7b92b89-6857-4aaa-bbfc-fe2c99396605"
      },
      "source": [
        "import matplotlib.pyplot as plt\n",
        "plt.plot(results.history['loss'][2:])\n",
        "plt.plot(results.history['val_loss'][2:])\n",
        "plt.xlabel('Epochs');\n",
        "plt.ylabel('Loss');"
      ],
      "execution_count": null,
      "outputs": [
        {
          "output_type": "display_data",
          "data": {
            "image/png": "[encoded data removed]",
            "text/plain": [
              "<Figure size 432x288 with 1 Axes>"
            ]
          },
          "metadata": {
            "tags": [],
            "needs_background": "light"
          }
        }
      ]
    },
    {
      "cell_type": "code",
      "metadata": {
        "colab": {
          "base_uri": "https://localhost:8080/",
          "height": 278
        },
        "id": "dxIidUkDOt7k",
        "outputId": "349d1bcc-f9a0-498b-c632-ef787d530b54"
      },
      "source": [
        "plt.plot(results.history['accuracy'][2:])\n",
        "plt.plot(results.history['val_accuracy'][2:])\n",
        "plt.xlabel('Epochs');\n",
        "plt.ylabel('Accuracy');"
      ],
      "execution_count": null,
      "outputs": [
        {
          "output_type": "display_data",
          "data": {
            "image/png": "[encoded data removed]",
            "text/plain": [
              "<Figure size 432x288 with 1 Axes>"
            ]
          },
          "metadata": {
            "tags": [],
            "needs_background": "light"
          }
        }
      ]
    },
    {
      "cell_type": "code",
      "metadata": {
        "colab": {
          "base_uri": "https://localhost:8080/"
        },
        "id": "EViR5ga1R4In",
        "outputId": "d3f77fc1-ea53-4f2f-dede-549388fa7ea7"
      },
      "source": [
        "uniform_data"
      ],
      "execution_count": null,
      "outputs": [
        {
          "output_type": "execute_result",
          "data": {
            "text/plain": [
              "array([[0.81928182, 0.39065678, 0.13274454, 0.45206721, 0.53521067,\n",
              "        0.70764372, 0.45682217, 0.99504619, 0.54547367, 0.89984006,\n",
              "        0.08692279, 0.76168914],\n",
              "       [0.4355571 , 0.21840411, 0.59202932, 0.98617892, 0.29171418,\n",
              "        0.40597913, 0.49395946, 0.56732728, 0.82429741, 0.48133541,\n",
              "        0.40774671, 0.85701461],\n",
              "       [0.9811942 , 0.02301693, 0.44441919, 0.79143501, 0.91846883,\n",
              "        0.34905638, 0.91866758, 0.32529252, 0.42781505, 0.47928912,\n",
              "        0.15386083, 0.24783168],\n",
              "       [0.74153987, 0.39922954, 0.84311385, 0.48336885, 0.63082501,\n",
              "        0.22005971, 0.39746643, 0.12173147, 0.79923006, 0.97587342,\n",
              "        0.45185205, 0.52132537],\n",
              "       [0.6993862 , 0.00968184, 0.87230741, 0.17074963, 0.70915983,\n",
              "        0.3971348 , 0.01437514, 0.37048294, 0.03508064, 0.22920043,\n",
              "        0.07276733, 0.77244307],\n",
              "       [0.20616726, 0.59541318, 0.14813519, 0.29542699, 0.98396542,\n",
              "        0.83724838, 0.56695707, 0.0339465 , 0.38239168, 0.32642878,\n",
              "        0.42319863, 0.42802538],\n",
              "       [0.85562486, 0.32221666, 0.68596338, 0.68050007, 0.90211551,\n",
              "        0.23912097, 0.35106934, 0.31403542, 0.74278835, 0.68740481,\n",
              "        0.41143037, 0.04322172],\n",
              "       [0.1008537 , 0.65329659, 0.66704201, 0.68439904, 0.72736394,\n",
              "        0.77256517, 0.77656532, 0.25900177, 0.07739926, 0.94365825,\n",
              "        0.85386363, 0.22743861],\n",
              "       [0.7683074 , 0.43328458, 0.11086642, 0.94479685, 0.38483188,\n",
              "        0.40781922, 0.90827948, 0.52648012, 0.03902613, 0.19927647,\n",
              "        0.66531834, 0.11067915],\n",
              "       [0.01732258, 0.53300291, 0.63203213, 0.30159724, 0.06554133,\n",
              "        0.33787016, 0.23961258, 0.53977292, 0.51051042, 0.11300356,\n",
              "        0.40928356, 0.78882024]])"
            ]
          },
          "metadata": {
            "tags": []
          },
          "execution_count": 303
        }
      ]
    },
    {
      "cell_type": "code",
      "metadata": {
        "id": "EcCb5UQkSw2y"
      },
      "source": [
        "pred_map = [[i.argmax()  for i in row] for row in a]\n",
        "true_map = [[i.argmax() for i in row] for row in test_tags]"
      ],
      "execution_count": null,
      "outputs": []
    },
    {
      "cell_type": "code",
      "metadata": {
        "id": "R7lyHOz5TN9W"
      },
      "source": [
        "pred_map"
      ],
      "execution_count": null,
      "outputs": []
    },
    {
      "cell_type": "code",
      "metadata": {
        "colab": {
          "base_uri": "https://localhost:8080/"
        },
        "id": "H_YML82kQ1bp",
        "outputId": "82e600d7-e7ae-4e3c-a0c7-59e16b318cd2"
      },
      "source": [
        "import seaborn as sns\n",
        "\n",
        "sns.heatmap(pred_map, annot = True)\n"
      ],
      "execution_count": null,
      "outputs": [
        {
          "output_type": "execute_result",
          "data": {
            "text/plain": [
              "<matplotlib.axes._subplots.AxesSubplot at 0x7fd28f833550>"
            ]
          },
          "metadata": {
            "tags": []
          },
          "execution_count": 68
        }
      ]
    },
    {
      "cell_type": "markdown",
      "metadata": {
        "id": "kqMl0xK8LJJ1"
      },
      "source": [
        "#WIKI"
      ]
    },
    {
      "cell_type": "code",
      "metadata": {
        "colab": {
          "base_uri": "https://localhost:8080/"
        },
        "id": "4wjXwl7KUsk3",
        "outputId": "17a1aa7d-f880-47eb-a14f-890dd09bf94c"
      },
      "source": [
        "!pip install wikipedia"
      ],
      "execution_count": null,
      "outputs": [
        {
          "output_type": "stream",
          "text": [
            "Requirement already satisfied: wikipedia in /usr/local/lib/python3.7/dist-packages (1.4.0)\n",
            "Requirement already satisfied: requests<3.0.0,>=2.0.0 in /usr/local/lib/python3.7/dist-packages (from wikipedia) (2.23.0)\n",
            "Requirement already satisfied: beautifulsoup4 in /usr/local/lib/python3.7/dist-packages (from wikipedia) (4.6.3)\n",
            "Requirement already satisfied: idna<3,>=2.5 in /usr/local/lib/python3.7/dist-packages (from requests<3.0.0,>=2.0.0->wikipedia) (2.10)\n",
            "Requirement already satisfied: certifi>=2017.4.17 in /usr/local/lib/python3.7/dist-packages (from requests<3.0.0,>=2.0.0->wikipedia) (2020.12.5)\n",
            "Requirement already satisfied: urllib3!=1.25.0,!=1.25.1,<1.26,>=1.21.1 in /usr/local/lib/python3.7/dist-packages (from requests<3.0.0,>=2.0.0->wikipedia) (1.24.3)\n",
            "Requirement already satisfied: chardet<4,>=3.0.2 in /usr/local/lib/python3.7/dist-packages (from requests<3.0.0,>=2.0.0->wikipedia) (3.0.4)\n"
          ],
          "name": "stdout"
        }
      ]
    },
    {
      "cell_type": "code",
      "metadata": {
        "id": "XhoJGNQgUgZb"
      },
      "source": [
        "import wikipedia\n",
        "\n",
        "wikipedia.set_lang(\"ru\")"
      ],
      "execution_count": null,
      "outputs": []
    },
    {
      "cell_type": "code",
      "metadata": {
        "colab": {
          "base_uri": "https://localhost:8080/"
        },
        "id": "jdLmcNeXYmQb",
        "outputId": "43c9d053-2b0c-483e-d8da-ec2c838891db"
      },
      "source": [
        "word2vec.most_similar('человек')"
      ],
      "execution_count": null,
      "outputs": [
        {
          "output_type": "stream",
          "text": [
            "/usr/local/lib/python3.7/dist-packages/ipykernel_launcher.py:1: DeprecationWarning: Call to deprecated `most_similar` (Method will be removed in 4.0.0, use self.wv.most_similar() instead).\n",
            "  \"\"\"Entry point for launching an IPython kernel.\n"
          ],
          "name": "stderr"
        },
        {
          "output_type": "execute_result",
          "data": {
            "text/plain": [
              "[('площадь', 0.9991255402565002),\n",
              " ('города', 0.9988244771957397),\n",
              " ('николая', 0.9988203048706055),\n",
              " ('записи', 0.9984771013259888),\n",
              " ('17', 0.9983648061752319),\n",
              " ('под', 0.998350203037262),\n",
              " ('третьей', 0.998348593711853),\n",
              " ('бахтадзе', 0.9982965588569641),\n",
              " ('истории', 0.9982510805130005),\n",
              " ('умер', 0.9981808066368103)]"
            ]
          },
          "metadata": {
            "tags": []
          },
          "execution_count": 33
        }
      ]
    },
    {
      "cell_type": "code",
      "metadata": {
        "colab": {
          "base_uri": "https://localhost:8080/"
        },
        "id": "qoW08L6ZbEUE",
        "outputId": "293548e1-f89d-48c2-eb4d-f69072c4ce46"
      },
      "source": [
        "page = []"
      ],
      "execution_count": null,
      "outputs": [
        {
          "output_type": "stream",
          "text": [
            "/usr/local/lib/python3.7/dist-packages/ipykernel_launcher.py:1: DeprecationWarning: Call to deprecated `iter` (Attribute will be removed in 4.0.0, use self.epochs instead).\n",
            "  \"\"\"Entry point for launching an IPython kernel.\n"
          ],
          "name": "stderr"
        },
        {
          "output_type": "execute_result",
          "data": {
            "text/plain": [
              "5"
            ]
          },
          "metadata": {
            "tags": []
          },
          "execution_count": 30
        }
      ]
    },
    {
      "cell_type": "code",
      "metadata": {
        "colab": {
          "base_uri": "https://localhost:8080/"
        },
        "id": "0S7x2LBjXWlR",
        "outputId": "2b231bcf-b18b-4169-804e-7bd1c3fc3ed4"
      },
      "source": [
        "from tqdm import tqdm \n",
        "\n",
        "for i in tqdm(range(500)):\n",
        "  try:\n",
        "    page.append(standardize_text(word_tokenize(wikipedia.page(wikipedia.random()).content)))\n",
        "  except:\n",
        "    print('err')\n",
        "\n",
        "word2vec.build_vocab(page, update=True)\n",
        "word2vec.train(page, total_examples=word2vec.corpus_count, epochs=word2vec.iter)"
      ],
      "execution_count": null,
      "outputs": [
        {
          "output_type": "stream",
          "text": [
            "  0%|          | 1/500 [00:02<17:56,  2.16s/it]/usr/local/lib/python3.7/dist-packages/wikipedia/wikipedia.py:389: UserWarning: No parser was explicitly specified, so I'm using the best available HTML parser for this system (\"lxml\"). This usually isn't a problem, but if you run this code on another system, or in a different virtual environment, it may use a different parser and behave differently.\n",
            "\n",
            "The code that caused this warning is on line 389 of the file /usr/local/lib/python3.7/dist-packages/wikipedia/wikipedia.py. To get rid of this warning, pass the additional argument 'features=\"lxml\"' to the BeautifulSoup constructor.\n",
            "\n",
            "  lis = BeautifulSoup(html).find_all('li')\n",
            "  0%|          | 2/500 [00:03<15:24,  1.86s/it]"
          ],
          "name": "stderr"
        },
        {
          "output_type": "stream",
          "text": [
            "err\n"
          ],
          "name": "stdout"
        },
        {
          "output_type": "stream",
          "text": [
            "  2%|▏         | 12/500 [00:20<13:44,  1.69s/it]"
          ],
          "name": "stderr"
        },
        {
          "output_type": "stream",
          "text": [
            "err\n"
          ],
          "name": "stdout"
        },
        {
          "output_type": "stream",
          "text": [
            "  3%|▎         | 16/500 [00:27<13:55,  1.73s/it]"
          ],
          "name": "stderr"
        },
        {
          "output_type": "stream",
          "text": [
            "err\n"
          ],
          "name": "stdout"
        },
        {
          "output_type": "stream",
          "text": [
            "  7%|▋         | 37/500 [01:07<17:05,  2.21s/it]"
          ],
          "name": "stderr"
        },
        {
          "output_type": "stream",
          "text": [
            "err\n"
          ],
          "name": "stdout"
        },
        {
          "output_type": "stream",
          "text": [
            "  9%|▊         | 43/500 [01:19<14:07,  1.86s/it]"
          ],
          "name": "stderr"
        },
        {
          "output_type": "stream",
          "text": [
            "err\n"
          ],
          "name": "stdout"
        },
        {
          "output_type": "stream",
          "text": [
            " 10%|█         | 51/500 [01:32<11:28,  1.53s/it]"
          ],
          "name": "stderr"
        },
        {
          "output_type": "stream",
          "text": [
            "err\n"
          ],
          "name": "stdout"
        },
        {
          "output_type": "stream",
          "text": [
            "\r 10%|█         | 52/500 [01:33<10:30,  1.41s/it]"
          ],
          "name": "stderr"
        },
        {
          "output_type": "stream",
          "text": [
            "err\n"
          ],
          "name": "stdout"
        },
        {
          "output_type": "stream",
          "text": [
            " 12%|█▏        | 59/500 [01:46<11:56,  1.63s/it]"
          ],
          "name": "stderr"
        },
        {
          "output_type": "stream",
          "text": [
            "err\n"
          ],
          "name": "stdout"
        },
        {
          "output_type": "stream",
          "text": [
            " 13%|█▎        | 66/500 [01:59<13:15,  1.83s/it]"
          ],
          "name": "stderr"
        },
        {
          "output_type": "stream",
          "text": [
            "err\n"
          ],
          "name": "stdout"
        },
        {
          "output_type": "stream",
          "text": [
            " 14%|█▎        | 68/500 [02:02<10:36,  1.47s/it]"
          ],
          "name": "stderr"
        },
        {
          "output_type": "stream",
          "text": [
            "err\n"
          ],
          "name": "stdout"
        },
        {
          "output_type": "stream",
          "text": [
            " 18%|█▊        | 92/500 [02:45<11:23,  1.67s/it]"
          ],
          "name": "stderr"
        },
        {
          "output_type": "stream",
          "text": [
            "err\n"
          ],
          "name": "stdout"
        },
        {
          "output_type": "stream",
          "text": [
            " 19%|█▉        | 96/500 [02:53<12:28,  1.85s/it]"
          ],
          "name": "stderr"
        },
        {
          "output_type": "stream",
          "text": [
            "err\n"
          ],
          "name": "stdout"
        },
        {
          "output_type": "stream",
          "text": [
            " 20%|██        | 102/500 [03:03<10:59,  1.66s/it]"
          ],
          "name": "stderr"
        },
        {
          "output_type": "stream",
          "text": [
            "err\n"
          ],
          "name": "stdout"
        },
        {
          "output_type": "stream",
          "text": [
            " 28%|██▊       | 142/500 [04:26<10:41,  1.79s/it]"
          ],
          "name": "stderr"
        },
        {
          "output_type": "stream",
          "text": [
            "err\n"
          ],
          "name": "stdout"
        },
        {
          "output_type": "stream",
          "text": [
            " 30%|██▉       | 148/500 [04:35<08:40,  1.48s/it]"
          ],
          "name": "stderr"
        },
        {
          "output_type": "stream",
          "text": [
            "err\n"
          ],
          "name": "stdout"
        },
        {
          "output_type": "stream",
          "text": [
            " 32%|███▏      | 160/500 [04:58<08:45,  1.55s/it]"
          ],
          "name": "stderr"
        },
        {
          "output_type": "stream",
          "text": [
            "err\n"
          ],
          "name": "stdout"
        },
        {
          "output_type": "stream",
          "text": [
            " 34%|███▍      | 171/500 [05:14<08:09,  1.49s/it]"
          ],
          "name": "stderr"
        },
        {
          "output_type": "stream",
          "text": [
            "err\n"
          ],
          "name": "stdout"
        },
        {
          "output_type": "stream",
          "text": [
            " 35%|███▍      | 174/500 [05:18<06:41,  1.23s/it]"
          ],
          "name": "stderr"
        },
        {
          "output_type": "stream",
          "text": [
            "err\n"
          ],
          "name": "stdout"
        },
        {
          "output_type": "stream",
          "text": [
            " 41%|████      | 205/500 [06:10<06:59,  1.42s/it]"
          ],
          "name": "stderr"
        },
        {
          "output_type": "stream",
          "text": [
            "err\n"
          ],
          "name": "stdout"
        },
        {
          "output_type": "stream",
          "text": [
            " 42%|████▏     | 210/500 [06:18<07:07,  1.47s/it]"
          ],
          "name": "stderr"
        },
        {
          "output_type": "stream",
          "text": [
            "err\n"
          ],
          "name": "stdout"
        },
        {
          "output_type": "stream",
          "text": [
            " 43%|████▎     | 214/500 [06:25<07:06,  1.49s/it]"
          ],
          "name": "stderr"
        },
        {
          "output_type": "stream",
          "text": [
            "err\n"
          ],
          "name": "stdout"
        },
        {
          "output_type": "stream",
          "text": [
            " 46%|████▌     | 229/500 [06:51<06:37,  1.47s/it]"
          ],
          "name": "stderr"
        },
        {
          "output_type": "stream",
          "text": [
            "err\n"
          ],
          "name": "stdout"
        },
        {
          "output_type": "stream",
          "text": [
            "\r 46%|████▌     | 230/500 [06:52<06:05,  1.35s/it]"
          ],
          "name": "stderr"
        },
        {
          "output_type": "stream",
          "text": [
            "err\n"
          ],
          "name": "stdout"
        },
        {
          "output_type": "stream",
          "text": [
            " 47%|████▋     | 234/500 [06:59<07:03,  1.59s/it]"
          ],
          "name": "stderr"
        },
        {
          "output_type": "stream",
          "text": [
            "err\n"
          ],
          "name": "stdout"
        },
        {
          "output_type": "stream",
          "text": [
            " 53%|█████▎    | 265/500 [07:54<05:09,  1.32s/it]"
          ],
          "name": "stderr"
        },
        {
          "output_type": "stream",
          "text": [
            "err\n"
          ],
          "name": "stdout"
        },
        {
          "output_type": "stream",
          "text": [
            " 54%|█████▎    | 268/500 [08:00<05:54,  1.53s/it]"
          ],
          "name": "stderr"
        },
        {
          "output_type": "stream",
          "text": [
            "err\n"
          ],
          "name": "stdout"
        },
        {
          "output_type": "stream",
          "text": [
            " 57%|█████▋    | 285/500 [08:31<05:53,  1.64s/it]"
          ],
          "name": "stderr"
        },
        {
          "output_type": "stream",
          "text": [
            "err\n"
          ],
          "name": "stdout"
        },
        {
          "output_type": "stream",
          "text": [
            " 58%|█████▊    | 291/500 [08:41<05:34,  1.60s/it]"
          ],
          "name": "stderr"
        },
        {
          "output_type": "stream",
          "text": [
            "err\n"
          ],
          "name": "stdout"
        },
        {
          "output_type": "stream",
          "text": [
            " 61%|██████    | 305/500 [09:07<05:03,  1.56s/it]"
          ],
          "name": "stderr"
        },
        {
          "output_type": "stream",
          "text": [
            "err\n"
          ],
          "name": "stdout"
        },
        {
          "output_type": "stream",
          "text": [
            " 62%|██████▏   | 309/500 [09:13<04:43,  1.49s/it]"
          ],
          "name": "stderr"
        },
        {
          "output_type": "stream",
          "text": [
            "err\n"
          ],
          "name": "stdout"
        },
        {
          "output_type": "stream",
          "text": [
            " 65%|██████▌   | 325/500 [09:39<04:10,  1.43s/it]"
          ],
          "name": "stderr"
        },
        {
          "output_type": "stream",
          "text": [
            "err\n"
          ],
          "name": "stdout"
        },
        {
          "output_type": "stream",
          "text": [
            " 70%|██████▉   | 349/500 [10:19<03:30,  1.40s/it]"
          ],
          "name": "stderr"
        },
        {
          "output_type": "stream",
          "text": [
            "err\n"
          ],
          "name": "stdout"
        },
        {
          "output_type": "stream",
          "text": [
            " 70%|███████   | 351/500 [10:24<04:22,  1.76s/it]"
          ],
          "name": "stderr"
        },
        {
          "output_type": "stream",
          "text": [
            "err\n"
          ],
          "name": "stdout"
        },
        {
          "output_type": "stream",
          "text": [
            " 76%|███████▌  | 379/500 [11:11<02:50,  1.41s/it]"
          ],
          "name": "stderr"
        },
        {
          "output_type": "stream",
          "text": [
            "err\n"
          ],
          "name": "stdout"
        },
        {
          "output_type": "stream",
          "text": [
            " 79%|███████▉  | 397/500 [11:47<03:08,  1.83s/it]"
          ],
          "name": "stderr"
        },
        {
          "output_type": "stream",
          "text": [
            "err\n"
          ],
          "name": "stdout"
        },
        {
          "output_type": "stream",
          "text": [
            " 85%|████████▍ | 423/500 [12:33<02:06,  1.65s/it]"
          ],
          "name": "stderr"
        },
        {
          "output_type": "stream",
          "text": [
            "err\n"
          ],
          "name": "stdout"
        },
        {
          "output_type": "stream",
          "text": [
            " 86%|████████▌ | 431/500 [12:47<01:54,  1.66s/it]"
          ],
          "name": "stderr"
        },
        {
          "output_type": "stream",
          "text": [
            "err\n"
          ],
          "name": "stdout"
        },
        {
          "output_type": "stream",
          "text": [
            " 90%|████████▉ | 448/500 [13:15<01:14,  1.44s/it]"
          ],
          "name": "stderr"
        },
        {
          "output_type": "stream",
          "text": [
            "err\n"
          ],
          "name": "stdout"
        },
        {
          "output_type": "stream",
          "text": [
            "\r 90%|████████▉ | 449/500 [13:16<01:08,  1.34s/it]"
          ],
          "name": "stderr"
        },
        {
          "output_type": "stream",
          "text": [
            "err\n"
          ],
          "name": "stdout"
        },
        {
          "output_type": "stream",
          "text": [
            " 93%|█████████▎| 467/500 [13:53<01:07,  2.03s/it]"
          ],
          "name": "stderr"
        },
        {
          "output_type": "stream",
          "text": [
            "err\n"
          ],
          "name": "stdout"
        },
        {
          "output_type": "stream",
          "text": [
            " 94%|█████████▍| 471/500 [14:02<00:54,  1.87s/it]"
          ],
          "name": "stderr"
        },
        {
          "output_type": "stream",
          "text": [
            "err\n"
          ],
          "name": "stdout"
        },
        {
          "output_type": "stream",
          "text": [
            " 97%|█████████▋| 485/500 [14:25<00:23,  1.57s/it]"
          ],
          "name": "stderr"
        },
        {
          "output_type": "stream",
          "text": [
            "err\n"
          ],
          "name": "stdout"
        },
        {
          "output_type": "stream",
          "text": [
            " 98%|█████████▊| 491/500 [14:35<00:13,  1.49s/it]"
          ],
          "name": "stderr"
        },
        {
          "output_type": "stream",
          "text": [
            "err\n"
          ],
          "name": "stdout"
        },
        {
          "output_type": "stream",
          "text": [
            "\r 98%|█████████▊| 492/500 [14:36<00:11,  1.40s/it]"
          ],
          "name": "stderr"
        },
        {
          "output_type": "stream",
          "text": [
            "err\n"
          ],
          "name": "stdout"
        },
        {
          "output_type": "stream",
          "text": [
            "100%|██████████| 500/500 [14:50<00:00,  1.78s/it]\n",
            "/usr/local/lib/python3.7/dist-packages/ipykernel_launcher.py:10: DeprecationWarning: Call to deprecated `iter` (Attribute will be removed in 4.0.0, use self.epochs instead).\n",
            "  # Remove the CWD from sys.path while we load stuff.\n"
          ],
          "name": "stderr"
        }
      ]
    },
    {
      "cell_type": "code",
      "metadata": {
        "id": "KrdBQoeAxJZx"
      },
      "source": [
        ""
      ],
      "execution_count": null,
      "outputs": []
    }
  ]
}